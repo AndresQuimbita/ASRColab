{
  "cells": [
    {
      "attachments": {},
      "cell_type": "markdown",
      "metadata": {
        "colab_type": "text",
        "id": "view-in-github"
      },
      "source": [
        "<a href=\"https://colab.research.google.com/github/AndresQuimbita/teat1/blob/main/Copy_of_Fine_tuning_Wav2Vec2_for_English_ASR.ipynb\" target=\"_parent\"><img src=\"https://colab.research.google.com/assets/colab-badge.svg\" alt=\"Open In Colab\"/></a>"
      ]
    },
    {
      "attachments": {},
      "cell_type": "markdown",
      "metadata": {
        "id": "LBSYoWbi-45k"
      },
      "source": [
        "# **Fine-tuning Wav2Vec2 for English ASR with 🤗 Transformers**"
      ]
    },
    {
      "attachments": {},
      "cell_type": "markdown",
      "metadata": {
        "id": "V7YOT2mnUiea"
      },
      "source": [
        "Wav2Vec2 is a pretrained model for Automatic Speech Recognition (ASR) and was released in [September 2020](https://ai.facebook.com/blog/wav2vec-20-learning-the-structure-of-speech-from-raw-audio/) by Alexei Baevski, Michael Auli, and Alex Conneau.\n",
        "\n",
        "Using a novel contrastive pretraining objective, Wav2Vec2 learns powerful speech representations from more than 50.000 hours of unlabeled speech. Similar, to [BERT's masked language modeling](http://jalammar.github.io/illustrated-bert/), the model learns contextualized speech representations by randomly masking feature vectors before passing them to a transformer network.\n",
        "\n",
        "![wav2vec2_structure](https://raw.githubusercontent.com/patrickvonplaten/scientific_images/master/wav2vec2.png)\n",
        "\n",
        "For the first time, it has been shown that pretraining, followed by fine-tuning on very little labeled speech data achieves competitive results to state-of-the-art ASR systems. Using as little as 10 minutes of labeled data, Wav2Vec2 yields a word error rate (WER) of less than 5% on the clean test set of [LibriSpeech](https://huggingface.co/datasets/librispeech_asr) - *cf.* with Table 9 of the [paper](https://arxiv.org/pdf/2006.11477.pdf)."
      ]
    },
    {
      "attachments": {},
      "cell_type": "markdown",
      "metadata": {
        "id": "nT_QrfWtsxIz"
      },
      "source": [
        "In this notebook, we will give an in-detail explanation of how Wav2Vec2's pretrained checkpoints can be fine-tuned on any English ASR dataset. Note that in this notebook, we will fine-tune Wav2Vec2 without making use of a language model. It is much simpler to use Wav2Vec2 without a language model as an end-to-end ASR system and it has been shown that a standalone Wav2Vec2 acoustic model achieves impressive results. For demonstration purposes, we fine-tune the \"base\"-sized [pretrained checkpoint](https://huggingface.co/facebook/wav2vec2-base) on the rather small [Timit](https://huggingface.co/datasets/timit_asr) dataset that contains just 5h of training data."
      ]
    },
    {
      "attachments": {},
      "cell_type": "markdown",
      "metadata": {
        "id": "Gx9OdDYrCtQ1"
      },
      "source": [
        "Wav2Vec2 is fine-tuned using Connectionist Temporal Classification (CTC), which is an algorithm that is used to train neural networks for sequence-to-sequence problems and mainly in Automatic Speech Recognition and handwriting recognition.\n",
        "\n",
        "I highly recommend reading the blog post [Sequence Modeling with CTC (2017)](https://distill.pub/2017/ctc/) very well-written blog post by Awni Hannun."
      ]
    },
    {
      "attachments": {},
      "cell_type": "markdown",
      "metadata": {
        "id": "qW3J3rBizeds"
      },
      "source": [
        "First, let's try to get a good GPU in our colab! With Google Colab's free version it's sadly becoming much harder to get access to a good GPU. With Google Colab Pro, one has a much easier time getting access to a V100 or P100 GPU however."
      ]
    },
    {
      "cell_type": "code",
      "execution_count": 60,
      "metadata": {
        "colab": {
          "base_uri": "https://localhost:8080/"
        },
        "id": "SLAufgh_xxj7",
        "outputId": "5435e0be-d50b-47da-a311-124a6b057d69"
      },
      "outputs": [
        {
          "name": "stdout",
          "output_type": "stream",
          "text": [
<<<<<<< HEAD
            "Mon Jul  3 10:19:37 2023       \n",
=======
            "Thu Jun 29 15:12:56 2023       \n",
>>>>>>> 1fae78210ecef984ce04102cfc01f97868a04ab3
            "+-----------------------------------------------------------------------------+\n",
            "| NVIDIA-SMI 525.116.04   Driver Version: 525.116.04   CUDA Version: 12.0     |\n",
            "|-------------------------------+----------------------+----------------------+\n",
            "| GPU  Name        Persistence-M| Bus-Id        Disp.A | Volatile Uncorr. ECC |\n",
            "| Fan  Temp  Perf  Pwr:Usage/Cap|         Memory-Usage | GPU-Util  Compute M. |\n",
            "|                               |                      |               MIG M. |\n",
            "|===============================+======================+======================|\n",
            "|   0  NVIDIA RTX A4000    Off  | 00000000:B3:00.0  On |                  Off |\n",
<<<<<<< HEAD
            "| 41%   35C    P8    18W / 140W |    417MiB / 16376MiB |     12%      Default |\n",
=======
            "| 41%   42C    P8    21W / 140W |    528MiB / 16376MiB |      5%      Default |\n",
>>>>>>> 1fae78210ecef984ce04102cfc01f97868a04ab3
            "|                               |                      |                  N/A |\n",
            "+-------------------------------+----------------------+----------------------+\n",
            "                                                                               \n",
            "+-----------------------------------------------------------------------------+\n",
            "| Processes:                                                                  |\n",
            "|  GPU   GI   CI        PID   Type   Process name                  GPU Memory |\n",
            "|        ID   ID                                                   Usage      |\n",
            "|=============================================================================|\n",
<<<<<<< HEAD
            "|    0   N/A  N/A      1713      G   /usr/lib/xorg/Xorg                 39MiB |\n",
            "|    0   N/A  N/A      3009      G   /usr/lib/xorg/Xorg                 95MiB |\n",
            "|    0   N/A  N/A      3151      G   /usr/bin/gnome-shell              126MiB |\n",
            "|    0   N/A  N/A      3685      G   ...RendererForSitePerProcess      146MiB |\n",
=======
            "|    0   N/A  N/A      1663      G   /usr/lib/xorg/Xorg                 39MiB |\n",
            "|    0   N/A  N/A      2948      G   /usr/lib/xorg/Xorg                119MiB |\n",
            "|    0   N/A  N/A      3086      G   /usr/bin/gnome-shell               51MiB |\n",
            "|    0   N/A  N/A     46431      G   /usr/lib/firefox/firefox          141MiB |\n",
            "|    0   N/A  N/A     56008      G   ...RendererForSitePerProcess      166MiB |\n",
>>>>>>> 1fae78210ecef984ce04102cfc01f97868a04ab3
            "+-----------------------------------------------------------------------------+\n"
          ]
        }
      ],
      "source": [
        "gpu_info = !nvidia-smi\n",
        "gpu_info = '\\n'.join(gpu_info)\n",
        "if gpu_info.find('failed') >= 0:\n",
        "  print('Not connected to a GPU')\n",
        "else:\n",
        "  print(gpu_info)"
      ]
    },
    {
      "attachments": {},
      "cell_type": "markdown",
      "metadata": {
        "id": "e335hPmdtASZ"
      },
      "source": [
        "Before we start, let's install both `datasets` and `transformers` from master. Also, we need the `librosa` package to load audio files and the `jiwer` to evaluate our fine-tuned model using the [word error rate (WER)](https://huggingface.co/metrics/wer) metric ${}^1$."
      ]
    },
    {
      "cell_type": "code",
      "execution_count": 61,
      "metadata": {
        "id": "c8eh87Hoee5d"
      },
      "outputs": [],
      "source": [
        "%%capture\n",
        "!pip install datasets==1.18.3\n",
        "!pip install transformers==4.17.0\n",
        "!pip install jiwer\n",
        "!pip install huggingface_hub"
      ]
    },
    {
      "attachments": {},
      "cell_type": "markdown",
      "metadata": {
        "id": "8_6kYmDMH9lR"
      },
      "source": [
        "Next we strongly suggest to upload your training checkpoints directly to the [🤗 Hub](https://huggingface.co/) while training. The [🤗 Hub](https://huggingface.co/) has integrated version control so you can be sure that no model checkpoint is getting lost during training.\n",
        "\n",
        "To do so you have to store your authentication token from the Hugging Face website (sign up [here](https://huggingface.co/join) if you haven't already!)"
      ]
    },
    {
      "cell_type": "code",
      "execution_count": 62,
      "metadata": {
        "colab": {
          "base_uri": "https://localhost:8080/",
          "height": 331,
          "referenced_widgets": [
            "72c60eb7db764e16a9d47ad4fc87dd10",
            "81e2c1fadd6546b18a39555d44a9ab3c",
            "51a7cab310ae4385b30bcf6d828c5bd7",
            "97b1d29fb759427b9a3ced885b12c49b",
            "c7053e32145d4599bda83ae1372cf54a",
            "ed33c55d50234c32b15798b747153ad2",
            "ed4a76509a9e43a285bed77e8415e170",
            "b5618e9ca055470595027435969b9765",
            "14a6810e336a473cbcef56c1b6ed59cf",
            "3ee80b72a2e348c8a92af98b5d666c13",
            "d30d4923454e4f8aaf4341f0d9e4f794",
            "dba9c380625243a6a7f90c8914ff9455",
            "f30802e504624b37b3c4a469c5ecaef2",
            "05b403993fc04c128fe3423e16085529",
            "ea0718a03fa84612a83032464c755bde",
            "8991f9f2abeb49e2bd10caf24403f472",
            "ae9d87d903c4420db700f043fe197154"
          ]
        },
        "id": "zFLBDyzQIA3R",
        "outputId": "1dd54b29-2183-4e31-f610-96e516c12b08"
      },
      "outputs": [
        {
          "data": {
            "application/vnd.jupyter.widget-view+json": {
<<<<<<< HEAD
              "model_id": "e8834550251943138b2f8ac245af5995",
=======
              "model_id": "5402352cfef64327a358983a67d96133",
>>>>>>> 1fae78210ecef984ce04102cfc01f97868a04ab3
              "version_major": 2,
              "version_minor": 0
            },
            "text/plain": [
              "VBox(children=(HTML(value='<center> <img\\nsrc=https://huggingface.co/front/assets/huggingface_logo-noborder.sv…"
            ]
          },
          "metadata": {},
          "output_type": "display_data"
        }
      ],
      "source": [
        "from huggingface_hub import notebook_login\n",
        "\n",
        "notebook_login()"
      ]
    },
    {
      "attachments": {},
      "cell_type": "markdown",
      "metadata": {
        "id": "zCyw5D23IQ1F"
      },
      "source": [
        "\n",
        "Then you need to install Git-LFS to upload your model checkpoints:"
      ]
    },
    {
      "cell_type": "code",
      "execution_count": 63,
      "metadata": {
        "id": "Q9BnQDhOITBC"
      },
      "outputs": [],
      "source": [
        "%%capture\n",
        "!apt install git-lfs"
      ]
    },
    {
      "attachments": {},
      "cell_type": "markdown",
      "metadata": {
        "id": "Mn9swf6EQ9Vd"
      },
      "source": [
        "\n",
        "\n",
        "\n",
        "---\n",
        "\n",
        "${}^1$ Timit is usually evaluated using the phoneme error rate (PER), but by far the most common metric in ASR is the word error rate (WER). To keep this notebook as general as possible we decided to evaluate the model using WER."
      ]
    },
    {
      "attachments": {},
      "cell_type": "markdown",
      "metadata": {
        "id": "0mW-C1Nt-j7k"
      },
      "source": [
        "## Prepare Data, Tokenizer, Feature Extractor"
      ]
    },
    {
      "attachments": {},
      "cell_type": "markdown",
      "metadata": {
        "id": "BeBosnY9BH3e"
      },
      "source": [
        "ASR models transcribe speech to text, which means that we both need a feature extractor that processes the speech signal to the model's input format, *e.g.* a feature vector, and a tokenizer that processes the model's output format to text.\n",
        "\n",
        "In 🤗 Transformers, the Wav2Vec2 model is thus accompanied by both a tokenizer, called [Wav2Vec2CTCTokenizer](https://huggingface.co/transformers/master/model_doc/wav2vec2.html#wav2vec2ctctokenizer), and a feature extractor, called [Wav2Vec2FeatureExtractor](https://huggingface.co/transformers/master/model_doc/wav2vec2.html#wav2vec2featureextractor).\n",
        "\n",
        "Let's start by creating the tokenizer responsible for decoding the model's predictions."
      ]
    },
    {
      "attachments": {},
      "cell_type": "markdown",
      "metadata": {
        "id": "sEXEWEJGQPqD"
      },
      "source": [
        "### Create Wav2Vec2CTCTokenizer"
      ]
    },
    {
      "attachments": {},
      "cell_type": "markdown",
      "metadata": {
        "id": "tWmMikuNEKl_"
      },
      "source": [
        "The [pretrained Wav2Vec2 checkpoint]( ) maps the speech signal to a sequence of context representations as illustrated in the figure above. A fine-tuned Wav2Vec2 checkpoint needs to map this sequence of context representations to its corresponding transcription so that a linear layer has to be added on top of the transformer block (shown in yellow). This linear layer is used to classifies each context representation to a token class analogous how, *e.g.*, after pretraining a linear layer is added on top of BERT's embeddings for further classification - *cf.* with *\"BERT\"* section of this [blog post](https://huggingface.co/blog/warm-starting-encoder-decoder).\n",
        "\n",
        "The output size of this layer corresponds to the number of tokens in the vocabulary, which does **not** depend on Wav2Vec2's pretraining task, but only on the labeled dataset used for fine-tuning. So in the first step, we will take a look at Timit and define a vocabulary based on the dataset's transcriptions."
      ]
    },
    {
      "attachments": {},
      "cell_type": "markdown",
      "metadata": {
        "id": "bee4g9rpLxll"
      },
      "source": [
        "Let's start by loading the dataset and taking a look at its structure."
      ]
    },
    {
      "cell_type": "code",
      "execution_count": 64,
      "metadata": {
        "colab": {
          "base_uri": "https://localhost:8080/",
          "height": 200,
          "referenced_widgets": [
            "35cff9996fa5410485f6a9cba04dee0d",
            "f2f1d919308042c4b730658cee357374",
            "f261eb96f32540b7aba59bf5707bee6f",
            "c453ed86ee824b5e88d15c5bce35009b",
            "45f9dd1c05be47e8a0dd90af375756ac",
            "72ba30f58e904ad786e9f82deabebc75",
            "a3f2cbce0fc0419191259ba1735ffa94",
            "8539d6c12248447fa989335fb92a348f",
            "f20725df466c4b8b9bc96fce2d1c6ff8",
            "abd948814c014a9eb6d68529c3590e92",
            "700ef7e95cf94d7e9dbeb58d605eca5d",
            "03d71c90397247f7a0b46f02be423a66",
            "7ba0b13ba0604b26afe63e5dc86e2f1e",
            "41ff8cbd05464696b86989bf3c39c1e3",
            "a84b851075bf4773a463ed24a2f3eb24",
            "6f7688e6cf04412ab2dac06baeb4e666",
            "c1e0fc4107fb49fe84bb21fd721a8ecb",
            "2a011e9f253e4cef8f52f45c110c0295",
            "196c5d364c0a45d1b07cb8c1850eae8e",
            "ac7622d9634c46db895530963f553494",
            "2ca52ebaf2be48d5a4b8b4138906be85",
            "7317708554854b4fb5c2ee08e0f4f894",
            "dc79c99877844fc3b5eb05be646c495f",
            "9424cc47106a455ab18c0870d046ce9f",
            "b8c9bc669d8c4651882c214aafb0548e",
            "ddb52ffa6f634053927e93f997337419",
            "b2310446607e44f5b8e38862581b510a",
            "090847f7912e496fbc1ef8673674c1ed",
            "15e195a2c3044feababc62304301f14f",
            "667cac3e3c364fed95c9d4cd30ec2466",
            "43c07bbb17534fa9932770d689dc821b",
            "89e51090498545259c216a5a1b59072f",
            "489bec937040484ea1164c317f07a4ad",
            "a7e5e39c8be1422fb1e47567857d681d",
            "90bb8035c7b745088e6f69368e770224",
            "ac756dc57a4748b8b29e490186774de6",
            "6875e568704e45648e7230c0fe52ffb8",
            "cfddbf192a4948c5a35d9c9c28227969",
            "d7934693aa974d6781b84f71bac59e71",
            "cc4dd57866ff4080913e33d0b1cf49af",
            "d42cbd433408441ead2be0400c5d97c7",
            "3cbbf50821414139bf7924b2a66912ba",
            "5bc51e6bf9d0484baf014fb352155e15",
            "73f206f8a18e42cca2630b1c3fbbdd17",
            "c95cde469c924220956b0222cd470c90",
            "d31e0dcd59bd4153a392e18dba2ee1c2",
            "adc1d50d41744b49bb5dfb3a4f5aa770",
            "1a36d660c6474845bbfdcffffb6dcc68",
            "dab4414a1d4a4e94a4845dd9dcc5783a",
            "556b2a49b0f04518a0c925f7d448fcd9",
            "e6f98082a67646158b8d3e36f9de5115",
            "c705539579af4dd890312dc6eca591ac",
            "adfa07960f1243a78e890a968155eac5",
            "7b2e3d37cdef4f5282f01745c3b1a0f4",
            "7b694dd16e54443f8da6af91b1ecd821",
            "6371ee68de1c457696f0f5f467a4ab20",
            "8d544fd2a20e410887d14bed2c1abf66",
            "b04e77f560024855b050ec5d48d8a26c",
            "786d3890c8a74b6b933389a08be4529f",
            "1504d726f2f448b4a9b36d5034f3d138",
            "a7184f5b92f0441fa10120fde326efb4",
            "70723978a71b47969d9952bcef9c2a0d",
            "280663ff96ce499aa0cb7bca67f59a85",
            "9a2fe7c5597647e881612cd18a8467b1",
            "cda1ca853c9c413798584217aa65efb9",
            "4796a0a689924d089c229046ba162058"
          ]
        },
        "id": "2MMXcWFFgCXU",
        "outputId": "281c89cb-d69e-41ff-86f0-7409f307462e"
      },
      "outputs": [
        {
          "name": "stderr",
          "output_type": "stream",
          "text": [
            "Reusing dataset timit_asr (/home/cslab03/.cache/huggingface/datasets/timit_asr/clean/2.0.1/b11b576ddcccbcefa7c9f0c4e6c2a43756f3033adffe0fb686aa61043d0450ad)\n",
            "100%|██████████| 2/2 [00:00<00:00, 214.65it/s]\n"
          ]
<<<<<<< HEAD
        },
        {
          "data": {
            "application/vnd.jupyter.widget-view+json": {
              "model_id": "6e8af870d68b44a4a77d2dceb1fa353e",
              "version_major": 2,
              "version_minor": 0
            },
            "text/plain": [
              "  0%|          | 0/2 [00:00<?, ?it/s]"
            ]
          },
          "metadata": {},
          "output_type": "display_data"
=======
>>>>>>> 1fae78210ecef984ce04102cfc01f97868a04ab3
        }
      ],
      "source": [
        "from datasets import load_dataset, load_metric\n",
        "\n",
        "timit = load_dataset(\"timit_asr\")"
      ]
    },
    {
      "cell_type": "code",
      "execution_count": 65,
      "metadata": {
        "colab": {
          "base_uri": "https://localhost:8080/"
        },
        "id": "QbIM-L0xdvf4",
        "outputId": "d4144763-5b7d-47f6-fb72-96fe1022a18e"
      },
      "outputs": [
        {
          "data": {
            "text/plain": [
              "DatasetDict({\n",
              "    train: Dataset({\n",
              "        features: ['file', 'audio', 'text', 'phonetic_detail', 'word_detail', 'dialect_region', 'sentence_type', 'speaker_id', 'id'],\n",
              "        num_rows: 4620\n",
              "    })\n",
              "    test: Dataset({\n",
              "        features: ['file', 'audio', 'text', 'phonetic_detail', 'word_detail', 'dialect_region', 'sentence_type', 'speaker_id', 'id'],\n",
              "        num_rows: 1680\n",
              "    })\n",
              "})"
            ]
          },
          "execution_count": 65,
          "metadata": {},
          "output_type": "execute_result"
        }
      ],
      "source": [
        "timit"
      ]
    },
    {
      "attachments": {},
      "cell_type": "markdown",
      "metadata": {
        "id": "ri5y5N_HMANq"
      },
      "source": [
        "Many ASR datasets only provide the target text, `'text'` for each audio `'audio'` and file `'file'`. Timit actually provides much more information about each audio file, such as the `'phonetic_detail'`, etc., which is why many researchers choose to evaluate their models on phoneme classification instead of speech recognition when working with Timit. However, we want to keep the notebook as general as possible, so that we will only consider the transcribed text for fine-tuning.\n",
        "\n"
      ]
    },
    {
      "cell_type": "code",
      "execution_count": 66,
      "metadata": {
        "id": "kbyq6lDgQc2a"
      },
      "outputs": [],
      "source": [
        "timit = timit.remove_columns([\"phonetic_detail\", \"word_detail\", \"dialect_region\", \"id\", \"sentence_type\", \"speaker_id\"])"
      ]
    },
    {
      "attachments": {},
      "cell_type": "markdown",
      "metadata": {
        "id": "Go9Hq4e4NDT9"
      },
      "source": [
        "Let's write a short function to display some random samples of the dataset and run it a couple of times to get a feeling for the transcriptions."
      ]
    },
    {
      "cell_type": "code",
      "execution_count": 67,
      "metadata": {
        "id": "72737oog2F6U"
      },
      "outputs": [],
      "source": [
        "from datasets import ClassLabel\n",
        "import random\n",
        "import pandas as pd\n",
        "from IPython.display import display, HTML\n",
        "\n",
        "def show_random_elements(dataset, num_examples=10):\n",
        "    assert num_examples <= len(dataset), \"Can't pick more elements than there are in the dataset.\"\n",
        "    picks = []\n",
        "    for _ in range(num_examples):\n",
        "        pick = random.randint(0, len(dataset)-1)\n",
        "        while pick in picks:\n",
        "            pick = random.randint(0, len(dataset)-1)\n",
        "        picks.append(pick)\n",
        "\n",
        "    df = pd.DataFrame(dataset[picks])\n",
        "    display(HTML(df.to_html()))"
      ]
    },
    {
      "cell_type": "code",
      "execution_count": 68,
      "metadata": {
        "colab": {
          "base_uri": "https://localhost:8080/",
          "height": 363
        },
        "id": "K_JUmf3G3b9S",
        "outputId": "8d879e78-15b3-425f-ef6e-ae604e83167b"
      },
      "outputs": [
        {
          "data": {
            "text/html": [
              "<table border=\"1\" class=\"dataframe\">\n",
              "  <thead>\n",
              "    <tr style=\"text-align: right;\">\n",
              "      <th></th>\n",
              "      <th>text</th>\n",
              "    </tr>\n",
              "  </thead>\n",
              "  <tbody>\n",
              "    <tr>\n",
              "      <th>0</th>\n",
<<<<<<< HEAD
              "      <td>Summertime supper, outside, is a natural.</td>\n",
              "    </tr>\n",
              "    <tr>\n",
              "      <th>1</th>\n",
              "      <td>We like bleu cheese but Victor prefers swiss cheese.</td>\n",
              "    </tr>\n",
              "    <tr>\n",
              "      <th>2</th>\n",
              "      <td>She had your dark suit in greasy wash water all year.</td>\n",
              "    </tr>\n",
              "    <tr>\n",
              "      <th>3</th>\n",
              "      <td>I gave them several choices and let them set the priorities.</td>\n",
              "    </tr>\n",
              "    <tr>\n",
              "      <th>4</th>\n",
              "      <td>Remember to allow identical twins to enter freely.</td>\n",
              "    </tr>\n",
              "    <tr>\n",
              "      <th>5</th>\n",
              "      <td>Origin of state automobile practices.</td>\n",
              "    </tr>\n",
              "    <tr>\n",
              "      <th>6</th>\n",
              "      <td>She had your dark suit in greasy wash water all year.</td>\n",
              "    </tr>\n",
              "    <tr>\n",
              "      <th>7</th>\n",
              "      <td>The battery median grade-equivalent was used in data analysis in this study.</td>\n",
              "    </tr>\n",
              "    <tr>\n",
              "      <th>8</th>\n",
              "      <td>Would you allow acts of violence?</td>\n",
              "    </tr>\n",
              "    <tr>\n",
              "      <th>9</th>\n",
              "      <td>Don't ask me to carry an oily rag like that.</td>\n",
=======
              "      <td>Scholastic aptitude is judged by standardized tests.</td>\n",
              "    </tr>\n",
              "    <tr>\n",
              "      <th>1</th>\n",
              "      <td>The emperor had a mean temper.</td>\n",
              "    </tr>\n",
              "    <tr>\n",
              "      <th>2</th>\n",
              "      <td>He was full of heavy family reminiscence.</td>\n",
              "    </tr>\n",
              "    <tr>\n",
              "      <th>3</th>\n",
              "      <td>Although always alone, we survive.</td>\n",
              "    </tr>\n",
              "    <tr>\n",
              "      <th>4</th>\n",
              "      <td>Todd placed top priority on getting his bike fixed.</td>\n",
              "    </tr>\n",
              "    <tr>\n",
              "      <th>5</th>\n",
              "      <td>A smile pulled at the lower strip of adhesive tape.</td>\n",
              "    </tr>\n",
              "    <tr>\n",
              "      <th>6</th>\n",
              "      <td>Can the agency overthrow alien forces?</td>\n",
              "    </tr>\n",
              "    <tr>\n",
              "      <th>7</th>\n",
              "      <td>Don't ask me to carry an oily rag like that.</td>\n",
              "    </tr>\n",
              "    <tr>\n",
              "      <th>8</th>\n",
              "      <td>She had your dark suit in greasy wash water all year.</td>\n",
              "    </tr>\n",
              "    <tr>\n",
              "      <th>9</th>\n",
              "      <td>Too much curiosity can get you into trouble.</td>\n",
>>>>>>> 1fae78210ecef984ce04102cfc01f97868a04ab3
              "    </tr>\n",
              "  </tbody>\n",
              "</table>"
            ],
            "text/plain": [
              "<IPython.core.display.HTML object>"
            ]
          },
          "metadata": {},
          "output_type": "display_data"
        }
      ],
      "source": [
        "show_random_elements(timit[\"train\"].remove_columns([\"audio\", \"file\"]), num_examples=10)"
      ]
    },
    {
      "attachments": {},
      "cell_type": "markdown",
      "metadata": {
        "id": "fowcOllGNNju"
      },
      "source": [
        "Alright! The transcriptions look very clean and the language seems to correspond more to written text than dialogue. This makes sense taking into account that [Timit](https://huggingface.co/datasets/timit_asr) is a read speech corpus."
      ]
    },
    {
      "attachments": {},
      "cell_type": "markdown",
      "metadata": {
        "id": "vq7OR50LN49m"
      },
      "source": [
        "We can see that the transcriptions contain some special characters, such as `,.?!;:`. Without a language model, it is much harder to classify speech chunks to such special characters because they don't really correspond to a characteristic sound unit. *E.g.*, the letter `\"s\"` has a more or less clear sound, whereas the special character `\".\"` does not.\n",
        "Also in order to understand the meaning of a speech signal, it is usually not necessary to include special characters in the transcription.\n",
        "\n",
        "In addition, we normalize the text to only have lower case letters and append a word separator token at the end."
      ]
    },
    {
      "cell_type": "code",
      "execution_count": 69,
      "metadata": {
        "id": "svKzVJ_hQGK6"
      },
      "outputs": [],
      "source": [
        "import re\n",
        "chars_to_ignore_regex = '[\\,\\?\\.\\!\\-\\;\\:\\\"]'\n",
        "\n",
        "def remove_special_characters(batch):\n",
        "    batch[\"text\"] = re.sub(chars_to_ignore_regex, '', batch[\"text\"]).lower() + \" \"\n",
        "    return batch"
      ]
    },
    {
      "cell_type": "code",
      "execution_count": 70,
      "metadata": {
        "colab": {
          "base_uri": "https://localhost:8080/",
          "height": 118,
          "referenced_widgets": [
            "c75146f8f1ab44028814587c6618b5cb",
            "2b28d6a112484a5cb8a3bce8d33dd6eb",
            "bf4e5b43dc36490eb26b5868233c8325",
            "42901d9eb4204cb39847025079f3e3c1",
            "5beb1ffb9863473a8df053439bfb9fb2",
            "457ab436e5dd499eab891989de1ebdc9",
            "165636445bfc4733970d1a7ded5f6ede",
            "0058396ec61a4f75a7db09a5f38d125b",
            "3d7e3dfdc28548d8bd8b7d548edb6f8f",
            "bb8774b67f884f6b8377a496b5c4a151",
            "f49894f74c4242f88b84aea799edb16d",
            "2cf18cb986eb40af89ebff415e08f273",
            "58d8a23d215e4c90af7cc611354be857",
            "cab324901c07479cb8c579067204aecf",
            "5e19198ee86d4494bc5eb9637259f492",
            "0ada10817cc44b6a9b903815fc9b2455",
            "39d2595f1d85401ea4e930369e52da11",
            "8980f3e6e202478eb2d2c3874788e466",
            "6e9a872c89d54da582effed9b9f07bb2",
            "53a03b6776c5401aaca921c86ed0b6d5",
            "15666b87c18443b2b5dcc92821b310e7",
            "cac71a316ae94f788d31ff4aa68ce067"
          ]
        },
        "id": "XIHocAuTQbBR",
        "outputId": "acb7e63a-9e97-477e-f4a8-9c27cd0a7ef4"
      },
      "outputs": [
        {
          "name": "stderr",
          "output_type": "stream",
          "text": [
<<<<<<< HEAD
            "Parameter 'function'=<function remove_special_characters at 0x7f05c010f820> of the transform datasets.arrow_dataset.Dataset._map_single couldn't be hashed properly, a random hash was used instead. Make sure your transforms and parameters are serializable with pickle or dill for the dataset fingerprinting and caching to work. If you reuse this transform, the caching mechanism will consider it to be different from the previous calls and recompute everything. This warning is only showed once. Subsequent hashing failures won't be showed.\n"
          ]
        },
        {
          "data": {
            "application/vnd.jupyter.widget-view+json": {
              "model_id": "608a0dd6f1244a12be1e98008287c4a7",
              "version_major": 2,
              "version_minor": 0
            },
            "text/plain": [
              "0ex [00:00, ?ex/s]"
            ]
          },
          "metadata": {},
          "output_type": "display_data"
        },
        {
          "data": {
            "application/vnd.jupyter.widget-view+json": {
              "model_id": "3340cd621521447db4902f868eb95fc8",
              "version_major": 2,
              "version_minor": 0
            },
            "text/plain": [
              "0ex [00:00, ?ex/s]"
            ]
          },
          "metadata": {},
          "output_type": "display_data"
=======
            "4620ex [00:00, 8428.19ex/s]\n",
            "1680ex [00:00, 10009.04ex/s]\n"
          ]
>>>>>>> 1fae78210ecef984ce04102cfc01f97868a04ab3
        }
      ],
      "source": [
        "timit = timit.map(remove_special_characters)"
      ]
    },
    {
      "cell_type": "code",
      "execution_count": 71,
      "metadata": {
        "colab": {
          "base_uri": "https://localhost:8080/",
          "height": 363
        },
        "id": "RBDRAAYxRE6n",
        "outputId": "a62e7527-f6ea-46dd-e94b-476b9cef521a"
      },
      "outputs": [
        {
          "data": {
            "text/html": [
              "<table border=\"1\" class=\"dataframe\">\n",
              "  <thead>\n",
              "    <tr style=\"text-align: right;\">\n",
              "      <th></th>\n",
              "      <th>text</th>\n",
              "    </tr>\n",
              "  </thead>\n",
              "  <tbody>\n",
              "    <tr>\n",
              "      <th>0</th>\n",
<<<<<<< HEAD
              "      <td>last year's gas shortage caused steep price increases</td>\n",
=======
              "      <td>don't ask me to carry an oily rag like that</td>\n",
>>>>>>> 1fae78210ecef984ce04102cfc01f97868a04ab3
              "    </tr>\n",
              "    <tr>\n",
              "      <th>1</th>\n",
              "      <td>we welcome many new students each year</td>\n",
              "    </tr>\n",
              "    <tr>\n",
              "      <th>2</th>\n",
<<<<<<< HEAD
              "      <td>birthday parties have cupcakes and ice cream</td>\n",
              "    </tr>\n",
              "    <tr>\n",
              "      <th>3</th>\n",
              "      <td>those lovely whorls he chortled</td>\n",
              "    </tr>\n",
              "    <tr>\n",
              "      <th>4</th>\n",
              "      <td>last year's gas shortage caused steep price increases</td>\n",
              "    </tr>\n",
              "    <tr>\n",
              "      <th>5</th>\n",
              "      <td>a thick crimson carpet muffled every footfall</td>\n",
              "    </tr>\n",
              "    <tr>\n",
              "      <th>6</th>\n",
              "      <td>when peeling an orange it is hard not to spray juice</td>\n",
              "    </tr>\n",
              "    <tr>\n",
              "      <th>7</th>\n",
              "      <td>take charge of choosing her bride's maids' gowns</td>\n",
              "    </tr>\n",
              "    <tr>\n",
              "      <th>8</th>\n",
              "      <td>i just saw jim near the new archeological museum</td>\n",
              "    </tr>\n",
              "    <tr>\n",
              "      <th>9</th>\n",
              "      <td>intelligence jabbed at him accusingly</td>\n",
=======
              "      <td>i gave them several choices and let them set the priorities</td>\n",
              "    </tr>\n",
              "    <tr>\n",
              "      <th>3</th>\n",
              "      <td>solid concrete blocks relatively heavy and dense are used for this shelter</td>\n",
              "    </tr>\n",
              "    <tr>\n",
              "      <th>4</th>\n",
              "      <td>the emperor had a mean temper</td>\n",
              "    </tr>\n",
              "    <tr>\n",
              "      <th>5</th>\n",
              "      <td>don't ask me to carry an oily rag like that</td>\n",
              "    </tr>\n",
              "    <tr>\n",
              "      <th>6</th>\n",
              "      <td>she had your dark suit in greasy wash water all year</td>\n",
              "    </tr>\n",
              "    <tr>\n",
              "      <th>7</th>\n",
              "      <td>please sing just the club theme</td>\n",
              "    </tr>\n",
              "    <tr>\n",
              "      <th>8</th>\n",
              "      <td>the data are presented in lists and tables</td>\n",
              "    </tr>\n",
              "    <tr>\n",
              "      <th>9</th>\n",
              "      <td>suppose what'shisname got a sunburn</td>\n",
>>>>>>> 1fae78210ecef984ce04102cfc01f97868a04ab3
              "    </tr>\n",
              "  </tbody>\n",
              "</table>"
            ],
            "text/plain": [
              "<IPython.core.display.HTML object>"
            ]
          },
          "metadata": {},
          "output_type": "display_data"
        }
      ],
      "source": [
        "show_random_elements(timit[\"train\"].remove_columns([\"audio\", \"file\"]))"
      ]
    },
    {
      "attachments": {},
      "cell_type": "markdown",
      "metadata": {
        "id": "jwfaptH5RJwA"
      },
      "source": [
        "Good! This looks better. We have removed most special characters from transcriptions and normalized them to lower-case only.\n",
        "\n",
        "In CTC, it is common to classify speech chunks into letters, so we will do the same here.\n",
        "Let's extract all distinct letters of the training and test data and build our vocabulary from this set of letters.\n",
        "\n",
        "We write a mapping function that concatenates all transcriptions into one long transcription and then transforms the string into a set of chars.\n",
        "It is important to pass the argument `batched=True` to the `map(...)` function so that the mapping function has access to all transcriptions at once."
      ]
    },
    {
      "cell_type": "code",
      "execution_count": 72,
      "metadata": {
        "id": "LwCshNbbeRZR"
      },
      "outputs": [],
      "source": [
        "def extract_all_chars(batch):\n",
        "  all_text = \" \".join(batch[\"text\"])\n",
        "  vocab = list(set(all_text))\n",
        "  return {\"vocab\": [vocab], \"all_text\": [all_text]}"
      ]
    },
    {
      "cell_type": "code",
      "execution_count": 73,
      "metadata": {
        "colab": {
          "base_uri": "https://localhost:8080/",
          "height": 81,
          "referenced_widgets": [
            "8508560781db49e9971a4e844b77f708",
            "4ed0f26ff105404bb993127df03bffca",
            "dbd4a1e0b6264c34b87a15b73a522d92",
            "4322229ce14c40288a33afefb4917bdd",
            "6a04eddf72594989b95c6a1be64d7f61",
            "b59ba6565a464d1ba9b09b978cc679dd",
            "10fd19a14d1f45aba528e4f19b675638",
            "66d5b61e23dc4651903c0d32d7694a33",
            "369c2fa2af714df99e5113fddfe81a36",
            "6d601fe66e86428bb08ec9952e99d52a",
            "bd7dad24d5d34edd9409e44ae87b888c",
            "5e721c366d99434d80b3822c6e82b290",
            "bd9b680e32fc41708cc2024a2f40c89d",
            "0b8b1be79ae24a31b1474824c5e52de5",
            "b9f5fab4eb65486abec1e0d85c8682d8",
            "56edbb7e71544c97a52f26e245e6a406",
            "225e6afb5c154fe6b3a1b1279287cb85",
            "f5ae3c942bf644c0affadca9a6e6d59b",
            "835cdd92279b4385af6a554c416ee245",
            "91190c7d6c7b460cb028183cf51bb1c1",
            "7943fc950c1c4b9ab096fa2e50d0da2d",
            "886c955c22c34282b94a3ee10ebde407"
          ]
        },
        "id": "_m6uUjjcfbjH",
        "outputId": "0485e5e9-9522-4db3-dbcd-f34986fc04ca"
      },
      "outputs": [
        {
<<<<<<< HEAD
          "data": {
            "application/vnd.jupyter.widget-view+json": {
              "model_id": "5fc2cbe4ce79443d8b387fb6b7d0bfd0",
              "version_major": 2,
              "version_minor": 0
            },
            "text/plain": [
              "  0%|          | 0/1 [00:00<?, ?ba/s]"
            ]
          },
          "metadata": {},
          "output_type": "display_data"
        },
        {
          "data": {
            "application/vnd.jupyter.widget-view+json": {
              "model_id": "46aef1f6f0a0481fbd8dd9c034006cf3",
              "version_major": 2,
              "version_minor": 0
            },
            "text/plain": [
              "  0%|          | 0/1 [00:00<?, ?ba/s]"
            ]
          },
          "metadata": {},
          "output_type": "display_data"
=======
          "name": "stderr",
          "output_type": "stream",
          "text": [
            "100%|██████████| 1/1 [00:00<00:00, 13.08ba/s]\n",
            "100%|██████████| 1/1 [00:00<00:00, 54.08ba/s]\n"
          ]
>>>>>>> 1fae78210ecef984ce04102cfc01f97868a04ab3
        }
      ],
      "source": [
        "vocabs = timit.map(extract_all_chars, batched=True, batch_size=-1, keep_in_memory=True, remove_columns=timit.column_names[\"train\"])"
      ]
    },
    {
      "attachments": {},
      "cell_type": "markdown",
      "metadata": {
        "id": "7oVgE8RZSJNP"
      },
      "source": [
        "Now, we create the union of all distinct letters in the training dataset and test dataset and convert the resulting list into an enumerated dictionary."
      ]
    },
    {
      "cell_type": "code",
      "execution_count": 74,
      "metadata": {
        "id": "aQfneNsmlJI0"
      },
      "outputs": [],
      "source": [
        "vocab_list = list(set(vocabs[\"train\"][\"vocab\"][0]) | set(vocabs[\"test\"][\"vocab\"][0]))"
      ]
    },
    {
      "cell_type": "code",
      "execution_count": 75,
      "metadata": {
        "colab": {
          "base_uri": "https://localhost:8080/"
        },
        "id": "_0kRndSvqaKk",
        "outputId": "310111f2-0b79-4a9f-9582-e8ecab6fcd6f"
      },
      "outputs": [
        {
          "data": {
            "text/plain": [
<<<<<<< HEAD
              "{'c': 0,\n",
              " 'l': 1,\n",
              " 'a': 2,\n",
              " 'q': 3,\n",
              " 'm': 4,\n",
              " 'o': 5,\n",
              " 'u': 6,\n",
              " 'p': 7,\n",
              " 's': 8,\n",
              " 'd': 9,\n",
              " 'h': 10,\n",
              " 'j': 11,\n",
              " 'e': 12,\n",
              " 'i': 13,\n",
              " 'v': 14,\n",
              " ' ': 15,\n",
              " 'n': 16,\n",
              " 't': 17,\n",
              " 'r': 18,\n",
              " 'f': 19,\n",
              " 'w': 20,\n",
              " 'b': 21,\n",
              " 'y': 22,\n",
              " \"'\": 23,\n",
              " 'k': 24,\n",
              " 'g': 25,\n",
              " 'z': 26,\n",
              " 'x': 27}"
=======
              "{'d': 0,\n",
              " 'a': 1,\n",
              " 'e': 2,\n",
              " \"'\": 3,\n",
              " 'z': 4,\n",
              " 'v': 5,\n",
              " ' ': 6,\n",
              " 't': 7,\n",
              " 'i': 8,\n",
              " 's': 9,\n",
              " 'b': 10,\n",
              " 'y': 11,\n",
              " 'n': 12,\n",
              " 'x': 13,\n",
              " 'q': 14,\n",
              " 'o': 15,\n",
              " 'h': 16,\n",
              " 'p': 17,\n",
              " 'w': 18,\n",
              " 'r': 19,\n",
              " 'm': 20,\n",
              " 'u': 21,\n",
              " 'f': 22,\n",
              " 'l': 23,\n",
              " 'g': 24,\n",
              " 'j': 25,\n",
              " 'k': 26,\n",
              " 'c': 27}"
>>>>>>> 1fae78210ecef984ce04102cfc01f97868a04ab3
            ]
          },
          "execution_count": 75,
          "metadata": {},
          "output_type": "execute_result"
        }
      ],
      "source": [
        "vocab_dict = {v: k for k, v in enumerate(vocab_list)}\n",
        "vocab_dict"
      ]
    },
    {
      "attachments": {},
      "cell_type": "markdown",
      "metadata": {
        "id": "JOSzbvs9SXT1"
      },
      "source": [
        "Cool, we see that all letters of the alphabet occur in the dataset (which is not really surprising) and we also extracted the special characters `\" \"` and `'`. Note that we did not exclude those special characters because:\n",
        "\n",
        "- The model has to learn to predict when a word finished or else the model prediction would always be a sequence of chars which would make it impossible to separate words from each other.\n",
        "- In English, we need to keep the `'` character to differentiate between words, *e.g.*, `\"it's\"` and `\"its\"` which have very different meanings."
      ]
    },
    {
      "attachments": {},
      "cell_type": "markdown",
      "metadata": {
        "id": "b1fBRCn-TRaO"
      },
      "source": [
        "To make it clearer that `\" \"` has its own token class, we give it a more visible character `|`. In addition, we also add an \"unknown\" token so that the model can later deal with characters not encountered in Timit's training set.\n",
        "\n",
        "Finally, we also add a padding token that corresponds to CTC's \"*blank token*\". The \"blank token\" is a core component of the CTC algorithm. For more information, please take a look at the \"Alignment\" section [here](https://distill.pub/2017/ctc/)."
      ]
    },
    {
      "cell_type": "code",
      "execution_count": 76,
      "metadata": {
        "id": "npbIbBoLgaFX"
      },
      "outputs": [],
      "source": [
        "vocab_dict[\"|\"] = vocab_dict[\" \"]\n",
        "del vocab_dict[\" \"]"
      ]
    },
    {
      "cell_type": "code",
      "execution_count": 77,
      "metadata": {
        "colab": {
          "base_uri": "https://localhost:8080/"
        },
        "id": "znF0bNunsjbl",
        "outputId": "b8a99b75-8414-47f0-804d-a7e442b29000"
      },
      "outputs": [
        {
          "data": {
            "text/plain": [
              "30"
            ]
          },
          "execution_count": 77,
          "metadata": {},
          "output_type": "execute_result"
        }
      ],
      "source": [
        "vocab_dict[\"[UNK]\"] = len(vocab_dict)\n",
        "vocab_dict[\"[PAD]\"] = len(vocab_dict)\n",
        "len(vocab_dict)"
      ]
    },
    {
      "attachments": {},
      "cell_type": "markdown",
      "metadata": {
        "id": "SFPGfet8U5sL"
      },
      "source": [
        "Cool, now our vocabulary is complete and consists of 30 tokens, which means that the linear layer that we will add on top of the pretrained Wav2Vec2 checkpoint will have an output dimension of 30."
      ]
    },
    {
      "attachments": {},
      "cell_type": "markdown",
      "metadata": {
        "id": "1CujRgBNVRaD"
      },
      "source": [
        "Let's now save the vocabulary as a json file."
      ]
    },
    {
      "cell_type": "code",
      "execution_count": 78,
      "metadata": {
        "id": "ehyUoh9vk191"
      },
      "outputs": [],
      "source": [
        "import json\n",
        "with open('vocab.json', 'w') as vocab_file:\n",
        "    json.dump(vocab_dict, vocab_file)"
      ]
    },
    {
      "attachments": {},
      "cell_type": "markdown",
      "metadata": {
        "id": "SHJDaKlIVVim"
      },
      "source": [
        "In a final step, we use the json file to instantiate an object of the `Wav2Vec2CTCTokenizer` class."
      ]
    },
    {
      "cell_type": "code",
      "execution_count": 79,
      "metadata": {
        "id": "xriFGEWQkO4M"
      },
      "outputs": [],
      "source": [
        "from transformers import Wav2Vec2CTCTokenizer\n",
        "\n",
        "tokenizer = Wav2Vec2CTCTokenizer(\"./vocab.json\", unk_token=\"[UNK]\", pad_token=\"[PAD]\", word_delimiter_token=\"|\")"
      ]
    },
    {
      "attachments": {},
      "cell_type": "markdown",
      "metadata": {
        "id": "P6L2EVWwIazG"
      },
      "source": [
        "If one wants to re-use the just created tokenizer with the fine-tuned model of this notebook, it is strongly advised to upload the `tokenizer` to the [🤗 Hub](https://huggingface.co/). Let's call the repo to which we will upload the files\n",
        "`\"wav2vec2-base-timit-demo-colab\"`:"
      ]
    },
    {
      "cell_type": "code",
      "execution_count": 80,
      "metadata": {
        "id": "1mbffBdxIl0M"
      },
      "outputs": [],
      "source": [
        "repo_name = \"wav2vec2-base-timit-demo-google-colab\""
      ]
    },
    {
      "attachments": {},
      "cell_type": "markdown",
      "metadata": {
        "id": "pmpG2ftFIu3B"
      },
      "source": [
        "and upload the tokenizer to the [🤗 Hub](https://huggingface.co/)."
      ]
    },
    {
      "attachments": {},
      "cell_type": "markdown",
      "metadata": {
        "id": "KvL12DrNV4cx"
      },
      "source": [
        "Great, you can see the just created repository under `https://huggingface.co/<your-username>/wav2vec2-base-timit-demo-colab`"
      ]
    },
    {
      "attachments": {},
      "cell_type": "markdown",
      "metadata": {
        "id": "mYcIiR2FQ96i"
      },
      "source": [
        "### Create Wav2Vec2 Feature Extractor"
      ]
    },
    {
      "attachments": {},
      "cell_type": "markdown",
      "metadata": {
        "id": "Y6mDEyW719rx"
      },
      "source": [
        "Speech is a continuous signal and to be treated by computers, it first has to be discretized, which is usually called **sampling**. The sampling rate hereby plays an important role in that it defines how many data points of the speech signal are measured per second. Therefore, sampling with a higher sampling rate results in a better approximation of the *real* speech signal but also necessitates more values per second.\n",
        "\n",
        "A pretrained checkpoint expects its input data to have been sampled more or less from the same distribution as the data it was trained on. The same speech signals sampled at two different rates have a very different distribution, *e.g.*, doubling the sampling rate results in data points being twice as long. Thus,\n",
        "before fine-tuning a pretrained checkpoint of an ASR model, it is crucial to verify that the sampling rate of the data that was used to pretrain the model matches the sampling rate of the dataset used to fine-tune the model.\n",
        "\n",
        "Wav2Vec2 was pretrained on the audio data of [LibriSpeech](https://huggingface.co/datasets/librispeech_asr) and LibriVox which both were sampling with 16kHz. Our fine-tuning dataset, [Timit](hhtps://huggingface.co/datasets/timit_asr), was luckily also sampled with 16kHz. If the fine-tuning dataset would have been sampled with a rate lower or higher than 16kHz, we first would have had to up or downsample the speech signal to match the sampling rate of the data used for pretraining.\n",
        "\n"
      ]
    },
    {
      "attachments": {},
      "cell_type": "markdown",
      "metadata": {
        "id": "KuUbPW7oV-B5"
      },
      "source": [
        "A Wav2Vec2 feature extractor object requires the following parameters to be instantiated:\n",
        "\n",
        "- `feature_size`: Speech models take a sequence of feature vectors as an input. While the length of this sequence obviously varies, the feature size should not. In the case of Wav2Vec2, the feature size is 1 because the model was trained on the raw speech signal ${}^2$.\n",
        "- `sampling_rate`: The sampling rate at which the model is trained on.\n",
        "- `padding_value`: For batched inference, shorter inputs need to be padded with a specific value\n",
        "- `do_normalize`: Whether the input should be *zero-mean-unit-variance* normalized or not. Usually, speech models perform better when normalizing the input\n",
        "- `return_attention_mask`: Whether the model should make use of an `attention_mask` for batched inference. In general, models should **always** make use of the `attention_mask` to mask padded tokens. However, due to a very specific design choice of `Wav2Vec2`'s \"base\" checkpoint, better results are achieved when using no `attention_mask`. This is **not** recommended for other speech models. For more information, one can take a look at [this](https://github.com/pytorch/fairseq/issues/3227) issue. **Important** If you want to use this notebook to fine-tune [large-lv60](https://huggingface.co/facebook/wav2vec2-large-lv60), this parameter should be set to `True`."
      ]
    },
    {
      "cell_type": "code",
      "execution_count": 81,
      "metadata": {
        "id": "kAR0-2KLkopp"
      },
      "outputs": [],
      "source": [
        "from transformers import Wav2Vec2FeatureExtractor\n",
        "\n",
        "feature_extractor = Wav2Vec2FeatureExtractor(feature_size=1, sampling_rate=16000, padding_value=0.0, do_normalize=True, return_attention_mask=False)"
      ]
    },
    {
      "attachments": {},
      "cell_type": "markdown",
      "metadata": {
        "id": "qUETetgqYC3W"
      },
      "source": [
        "Great, Wav2Vec2's feature extraction pipeline is thereby fully defined!\n",
        "\n",
        "To make the usage of Wav2Vec2 as user-friendly as possible, the feature extractor and tokenizer are *wrapped* into a single `Wav2Vec2Processor` class so that one only needs a `model` and `processor` object."
      ]
    },
    {
      "cell_type": "code",
      "execution_count": 82,
      "metadata": {
        "id": "KYZtoW-tlZgl"
      },
      "outputs": [],
      "source": [
        "from transformers import Wav2Vec2Processor\n",
        "\n",
        "processor = Wav2Vec2Processor(feature_extractor=feature_extractor, tokenizer=tokenizer)"
      ]
    },
    {
      "attachments": {},
      "cell_type": "markdown",
      "metadata": {
        "id": "DrKnYuvDIoOO"
      },
      "source": [
        "Next, we can prepare the dataset."
      ]
    },
    {
      "attachments": {},
      "cell_type": "markdown",
      "metadata": {
        "id": "YFmShnl7RE35"
      },
      "source": [
        "### Preprocess Data\n",
        "\n",
        "So far, we have not looked at the actual values of the speech signal but just the transcription. In addition to `'text'`, our datasets include two more column names `'file'` and `'audio'`. `'file'` states the absolute path of the audio file. Let's take a look."
      ]
    },
    {
      "cell_type": "code",
      "execution_count": 83,
      "metadata": {
        "colab": {
          "base_uri": "https://localhost:8080/",
          "height": 35
        },
        "id": "TTCS7W6XJ9BG",
        "outputId": "d5d6e239-b109-4b2b-9a62-f1b23f754433"
      },
      "outputs": [
        {
          "data": {
            "text/plain": [
              "'/home/cslab03/.cache/huggingface/datasets/downloads/extracted/a776bf1fdb2afcd63eb44e45574fab3aff2a60fd299aea96cedc65b48da33669/data/TRAIN/DR4/MMDM0/SI681.WAV'"
            ]
          },
          "execution_count": 83,
          "metadata": {},
          "output_type": "execute_result"
        }
      ],
      "source": [
        "timit[\"train\"][0][\"file\"]"
      ]
    },
    {
      "attachments": {},
      "cell_type": "markdown",
      "metadata": {
        "id": "BwxprOw4Nzrl"
      },
      "source": [
        "`Wav2Vec2` expects the input in the format of a 1-dimensional array of 16 kHz. This means that the audio file has to be loaded and resampled.\n",
        "\n",
        " Thankfully, `datasets` does this automatically when calling the column `audio`. Let try it out."
      ]
    },
    {
      "cell_type": "code",
      "execution_count": 84,
      "metadata": {
        "colab": {
          "base_uri": "https://localhost:8080/"
        },
        "id": "mk9QHuSsN7lf",
        "outputId": "beb08435-f986-4f28-8660-396377695838"
      },
      "outputs": [
        {
          "data": {
            "text/plain": [
              "{'path': '/home/cslab03/.cache/huggingface/datasets/downloads/extracted/a776bf1fdb2afcd63eb44e45574fab3aff2a60fd299aea96cedc65b48da33669/data/TRAIN/DR4/MMDM0/SI681.WAV',\n",
              " 'array': array([-2.1362305e-04,  6.1035156e-05,  3.0517578e-05, ...,\n",
              "        -3.0517578e-05, -9.1552734e-05, -6.1035156e-05], dtype=float32),\n",
              " 'sampling_rate': 16000}"
            ]
          },
          "execution_count": 84,
          "metadata": {},
          "output_type": "execute_result"
        }
      ],
      "source": [
        "timit[\"train\"][0][\"audio\"]"
      ]
    },
    {
      "attachments": {},
      "cell_type": "markdown",
      "metadata": {
        "id": "wSBIGEiaKHMn"
      },
      "source": [
        "We can see that the audio file has automatically been loaded. This is thanks to the new [`\"Audio\"` feature](https://huggingface.co/docs/datasets/package_reference/main_classes.html?highlight=audio#datasets.Audio) introduced in `datasets == 4.13.3`, which loads and resamples audio files on-the-fly upon calling.\n",
        "\n",
        "The sampling rate is set to 16kHz which is what `Wav2Vec2` expects as an input."
      ]
    },
    {
      "attachments": {},
      "cell_type": "markdown",
      "metadata": {
        "id": "SOckzFd4Mbzq"
      },
      "source": [
        "Great, let's listen to a couple of audio files to better understand the dataset and verify that the audio was correctly loaded.\n",
        "\n",
        "**Note**: *You can click the following cell a couple of times to listen to different speech samples.*"
      ]
    },
    {
      "cell_type": "code",
      "execution_count": 85,
      "metadata": {
        "colab": {
          "base_uri": "https://localhost:8080/",
          "height": 79
        },
        "id": "dueM6U7Ev0OA",
        "outputId": "a6e2aee9-618c-4b95-8f29-a686aa3cbc91"
      },
      "outputs": [
        {
          "name": "stdout",
          "output_type": "stream",
          "text": [
<<<<<<< HEAD
            "gently place jim's foam sculpture in the box \n"
=======
            "young people participate in athletic activities \n"
>>>>>>> 1fae78210ecef984ce04102cfc01f97868a04ab3
          ]
        },
        {
          "data": {
            "text/html": [
              "\n",
              "                <audio  controls=\"controls\" autoplay=\"autoplay\">\n",
<<<<<<< HEAD
              "                    <source src=\"data:audio/wav;base64,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\" type=\"audio/wav\" />\n",
=======
              "                    <source src=\"data:audio/wav;base64,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\" type=\"audio/wav\" />\n",
>>>>>>> 1fae78210ecef984ce04102cfc01f97868a04ab3
              "                    Your browser does not support the audio element.\n",
              "                </audio>\n",
              "              "
            ],
            "text/plain": [
              "<IPython.lib.display.Audio object>"
            ]
          },
          "execution_count": 85,
          "metadata": {},
          "output_type": "execute_result"
        }
      ],
      "source": [
        "import IPython.display as ipd\n",
        "import numpy as np\n",
        "import random\n",
        "\n",
        "rand_int = random.randint(0, len(timit[\"train\"]))\n",
        "\n",
        "print(timit[\"train\"][rand_int][\"text\"])\n",
        "ipd.Audio(data=np.asarray(timit[\"train\"][rand_int][\"audio\"][\"array\"]), autoplay=True, rate=16000)"
      ]
    },
    {
      "attachments": {},
      "cell_type": "markdown",
      "metadata": {
        "id": "1MaL9J2dNVtG"
      },
      "source": [
        "It can be heard, that the speakers change along with their speaking rate, accent, etc. Overall, the recordings sound relatively clear though, which is to be expected from a read speech corpus.\n",
        "\n",
        "Let's do a final check that the data is correctly prepared, by printing the shape of the speech input, its transcription, and the corresponding sampling rate.\n",
        "\n",
        "**Note**: *You can click the following cell a couple of times to verify multiple samples.*"
      ]
    },
    {
      "cell_type": "code",
      "execution_count": 86,
      "metadata": {
        "colab": {
          "base_uri": "https://localhost:8080/"
        },
        "id": "1Po2g7YPuRTx",
        "outputId": "20b773d0-b275-4de7-97c9-91ec05420edc"
      },
      "outputs": [
        {
          "name": "stdout",
          "output_type": "stream",
          "text": [
<<<<<<< HEAD
            "Target text: the fifth jar contains big juicy peaches \n",
            "Input array shape: (56832,)\n",
=======
            "Target text: nothing is as offensive as innocence \n",
            "Input array shape: (54068,)\n",
>>>>>>> 1fae78210ecef984ce04102cfc01f97868a04ab3
            "Sampling rate: 16000\n"
          ]
        }
      ],
      "source": [
        "rand_int = random.randint(0, len(timit[\"train\"]))\n",
        "\n",
        "print(\"Target text:\", timit[\"train\"][rand_int][\"text\"])\n",
        "print(\"Input array shape:\", np.asarray(timit[\"train\"][rand_int][\"audio\"][\"array\"]).shape)\n",
        "print(\"Sampling rate:\", timit[\"train\"][rand_int][\"audio\"][\"sampling_rate\"])"
      ]
    },
    {
      "attachments": {},
      "cell_type": "markdown",
      "metadata": {
        "id": "M9teZcSwOBJ4"
      },
      "source": [
        "Good! Everything looks fine - the data is a 1-dimensional array, the sampling rate always corresponds to 16kHz, and the target text is normalized."
      ]
    },
    {
      "attachments": {},
      "cell_type": "markdown",
      "metadata": {
        "id": "k3Pbn5WvOYZF"
      },
      "source": [
        "Finally, we can process the dataset to the format expected by the model for training. We will make use of the `map(...)` function.\n",
        "\n",
        "First, we load and resample the audio data, simply by calling `batch[\"audio\"]`.\n",
        "Second, we extract the `input_values` from the loaded audio file. In our case, the `Wav2Vec2Processor` only normalizes the data. For other speech models, however, this step can include more complex feature extraction, such as [Log-Mel feature extraction](https://en.wikipedia.org/wiki/Mel-frequency_cepstrum).\n",
        "Third, we encode the transcriptions to label ids.\n",
        "\n",
        "**Note**: This mapping function is a good example of how the `Wav2Vec2Processor` class should be used. In \"normal\" context, calling `processor(...)` is redirected to `Wav2Vec2FeatureExtractor`'s call method. When wrapping the processor into the `as_target_processor` context, however, the same method is redirected to `Wav2Vec2CTCTokenizer`'s call method.\n",
        "For more information please check the [docs](https://huggingface.co/transformers/master/model_doc/wav2vec2.html#transformers.Wav2Vec2Processor.__call__)."
      ]
    },
    {
      "cell_type": "code",
      "execution_count": 87,
      "metadata": {
        "id": "eJY7I0XAwe9p"
      },
      "outputs": [],
      "source": [
        "def prepare_dataset(batch):\n",
        "    audio = batch[\"audio\"]\n",
        "\n",
        "    # batched output is \"un-batched\" to ensure mapping is correct\n",
        "    batch[\"input_values\"] = processor(audio[\"array\"], sampling_rate=audio[\"sampling_rate\"]).input_values[0]\n",
        "    batch[\"input_length\"] = len(batch[\"input_values\"])\n",
        "\n",
        "    with processor.as_target_processor():\n",
        "        batch[\"labels\"] = processor(batch[\"text\"]).input_ids\n",
        "    return batch"
      ]
    },
    {
      "attachments": {},
      "cell_type": "markdown",
      "metadata": {
        "id": "hVMZhH4-nP8-"
      },
      "source": [
        "Let's apply the data preparation function to all examples."
      ]
    },
    {
      "cell_type": "code",
      "execution_count": 88,
      "metadata": {
        "id": "-np9xYK-wl8q"
      },
      "outputs": [
        {
          "name": "stderr",
          "output_type": "stream",
          "text": [
            " #0: 0ex [00:00, ?ex/s]\n",
            "\u001b[A\n",
            "\n",
            " #0: 37ex [00:00, 361.01ex/s]\n",
            "\u001b[A\n",
            "\n",
            " #0: 86ex [00:00, 435.79ex/s]\n",
            "\u001b[A\n",
            "\n",
            " #0: 135ex [00:00, 459.44ex/s]\n",
            "\u001b[A\n",
            "\n",
            " #0: 186ex [00:00, 476.64ex/s]\n",
            "\u001b[A\n",
            "\n",
            " #0: 237ex [00:00, 486.80ex/s]\n",
            "\u001b[A\n",
            "\n",
            " #0: 289ex [00:00, 495.87ex/s]\n",
            "\u001b[A\n",
            "\n",
            " #0: 339ex [00:00, 492.65ex/s]\n",
            "\u001b[A\n",
            "\n",
            " #0: 389ex [00:00, 492.85ex/s]\n",
            "\u001b[A\n",
            "\n",
            " #0: 439ex [00:00, 494.60ex/s]\n",
            "\u001b[A\n",
            "\n",
            " #0: 489ex [00:01, 494.17ex/s]\n",
            "\u001b[A\n",
            "\n",
            " #0: 539ex [00:01, 492.81ex/s]\n",
            "\u001b[A\n",
            "\n",
            " #0: 590ex [00:01, 494.91ex/s]\n",
            "\u001b[A\n",
            "\n",
            " #0: 642ex [00:01, 500.24ex/s]\n",
            "\u001b[A\n",
            "\n",
            " #0: 693ex [00:01, 499.97ex/s]\n",
            "\u001b[A\n",
            "\n",
            " #0: 744ex [00:01, 501.15ex/s]\n",
            "\u001b[A\n",
            "\n",
            " #0: 795ex [00:01, 499.42ex/s]\n",
            "\u001b[A\n",
            "\n",
            " #0: 845ex [00:01, 494.13ex/s]\n",
            "\u001b[A\n",
            "\n",
            " #0: 895ex [00:01, 493.74ex/s]\n",
            "\u001b[A\n",
            "\n",
            " #0: 946ex [00:01, 496.50ex/s]\n",
            "\u001b[A\n",
            "\n",
            " #0: 998ex [00:02, 503.39ex/s]\n",
            "\u001b[A\n",
            "\n",
            "\u001b[A\u001b[A/home/cslab03/anaconda3/envs/coEnv/lib/python3.9/site-packages/datasets/features/features.py:1131: FutureWarning: In the future `np.object` will be defined as the corresponding NumPy scalar.\n",
            "  [0] + [len(arr) for arr in l_arr], dtype=np.object\n",
            " #0: 999ex [00:02, 453.83ex/s]\n",
            "/home/cslab03/anaconda3/envs/coEnv/lib/python3.9/site-packages/datasets/features/features.py:1131: FutureWarning: In the future `np.object` will be defined as the corresponding NumPy scalar.\n",
            "  [0] + [len(arr) for arr in l_arr], dtype=np.object\n",
            " #3: 999ex [00:02, 444.43ex/s]\n",
            "/home/cslab03/anaconda3/envs/coEnv/lib/python3.9/site-packages/datasets/features/features.py:1131: FutureWarning: In the future `np.object` will be defined as the corresponding NumPy scalar.\n",
            "  [0] + [len(arr) for arr in l_arr], dtype=np.object\n",
            " #1: 999ex [00:02, 434.44ex/s]\n",
            "/home/cslab03/anaconda3/envs/coEnv/lib/python3.9/site-packages/datasets/features/features.py:1131: FutureWarning: In the future `np.object` will be defined as the corresponding NumPy scalar.\n",
            "  [0] + [len(arr) for arr in l_arr], dtype=np.object\n",
            " #2: 999ex [00:02, 433.26ex/s]\n"
          ]
        },
        {
          "ename": "AttributeError",
          "evalue": "module 'numpy' has no attribute 'object'.\n`np.object` was a deprecated alias for the builtin `object`. To avoid this error in existing code, use `object` by itself. Doing this will not modify any behavior and is safe. \nThe aliases was originally deprecated in NumPy 1.20; for more details and guidance see the original release note at:\n    https://numpy.org/devdocs/release/1.20.0-notes.html#deprecations",
          "output_type": "error",
          "traceback": [
            "\u001b[0;31m---------------------------------------------------------------------------\u001b[0m",
            "\u001b[0;31mRemoteTraceback\u001b[0m                           Traceback (most recent call last)",
            "\u001b[0;31mRemoteTraceback\u001b[0m: \n\"\"\"\nTraceback (most recent call last):\n  File \"/home/cslab03/anaconda3/envs/coEnv/lib/python3.9/site-packages/datasets/arrow_dataset.py\", line 2468, in _map_single\n    writer.write(example)\n  File \"/home/cslab03/anaconda3/envs/coEnv/lib/python3.9/site-packages/datasets/arrow_writer.py\", line 444, in write\n    self.write_examples_on_file()\n  File \"/home/cslab03/anaconda3/envs/coEnv/lib/python3.9/site-packages/datasets/arrow_writer.py\", line 402, in write_examples_on_file\n    self.write_batch(batch_examples=batch_examples)\n  File \"/home/cslab03/anaconda3/envs/coEnv/lib/python3.9/site-packages/datasets/arrow_writer.py\", line 495, in write_batch\n    arrays.append(pa.array(typed_sequence))\n  File \"pyarrow/array.pxi\", line 243, in pyarrow.lib.array\n  File \"pyarrow/array.pxi\", line 110, in pyarrow.lib._handle_arrow_array_protocol\n  File \"/home/cslab03/anaconda3/envs/coEnv/lib/python3.9/site-packages/datasets/arrow_writer.py\", line 185, in __arrow_array__\n    out = list_of_np_array_to_pyarrow_listarray(data)\n  File \"/home/cslab03/anaconda3/envs/coEnv/lib/python3.9/site-packages/datasets/features/features.py\", line 1142, in list_of_np_array_to_pyarrow_listarray\n    return list_of_pa_arrays_to_pyarrow_listarray(\n  File \"/home/cslab03/anaconda3/envs/coEnv/lib/python3.9/site-packages/datasets/features/features.py\", line 1131, in list_of_pa_arrays_to_pyarrow_listarray\n    [0] + [len(arr) for arr in l_arr], dtype=np.object\n  File \"/home/cslab03/anaconda3/envs/coEnv/lib/python3.9/site-packages/numpy/__init__.py\", line 305, in __getattr__\n    # the full `numpy.testing` namespace\nAttributeError: module 'numpy' has no attribute 'object'.\n`np.object` was a deprecated alias for the builtin `object`. To avoid this error in existing code, use `object` by itself. Doing this will not modify any behavior and is safe. \nThe aliases was originally deprecated in NumPy 1.20; for more details and guidance see the original release note at:\n    https://numpy.org/devdocs/release/1.20.0-notes.html#deprecations\n\nDuring handling of the above exception, another exception occurred:\n\nTraceback (most recent call last):\n  File \"/home/cslab03/anaconda3/envs/coEnv/lib/python3.9/site-packages/multiprocess/pool.py\", line 125, in worker\n    result = (True, func(*args, **kwds))\n  File \"/home/cslab03/anaconda3/envs/coEnv/lib/python3.9/site-packages/datasets/arrow_dataset.py\", line 518, in wrapper\n    out: Union[\"Dataset\", \"DatasetDict\"] = func(self, *args, **kwargs)\n  File \"/home/cslab03/anaconda3/envs/coEnv/lib/python3.9/site-packages/datasets/arrow_dataset.py\", line 485, in wrapper\n    out: Union[\"Dataset\", \"DatasetDict\"] = func(self, *args, **kwargs)\n  File \"/home/cslab03/anaconda3/envs/coEnv/lib/python3.9/site-packages/datasets/fingerprint.py\", line 413, in wrapper\n    out = func(self, *args, **kwargs)\n  File \"/home/cslab03/anaconda3/envs/coEnv/lib/python3.9/site-packages/datasets/arrow_dataset.py\", line 2504, in _map_single\n    writer.finalize()\n  File \"/home/cslab03/anaconda3/envs/coEnv/lib/python3.9/site-packages/datasets/arrow_writer.py\", line 525, in finalize\n    self.write_examples_on_file()\n  File \"/home/cslab03/anaconda3/envs/coEnv/lib/python3.9/site-packages/datasets/arrow_writer.py\", line 402, in write_examples_on_file\n    self.write_batch(batch_examples=batch_examples)\n  File \"/home/cslab03/anaconda3/envs/coEnv/lib/python3.9/site-packages/datasets/arrow_writer.py\", line 495, in write_batch\n    arrays.append(pa.array(typed_sequence))\n  File \"pyarrow/array.pxi\", line 243, in pyarrow.lib.array\n  File \"pyarrow/array.pxi\", line 110, in pyarrow.lib._handle_arrow_array_protocol\n  File \"/home/cslab03/anaconda3/envs/coEnv/lib/python3.9/site-packages/datasets/arrow_writer.py\", line 185, in __arrow_array__\n    out = list_of_np_array_to_pyarrow_listarray(data)\n  File \"/home/cslab03/anaconda3/envs/coEnv/lib/python3.9/site-packages/datasets/features/features.py\", line 1142, in list_of_np_array_to_pyarrow_listarray\n    return list_of_pa_arrays_to_pyarrow_listarray(\n  File \"/home/cslab03/anaconda3/envs/coEnv/lib/python3.9/site-packages/datasets/features/features.py\", line 1131, in list_of_pa_arrays_to_pyarrow_listarray\n    [0] + [len(arr) for arr in l_arr], dtype=np.object\n  File \"/home/cslab03/anaconda3/envs/coEnv/lib/python3.9/site-packages/numpy/__init__.py\", line 305, in __getattr__\n    # the full `numpy.testing` namespace\nAttributeError: module 'numpy' has no attribute 'object'.\n`np.object` was a deprecated alias for the builtin `object`. To avoid this error in existing code, use `object` by itself. Doing this will not modify any behavior and is safe. \nThe aliases was originally deprecated in NumPy 1.20; for more details and guidance see the original release note at:\n    https://numpy.org/devdocs/release/1.20.0-notes.html#deprecations\n\"\"\"",
            "\nThe above exception was the direct cause of the following exception:\n",
            "\u001b[0;31mAttributeError\u001b[0m                            Traceback (most recent call last)",
            "Cell \u001b[0;32mIn[88], line 1\u001b[0m\n\u001b[0;32m----> 1\u001b[0m timit \u001b[39m=\u001b[39m timit\u001b[39m.\u001b[39;49mmap(prepare_dataset, remove_columns\u001b[39m=\u001b[39;49mtimit\u001b[39m.\u001b[39;49mcolumn_names[\u001b[39m\"\u001b[39;49m\u001b[39mtrain\u001b[39;49m\u001b[39m\"\u001b[39;49m], num_proc\u001b[39m=\u001b[39;49m\u001b[39m4\u001b[39;49m)\n",
            "File \u001b[0;32m~/anaconda3/envs/coEnv/lib/python3.9/site-packages/datasets/dataset_dict.py:494\u001b[0m, in \u001b[0;36mDatasetDict.map\u001b[0;34m(self, function, with_indices, input_columns, batched, batch_size, remove_columns, keep_in_memory, load_from_cache_file, cache_file_names, writer_batch_size, features, disable_nullable, fn_kwargs, num_proc, desc)\u001b[0m\n\u001b[1;32m    491\u001b[0m \u001b[39mif\u001b[39;00m cache_file_names \u001b[39mis\u001b[39;00m \u001b[39mNone\u001b[39;00m:\n\u001b[1;32m    492\u001b[0m     cache_file_names \u001b[39m=\u001b[39m {k: \u001b[39mNone\u001b[39;00m \u001b[39mfor\u001b[39;00m k \u001b[39min\u001b[39;00m \u001b[39mself\u001b[39m}\n\u001b[1;32m    493\u001b[0m \u001b[39mreturn\u001b[39;00m DatasetDict(\n\u001b[0;32m--> 494\u001b[0m     {\n\u001b[1;32m    495\u001b[0m         k: dataset\u001b[39m.\u001b[39mmap(\n\u001b[1;32m    496\u001b[0m             function\u001b[39m=\u001b[39mfunction,\n\u001b[1;32m    497\u001b[0m             with_indices\u001b[39m=\u001b[39mwith_indices,\n\u001b[1;32m    498\u001b[0m             input_columns\u001b[39m=\u001b[39minput_columns,\n\u001b[1;32m    499\u001b[0m             batched\u001b[39m=\u001b[39mbatched,\n\u001b[1;32m    500\u001b[0m             batch_size\u001b[39m=\u001b[39mbatch_size,\n\u001b[1;32m    501\u001b[0m             remove_columns\u001b[39m=\u001b[39mremove_columns,\n\u001b[1;32m    502\u001b[0m             keep_in_memory\u001b[39m=\u001b[39mkeep_in_memory,\n\u001b[1;32m    503\u001b[0m             load_from_cache_file\u001b[39m=\u001b[39mload_from_cache_file,\n\u001b[1;32m    504\u001b[0m             cache_file_name\u001b[39m=\u001b[39mcache_file_names[k],\n\u001b[1;32m    505\u001b[0m             writer_batch_size\u001b[39m=\u001b[39mwriter_batch_size,\n\u001b[1;32m    506\u001b[0m             features\u001b[39m=\u001b[39mfeatures,\n\u001b[1;32m    507\u001b[0m             disable_nullable\u001b[39m=\u001b[39mdisable_nullable,\n\u001b[1;32m    508\u001b[0m             fn_kwargs\u001b[39m=\u001b[39mfn_kwargs,\n\u001b[1;32m    509\u001b[0m             num_proc\u001b[39m=\u001b[39mnum_proc,\n\u001b[1;32m    510\u001b[0m             desc\u001b[39m=\u001b[39mdesc,\n\u001b[1;32m    511\u001b[0m         )\n\u001b[1;32m    512\u001b[0m         \u001b[39mfor\u001b[39;00m k, dataset \u001b[39min\u001b[39;00m \u001b[39mself\u001b[39m\u001b[39m.\u001b[39mitems()\n\u001b[1;32m    513\u001b[0m     }\n\u001b[1;32m    514\u001b[0m )\n",
            "File \u001b[0;32m~/anaconda3/envs/coEnv/lib/python3.9/site-packages/datasets/dataset_dict.py:495\u001b[0m, in \u001b[0;36m<dictcomp>\u001b[0;34m(.0)\u001b[0m\n\u001b[1;32m    491\u001b[0m \u001b[39mif\u001b[39;00m cache_file_names \u001b[39mis\u001b[39;00m \u001b[39mNone\u001b[39;00m:\n\u001b[1;32m    492\u001b[0m     cache_file_names \u001b[39m=\u001b[39m {k: \u001b[39mNone\u001b[39;00m \u001b[39mfor\u001b[39;00m k \u001b[39min\u001b[39;00m \u001b[39mself\u001b[39m}\n\u001b[1;32m    493\u001b[0m \u001b[39mreturn\u001b[39;00m DatasetDict(\n\u001b[1;32m    494\u001b[0m     {\n\u001b[0;32m--> 495\u001b[0m         k: dataset\u001b[39m.\u001b[39;49mmap(\n\u001b[1;32m    496\u001b[0m             function\u001b[39m=\u001b[39;49mfunction,\n\u001b[1;32m    497\u001b[0m             with_indices\u001b[39m=\u001b[39;49mwith_indices,\n\u001b[1;32m    498\u001b[0m             input_columns\u001b[39m=\u001b[39;49minput_columns,\n\u001b[1;32m    499\u001b[0m             batched\u001b[39m=\u001b[39;49mbatched,\n\u001b[1;32m    500\u001b[0m             batch_size\u001b[39m=\u001b[39;49mbatch_size,\n\u001b[1;32m    501\u001b[0m             remove_columns\u001b[39m=\u001b[39;49mremove_columns,\n\u001b[1;32m    502\u001b[0m             keep_in_memory\u001b[39m=\u001b[39;49mkeep_in_memory,\n\u001b[1;32m    503\u001b[0m             load_from_cache_file\u001b[39m=\u001b[39;49mload_from_cache_file,\n\u001b[1;32m    504\u001b[0m             cache_file_name\u001b[39m=\u001b[39;49mcache_file_names[k],\n\u001b[1;32m    505\u001b[0m             writer_batch_size\u001b[39m=\u001b[39;49mwriter_batch_size,\n\u001b[1;32m    506\u001b[0m             features\u001b[39m=\u001b[39;49mfeatures,\n\u001b[1;32m    507\u001b[0m             disable_nullable\u001b[39m=\u001b[39;49mdisable_nullable,\n\u001b[1;32m    508\u001b[0m             fn_kwargs\u001b[39m=\u001b[39;49mfn_kwargs,\n\u001b[1;32m    509\u001b[0m             num_proc\u001b[39m=\u001b[39;49mnum_proc,\n\u001b[1;32m    510\u001b[0m             desc\u001b[39m=\u001b[39;49mdesc,\n\u001b[1;32m    511\u001b[0m         )\n\u001b[1;32m    512\u001b[0m         \u001b[39mfor\u001b[39;00m k, dataset \u001b[39min\u001b[39;00m \u001b[39mself\u001b[39m\u001b[39m.\u001b[39mitems()\n\u001b[1;32m    513\u001b[0m     }\n\u001b[1;32m    514\u001b[0m )\n",
            "File \u001b[0;32m~/anaconda3/envs/coEnv/lib/python3.9/site-packages/datasets/arrow_dataset.py:2215\u001b[0m, in \u001b[0;36mDataset.map\u001b[0;34m(self, function, with_indices, with_rank, input_columns, batched, batch_size, drop_last_batch, remove_columns, keep_in_memory, load_from_cache_file, cache_file_name, writer_batch_size, features, disable_nullable, fn_kwargs, num_proc, suffix_template, new_fingerprint, desc)\u001b[0m\n\u001b[1;32m   2210\u001b[0m         \u001b[39massert\u001b[39;00m (\n\u001b[1;32m   2211\u001b[0m             \u001b[39mlen\u001b[39m(results) \u001b[39m==\u001b[39m nb_of_missing_shards\n\u001b[1;32m   2212\u001b[0m         ), \u001b[39m\"\u001b[39m\u001b[39mThe number of missing cached shards needs to correspond to the number of `_map_single` we\u001b[39m\u001b[39m'\u001b[39m\u001b[39mre running\u001b[39m\u001b[39m\"\u001b[39m\n\u001b[1;32m   2214\u001b[0m         \u001b[39mfor\u001b[39;00m index, async_result \u001b[39min\u001b[39;00m results\u001b[39m.\u001b[39mitems():\n\u001b[0;32m-> 2215\u001b[0m             transformed_shards[index] \u001b[39m=\u001b[39m async_result\u001b[39m.\u001b[39;49mget()\n\u001b[1;32m   2217\u001b[0m \u001b[39massert\u001b[39;00m (\n\u001b[1;32m   2218\u001b[0m     transformed_shards\u001b[39m.\u001b[39mcount(\u001b[39mNone\u001b[39;00m) \u001b[39m==\u001b[39m \u001b[39m0\u001b[39m\n\u001b[1;32m   2219\u001b[0m ), \u001b[39m\"\u001b[39m\u001b[39mAll shards have to be defined Datasets, none should still be missing.\u001b[39m\u001b[39m\"\u001b[39m\n\u001b[1;32m   2221\u001b[0m logger\u001b[39m.\u001b[39minfo(\u001b[39mf\u001b[39m\u001b[39m\"\u001b[39m\u001b[39mConcatenating \u001b[39m\u001b[39m{\u001b[39;00mnum_proc\u001b[39m}\u001b[39;00m\u001b[39m shards\u001b[39m\u001b[39m\"\u001b[39m)\n",
            "File \u001b[0;32m~/anaconda3/envs/coEnv/lib/python3.9/site-packages/multiprocess/pool.py:771\u001b[0m, in \u001b[0;36mApplyResult.get\u001b[0;34m(self, timeout)\u001b[0m\n\u001b[1;32m    769\u001b[0m     \u001b[39mreturn\u001b[39;00m \u001b[39mself\u001b[39m\u001b[39m.\u001b[39m_value\n\u001b[1;32m    770\u001b[0m \u001b[39melse\u001b[39;00m:\n\u001b[0;32m--> 771\u001b[0m     \u001b[39mraise\u001b[39;00m \u001b[39mself\u001b[39m\u001b[39m.\u001b[39m_value\n",
            "\u001b[0;31mAttributeError\u001b[0m: module 'numpy' has no attribute 'object'.\n`np.object` was a deprecated alias for the builtin `object`. To avoid this error in existing code, use `object` by itself. Doing this will not modify any behavior and is safe. \nThe aliases was originally deprecated in NumPy 1.20; for more details and guidance see the original release note at:\n    https://numpy.org/devdocs/release/1.20.0-notes.html#deprecations"
          ]
        }
      ],
      "source": [
        "timit = timit.map(prepare_dataset, remove_columns=timit.column_names[\"train\"], num_proc=4)"
      ]
    },
    {
      "attachments": {},
      "cell_type": "markdown",
      "metadata": {
        "id": "p_MuJSH8nTuQ"
      },
      "source": [
        "**Note**: Currently `datasets` make use of [`torchaudio`](https://pytorch.org/audio/stable/index.html) and [`librosa`](https://librosa.org/doc/latest/index.html) for audio loading and resampling. If you wish to implement your own costumized data loading/sampling, feel free to just make use of the `\"path\"` column instead and disregard the `\"audio\"` column."
      ]
    },
    {
      "attachments": {},
      "cell_type": "markdown",
      "metadata": {
        "id": "M4J0bU1WsvAg"
      },
      "source": [
        "Long input sequences require a lot of memory. Since `Wav2Vec2` is based on `self-attention` the memory requirement scales quadratically with the input length for long input sequences (*cf.* with [this](https://www.reddit.com/r/MachineLearning/comments/genjvb/d_why_is_the_maximum_input_sequence_length_of/) reddit post). For this demo, let's filter all sequences that are longer than 4 seconds out of the training dataset."
      ]
    },
    {
      "cell_type": "code",
      "execution_count": null,
      "metadata": {
        "colab": {
          "base_uri": "https://localhost:8080/",
          "height": 49,
          "referenced_widgets": [
            "7006ee29b4ef406381b7fbd117b4b333",
            "c4960a24842040638dc4f7a81b737d6f",
            "2cb200945757448abb65d4af8fe4b95f",
            "d11bbf7a3d924028958d5bcc0a72e122",
            "374e9b6e9fcc45eabe84ae0c9f286546",
            "fcd185b60d6e4e60a8ab964aac262f73",
            "46b49c05ae70468cbe834a11a86c53ee",
            "480805c0a342489dbe01eef7aa1a9b65",
            "c7729e98d977430a8a85243bab1dc83d",
            "b55fea5b10694c8cb1aa93622170ff8c",
            "362150e5ee6b409381c9a3f2c4199186"
          ]
        },
        "id": "nqGobEPUvG3v",
        "outputId": "fafa598d-49a2-4ba3-cadb-8be5817944f0"
      },
      "outputs": [
        {
          "data": {
            "application/vnd.jupyter.widget-view+json": {
              "model_id": "145e3a9676ad46379cea9fc34b0baba9",
              "version_major": 2,
              "version_minor": 0
            },
            "text/plain": [
              "  0%|          | 0/5 [00:00<?, ?ba/s]"
            ]
          },
          "metadata": {},
          "output_type": "display_data"
        }
      ],
      "source": [
        "max_input_length_in_sec = 4.0\n",
        "timit[\"train\"] = timit[\"train\"].filter(lambda x: x < max_input_length_in_sec * processor.feature_extractor.sampling_rate, input_columns=[\"input_length\"])"
      ]
    },
    {
      "attachments": {},
      "cell_type": "markdown",
      "metadata": {
        "id": "25Genil2v_Br"
      },
      "source": [
        "Awesome, now we are ready to start training!"
      ]
    },
    {
      "attachments": {},
      "cell_type": "markdown",
      "metadata": {
        "id": "gYlQkKVoRUos"
      },
      "source": [
        "## Training & Evaluation\n",
        "\n",
        "The data is processed so that we are ready to start setting up the training pipeline. We will make use of 🤗's [Trainer](https://huggingface.co/transformers/master/main_classes/trainer.html?highlight=trainer) for which we essentially need to do the following:\n",
        "\n",
        "- Define a data collator. In contrast to most NLP models, Wav2Vec2 has a much larger input length than output length. *E.g.*, a sample of input length 50000 has an output length of no more than 100. Given the large input sizes, it is much more efficient to pad the training batches dynamically meaning that all training samples should only be padded to the longest sample in their batch and not the overall longest sample. Therefore, fine-tuning Wav2Vec2 requires a special padding data collator, which we will define below\n",
        "\n",
        "- Evaluation metric. During training, the model should be evaluated on the word error rate. We should define a `compute_metrics` function accordingly\n",
        "\n",
        "- Load a pretrained checkpoint. We need to load a pretrained checkpoint and configure it correctly for training.\n",
        "\n",
        "- Define the training configuration.\n",
        "\n",
        "After having fine-tuned the model, we will correctly evaluate it on the test data and verify that it has indeed learned to correctly transcribe speech."
      ]
    },
    {
      "attachments": {},
      "cell_type": "markdown",
      "metadata": {
        "id": "Slk403unUS91"
      },
      "source": [
        "### Set-up Trainer\n",
        "\n",
        "Let's start by defining the data collator. The code for the data collator was copied from [this example](https://github.com/huggingface/transformers/blob/9a06b6b11bdfc42eea08fa91d0c737d1863c99e3/examples/research_projects/wav2vec2/run_asr.py#L81).\n",
        "\n",
        "Without going into too many details, in contrast to the common data collators, this data collator treats the `input_values` and `labels` differently and thus applies to separate padding functions on them (again making use of Wav2Vec2's context manager). This is necessary because in speech input and output are of different modalities meaning that they should not be treated by the same padding function.\n",
        "Analogous to the common data collators, the padding tokens in the labels with `-100` so that those tokens are **not** taken into account when computing the loss."
      ]
    },
    {
      "cell_type": "code",
      "execution_count": null,
      "metadata": {
        "id": "tborvC9hx88e"
      },
      "outputs": [],
      "source": [
        "import torch\n",
        "\n",
        "from dataclasses import dataclass, field\n",
        "from typing import Any, Dict, List, Optional, Union\n",
        "\n",
        "@dataclass\n",
        "class DataCollatorCTCWithPadding:\n",
        "    \"\"\"\n",
        "    Data collator that will dynamically pad the inputs received.\n",
        "    Args:\n",
        "        processor (:class:`~transformers.Wav2Vec2Processor`)\n",
        "            The processor used for proccessing the data.\n",
        "        padding (:obj:`bool`, :obj:`str` or :class:`~transformers.tokenization_utils_base.PaddingStrategy`, `optional`, defaults to :obj:`True`):\n",
        "            Select a strategy to pad the returned sequences (according to the model's padding side and padding index)\n",
        "            among:\n",
        "            * :obj:`True` or :obj:`'longest'`: Pad to the longest sequence in the batch (or no padding if only a single\n",
        "              sequence if provided).\n",
        "            * :obj:`'max_length'`: Pad to a maximum length specified with the argument :obj:`max_length` or to the\n",
        "              maximum acceptable input length for the model if that argument is not provided.\n",
        "            * :obj:`False` or :obj:`'do_not_pad'` (default): No padding (i.e., can output a batch with sequences of\n",
        "              different lengths).\n",
        "    \"\"\"\n",
        "\n",
        "    processor: Wav2Vec2Processor\n",
        "    padding: Union[bool, str] = True\n",
        "\n",
        "    def __call__(self, features: List[Dict[str, Union[List[int], torch.Tensor]]]) -> Dict[str, torch.Tensor]:\n",
        "        # split inputs and labels since they have to be of different lenghts and need\n",
        "        # different padding methods\n",
        "        input_features = [{\"input_values\": feature[\"input_values\"]} for feature in features]\n",
        "        label_features = [{\"input_ids\": feature[\"labels\"]} for feature in features]\n",
        "\n",
        "        batch = self.processor.pad(\n",
        "            input_features,\n",
        "            padding=self.padding,\n",
        "            return_tensors=\"pt\",\n",
        "        )\n",
        "        with self.processor.as_target_processor():\n",
        "            labels_batch = self.processor.pad(\n",
        "                label_features,\n",
        "                padding=self.padding,\n",
        "                return_tensors=\"pt\",\n",
        "            )\n",
        "\n",
        "        # replace padding with -100 to ignore loss correctly\n",
        "        labels = labels_batch[\"input_ids\"].masked_fill(labels_batch.attention_mask.ne(1), -100)\n",
        "\n",
        "        batch[\"labels\"] = labels\n",
        "\n",
        "        return batch"
      ]
    },
    {
      "cell_type": "code",
      "execution_count": null,
      "metadata": {
        "id": "lbQf5GuZyQ4_"
      },
      "outputs": [],
      "source": [
        "data_collator = DataCollatorCTCWithPadding(processor=processor, padding=True)"
      ]
    },
    {
      "attachments": {},
      "cell_type": "markdown",
      "metadata": {
        "id": "xO-Zdj-5cxXp"
      },
      "source": [
        "Next, the evaluation metric is defined. As mentioned earlier, the\n",
        "predominant metric in ASR is the word error rate (WER), hence we will use it in this notebook as well."
      ]
    },
    {
      "cell_type": "code",
      "execution_count": null,
      "metadata": {
        "colab": {
          "base_uri": "https://localhost:8080/",
          "height": 49,
          "referenced_widgets": [
            "e2df8e697e9c4f64a2bba0b6de2e8d49",
            "334975266d804748874f5d5621af50ba",
            "ab4a2cca2b404d25b2cda485c7c28077",
            "c781acd05e244750a8084992acc4ac2c",
            "1cb0c8f214cc4de791e49af3c793380a",
            "b51bb202d2214ff28d2a4cd7216443a7",
            "c3a76df48c1f46a6a588babaadaafce2",
            "da8639f433da4cefa2affd438ac18c89",
            "f4cfe55a73c141ef9b751d0db992d3cf",
            "8da462790a6d4fbb9251290bd9ee14f0",
            "fe31c534d6cd46da8b6a640e039a4d6c"
          ]
        },
        "id": "9Xsux2gmyXso",
        "outputId": "c8d63dfd-b8a9-453e-8ff6-276c6034cc54"
      },
      "outputs": [],
      "source": [
        "wer_metric = load_metric(\"wer\")"
      ]
    },
    {
      "attachments": {},
      "cell_type": "markdown",
      "metadata": {
        "id": "E1qZU5p-deqB"
      },
      "source": [
        "The model will return a sequence of logit vectors:\n",
        "$\\mathbf{y}_1, \\ldots, \\mathbf{y}_m$ with $\\mathbf{y}_1 = f_{\\theta}(x_1, \\ldots, x_n)[0]$ and $n >> m$.\n",
        "\n",
        "A logit vector $\\mathbf{y}_1$ contains the log-odds for each word in the vocabulary we defined earlier, thus $\\text{len}(\\mathbf{y}_i) =$ `config.vocab_size`. We are interested in the most likely prediction of the model and thus take the `argmax(...)` of the logits. Also, we transform the encoded labels back to the original string by replacing `-100` with the `pad_token_id` and decoding the ids while making sure that consecutive tokens are **not** grouped to the same token in CTC style ${}^1$."
      ]
    },
    {
      "cell_type": "code",
      "execution_count": null,
      "metadata": {
        "id": "1XZ-kjweyTy_"
      },
      "outputs": [],
      "source": [
        "def compute_metrics(pred):\n",
        "    pred_logits = pred.predictions\n",
        "    pred_ids = np.argmax(pred_logits, axis=-1)\n",
        "\n",
        "    pred.label_ids[pred.label_ids == -100] = processor.tokenizer.pad_token_id\n",
        "\n",
        "    pred_str = processor.batch_decode(pred_ids)\n",
        "    # we do not want to group tokens when computing the metrics\n",
        "    label_str = processor.batch_decode(pred.label_ids, group_tokens=False)\n",
        "\n",
        "    wer = wer_metric.compute(predictions=pred_str, references=label_str)\n",
        "\n",
        "    return {\"wer\": wer}"
      ]
    },
    {
      "attachments": {},
      "cell_type": "markdown",
      "metadata": {
        "id": "Xmgrx4bRwLIH"
      },
      "source": [
        "Now, we can load the pretrained `Wav2Vec2` checkpoint. The tokenizer's `pad_token_id` must be to define the model's `pad_token_id` or in the case of `Wav2Vec2ForCTC` also CTC's *blank token* ${}^2$. To save GPU memory, we enable PyTorch's [gradient checkpointing](https://pytorch.org/docs/stable/checkpoint.html) and also set the loss reduction to \"*mean*\"."
      ]
    },
    {
      "cell_type": "code",
      "execution_count": null,
      "metadata": {
        "colab": {
          "base_uri": "https://localhost:8080/",
          "height": 223,
          "referenced_widgets": [
            "e57c5cbc0380464994c4a5b42de76c66",
            "47d42cc391cd46049052a802e46364b6",
            "2a49340e51fc4054a2616d1990109d7c",
            "5c09a1875b4f4cc2b3cf64a52b4fd8b8",
            "7664d4cd39254acfb97b63a3331c8b25",
            "b92aa97e7bf4400c8e1314fd9cd6360c",
            "ae02bea4efb44660aa5718e913f38d1d",
            "bd85d28cc40142998b42434a705de501",
            "7a913dfa92e7410f8304bd12b186671e",
            "2e4870ab55404beaafde980d48618ed7",
            "b85b4466791b4764ab4ef51f90281e9f",
            "96fb47902431425f86a6a5ab760c92d3",
            "4d26ca1886f0449ea7bd6b4c8de7ab24",
            "e610d02445bd4e5e9b4783658f058147",
            "8a07f08956924a38b2a57f70b0fbeead",
            "39a54ded218f48048321c604eece88d9",
            "b27cb4080cb642739729fed51ee8c3ad",
            "8ba99977f5d64f69820c6cb91020848c",
            "41761888fc3547bf81907d84c07cd964",
            "d2174b1613f54697a70a519f40b5aee8",
            "33d85e2daf4e45e48d1eb5dbf86cd4b6",
            "05de8b07f5a54cdaabb7ad3de4a032b3"
          ]
        },
        "id": "e7cqAWIayn6w",
        "outputId": "e0c7e9ba-db20-4128-bf9a-7d377aa3eb77"
      },
      "outputs": [
        {
          "name": "stderr",
          "output_type": "stream",
          "text": [
            "/home/cslab03/anaconda3/envs/coEnv/lib/python3.9/site-packages/transformers/configuration_utils.py:356: UserWarning: Passing `gradient_checkpointing` to a config initialization is deprecated and will be removed in v5 Transformers. Using `model.gradient_checkpointing_enable()` instead, or if you are using the `Trainer` API, pass `gradient_checkpointing=True` in your `TrainingArguments`.\n",
            "  warnings.warn(\n",
            "Some weights of the model checkpoint at facebook/wav2vec2-base were not used when initializing Wav2Vec2ForCTC: ['project_hid.weight', 'quantizer.weight_proj.bias', 'project_q.bias', 'quantizer.weight_proj.weight', 'project_hid.bias', 'project_q.weight', 'quantizer.codevectors']\n",
            "- This IS expected if you are initializing Wav2Vec2ForCTC from the checkpoint of a model trained on another task or with another architecture (e.g. initializing a BertForSequenceClassification model from a BertForPreTraining model).\n",
            "- This IS NOT expected if you are initializing Wav2Vec2ForCTC from the checkpoint of a model that you expect to be exactly identical (initializing a BertForSequenceClassification model from a BertForSequenceClassification model).\n",
            "Some weights of Wav2Vec2ForCTC were not initialized from the model checkpoint at facebook/wav2vec2-base and are newly initialized: ['lm_head.bias', 'lm_head.weight']\n",
            "You should probably TRAIN this model on a down-stream task to be able to use it for predictions and inference.\n"
          ]
        }
      ],
      "source": [
        "from transformers import Wav2Vec2ForCTC\n",
        "\n",
        "model = Wav2Vec2ForCTC.from_pretrained(\n",
        "    \"facebook/wav2vec2-base\",\n",
        "    ctc_loss_reduction=\"mean\",\n",
        "    pad_token_id=processor.tokenizer.pad_token_id,\n",
        ")"
      ]
    },
    {
      "attachments": {},
      "cell_type": "markdown",
      "metadata": {
        "id": "1DwR3XLSzGDD"
      },
      "source": [
        "The first component of Wav2Vec2 consists of a stack of CNN layers that are used to extract acoustically meaningful - but contextually independent - features from the raw speech signal. This part of the model has already been sufficiently trained during pretrainind and as stated in the [paper](https://arxiv.org/abs/2006.11477) does not need to be fine-tuned anymore.\n",
        "Thus, we can set the `requires_grad` to `False` for all parameters of the *feature extraction* part."
      ]
    },
    {
      "cell_type": "code",
      "execution_count": null,
      "metadata": {
        "id": "Et_NUAZjWppc"
      },
      "outputs": [],
      "source": [
        "model.freeze_feature_encoder()"
      ]
    },
    {
      "attachments": {},
      "cell_type": "markdown",
      "metadata": {
        "id": "lD4aGhQM0K-D"
      },
      "source": [
        "In a final step, we define all parameters related to training.\n",
        "To give more explanation on some of the parameters:\n",
        "- `group_by_length` makes training more efficient by grouping training samples of similar input length into one batch. This can significantly speed up training time by heavily reducing the overall number of useless padding tokens that are passed through the model\n",
        "- `learning_rate` and `weight_decay` were heuristically tuned until fine-tuning has become stable. Note that those parameters strongly depend on the Timit dataset and might be suboptimal for other speech datasets.\n",
        "\n",
        "For more explanations on other parameters, one can take a look at the [docs](https://huggingface.co/transformers/master/main_classes/trainer.html?highlight=trainer#trainingarguments).\n",
        "\n",
        "During training, a checkpoint will be uploaded asynchronously to the hub every 400 training steps. It allows you to also play around with the demo widget even while your model is still training.\n",
        "\n",
        "**Note**: If one does not want to upload the model checkpoints to the hub, simply set `push_to_hub=False`."
      ]
    },
    {
      "cell_type": "code",
<<<<<<< HEAD
      "execution_count": 37,
=======
      "execution_count": null,
>>>>>>> 1fae78210ecef984ce04102cfc01f97868a04ab3
      "metadata": {
        "id": "KbeKSV7uzGPP"
      },
      "outputs": [],
      "source": [
        "from transformers import TrainingArguments\n",
        "\n",
        "training_args = TrainingArguments(\n",
        "  output_dir=repo_name,\n",
        "  group_by_length=True,\n",
        "  per_device_train_batch_size=8,\n",
        "  evaluation_strategy=\"steps\",\n",
        "  num_train_epochs=30,\n",
        "  gradient_checkpointing=True,\n",
        "  save_steps=500,\n",
        "  eval_steps=500,\n",
        "  logging_steps=500,\n",
        "  learning_rate=1e-4,\n",
        "  weight_decay=0.005,\n",
        "  warmup_steps=1000,\n",
        "  save_total_limit=2,\n",
        ")"
      ]
    },
    {
      "attachments": {},
      "cell_type": "markdown",
      "metadata": {
        "id": "OsW-WZcL1ZtN"
      },
      "source": [
        "Now, all instances can be passed to Trainer and we are ready to start training!"
      ]
    },
    {
      "cell_type": "code",
<<<<<<< HEAD
      "execution_count": 38,
=======
      "execution_count": null,
>>>>>>> 1fae78210ecef984ce04102cfc01f97868a04ab3
      "metadata": {
        "colab": {
          "base_uri": "https://localhost:8080/"
        },
        "id": "rY7vBmFCPFgC",
        "outputId": "26901f74-4187-4a33-b00c-94861a6059b3"
      },
      "outputs": [],
      "source": [
        "from transformers import Trainer\n",
        "\n",
        "trainer = Trainer(\n",
        "    model=model,\n",
        "    data_collator=data_collator,\n",
        "    args=training_args,\n",
        "    compute_metrics=compute_metrics,\n",
        "    train_dataset=timit[\"train\"],\n",
        "    eval_dataset=timit[\"test\"],\n",
        "    tokenizer=processor.feature_extractor,\n",
        ")"
      ]
    },
    {
      "attachments": {},
      "cell_type": "markdown",
      "metadata": {
        "id": "UoXBx1JAA0DX"
      },
      "source": [
        "\n",
        "\n",
        "---\n",
        "\n",
        "${}^1$ To allow models to become independent of the speaker rate, in CTC, consecutive tokens that are identical are simply grouped as a single token. However, the encoded labels should not be grouped when decoding since they don't correspond to the predicted tokens of the model, which is why the `group_tokens=False` parameter has to be passed. If we wouldn't pass this parameter a word like `\"hello\"` would incorrectly be encoded, and decoded as `\"helo\"`.\n",
        "\n",
        "${}^2$ The blank token allows the model to predict a word, such as `\"hello\"` by forcing it to insert the blank token between the two l's. A CTC-conform prediction of `\"hello\"` of our model would be `[PAD] [PAD] \"h\" \"e\" \"e\" \"l\" \"l\" [PAD] \"l\" \"o\" \"o\" [PAD]`."
      ]
    },
    {
      "attachments": {},
      "cell_type": "markdown",
      "metadata": {
        "id": "rpvZHM1xReIW"
      },
      "source": [
        "### Training"
      ]
    },
    {
      "attachments": {},
      "cell_type": "markdown",
      "metadata": {
        "id": "j-3oKSzZ1hGq"
      },
      "source": [
        "Training will take between 90 and 270 minutes depending on the GPU allocated to this notebook. While the trained model yields satisfying results on *Timit*'s test data, it is by no means an optimally fine-tuned model. The purpose of this notebook is to demonstrate how Wav2Vec2's [base](https://huggingface.co/facebook/wav2vec2-base), [large](https://huggingface.co/facebook/wav2vec2-large), and [large-lv60](https://huggingface.co/facebook/wav2vec2-large-lv60) checkpoints can be fine-tuned on any English dataset.\n",
        "\n",
        "In case you want to use this google colab to fine-tune your model, you should make sure that your training doesn't stop due to inactivity. A simple hack to prevent this is to paste the following code into the console of this tab (*right mouse click -> inspect -> Console tab and insert code*)."
      ]
    },
    {
      "attachments": {},
      "cell_type": "markdown",
      "metadata": {
        "id": "VYYAvgkW4P0m"
      },
      "source": [
        "```javascript\n",
        "function ConnectButton(){\n",
        "    console.log(\"Connect pushed\");\n",
        "    document.querySelector(\"#top-toolbar > colab-connect-button\").shadowRoot.querySelector(\"#connect\").click()\n",
        "}\n",
        "setInterval(ConnectButton,60000);\n",
        "```"
      ]
    },
    {
      "attachments": {},
      "cell_type": "markdown",
      "metadata": {
        "id": "PmY6yqd1zvzU"
      },
      "source": [
        "Depending on what GPU was allocated to your google colab it might be possible that you are seeing an `\"out-of-memory\"` error here. In this case, it's probably best to reduce `per_device_train_batch_size` to 16 or even less and eventually make use of [`gradient_accumulation`](https://huggingface.co/transformers/master/main_classes/trainer.html#trainingarguments)."
      ]
    },
    {
      "cell_type": "code",
<<<<<<< HEAD
      "execution_count": 39,
=======
      "execution_count": null,
>>>>>>> 1fae78210ecef984ce04102cfc01f97868a04ab3
      "metadata": {
        "colab": {
          "background_save": true,
          "base_uri": "https://localhost:8080/",
          "height": 1000
        },
        "id": "_UEjJqGsQw24",
        "outputId": "9c5a3893-c598-4eb3-d235-957cd0784ad7"
      },
      "outputs": [
        {
          "name": "stderr",
          "output_type": "stream",
          "text": [
            "The following columns in the training set  don't have a corresponding argument in `Wav2Vec2ForCTC.forward` and have been ignored: input_length. If input_length are not expected by `Wav2Vec2ForCTC.forward`,  you can safely ignore this message.\n",
            "/home/cslab03/anaconda3/envs/coEnv/lib/python3.9/site-packages/transformers/optimization.py:306: FutureWarning: This implementation of AdamW is deprecated and will be removed in a future version. Use the PyTorch implementation torch.optim.AdamW instead, or set `no_deprecation_warning=True` to disable this warning\n",
            "  warnings.warn(\n",
            "***** Running training *****\n",
            "  Num examples = 3978\n",
            "  Num Epochs = 30\n",
            "  Instantaneous batch size per device = 8\n",
            "  Total train batch size (w. parallel, distributed & accumulation) = 8\n",
            "  Gradient Accumulation steps = 1\n",
            "  Total optimization steps = 14940\n"
          ]
        },
        {
          "data": {
            "application/vnd.jupyter.widget-view+json": {
              "model_id": "4462c30b98364c5987bd24293ce9a2e6",
              "version_major": 2,
              "version_minor": 0
            },
            "text/plain": [
              "  0%|          | 0/14940 [00:00<?, ?it/s]"
            ]
          },
          "metadata": {},
          "output_type": "display_data"
        },
        {
          "name": "stderr",
          "output_type": "stream",
          "text": [
            "The following columns in the evaluation set  don't have a corresponding argument in `Wav2Vec2ForCTC.forward` and have been ignored: input_length. If input_length are not expected by `Wav2Vec2ForCTC.forward`,  you can safely ignore this message.\n",
            "***** Running Evaluation *****\n",
            "  Num examples = 1680\n",
            "  Batch size = 8\n"
          ]
        },
        {
          "name": "stdout",
          "output_type": "stream",
          "text": [
            "{'loss': 3.4997, 'learning_rate': 5e-05, 'epoch': 1.0}\n"
          ]
        },
        {
          "data": {
            "application/vnd.jupyter.widget-view+json": {
              "model_id": "40f79ed3b94e4a378d7b97ef6baa9a3c",
              "version_major": 2,
              "version_minor": 0
            },
            "text/plain": [
              "  0%|          | 0/210 [00:00<?, ?it/s]"
            ]
          },
          "metadata": {},
          "output_type": "display_data"
        },
        {
          "name": "stderr",
          "output_type": "stream",
          "text": [
            "Saving model checkpoint to wav2vec2-base-timit-demo-google-colab/checkpoint-500\n",
            "Configuration saved in wav2vec2-base-timit-demo-google-colab/checkpoint-500/config.json\n"
          ]
        },
        {
          "name": "stdout",
          "output_type": "stream",
          "text": [
            "{'eval_loss': 1.622061848640442, 'eval_wer': 0.9515539935221556, 'eval_runtime': 51.7797, 'eval_samples_per_second': 32.445, 'eval_steps_per_second': 4.056, 'epoch': 1.0}\n"
          ]
        },
        {
          "name": "stderr",
          "output_type": "stream",
          "text": [
            "Model weights saved in wav2vec2-base-timit-demo-google-colab/checkpoint-500/pytorch_model.bin\n",
            "Feature extractor saved in wav2vec2-base-timit-demo-google-colab/checkpoint-500/preprocessor_config.json\n",
            "The following columns in the evaluation set  don't have a corresponding argument in `Wav2Vec2ForCTC.forward` and have been ignored: input_length. If input_length are not expected by `Wav2Vec2ForCTC.forward`,  you can safely ignore this message.\n",
            "***** Running Evaluation *****\n",
            "  Num examples = 1680\n",
            "  Batch size = 8\n"
          ]
        },
        {
          "name": "stdout",
          "output_type": "stream",
          "text": [
            "{'loss': 0.8307, 'learning_rate': 0.0001, 'epoch': 2.01}\n"
          ]
        },
        {
          "data": {
            "application/vnd.jupyter.widget-view+json": {
              "model_id": "e32830acad624ca19a9e0808f57fc4e2",
              "version_major": 2,
              "version_minor": 0
            },
            "text/plain": [
              "  0%|          | 0/210 [00:00<?, ?it/s]"
            ]
          },
          "metadata": {},
          "output_type": "display_data"
        },
        {
          "name": "stderr",
          "output_type": "stream",
          "text": [
            "Saving model checkpoint to wav2vec2-base-timit-demo-google-colab/checkpoint-1000\n",
            "Configuration saved in wav2vec2-base-timit-demo-google-colab/checkpoint-1000/config.json\n"
          ]
        },
        {
          "name": "stdout",
          "output_type": "stream",
          "text": [
            "{'eval_loss': 0.5123467445373535, 'eval_wer': 0.5307697608710633, 'eval_runtime': 53.0346, 'eval_samples_per_second': 31.677, 'eval_steps_per_second': 3.96, 'epoch': 2.01}\n"
          ]
        },
        {
          "name": "stderr",
          "output_type": "stream",
          "text": [
            "Model weights saved in wav2vec2-base-timit-demo-google-colab/checkpoint-1000/pytorch_model.bin\n",
            "Feature extractor saved in wav2vec2-base-timit-demo-google-colab/checkpoint-1000/preprocessor_config.json\n",
            "The following columns in the evaluation set  don't have a corresponding argument in `Wav2Vec2ForCTC.forward` and have been ignored: input_length. If input_length are not expected by `Wav2Vec2ForCTC.forward`,  you can safely ignore this message.\n",
            "***** Running Evaluation *****\n",
            "  Num examples = 1680\n",
            "  Batch size = 8\n"
          ]
        },
        {
          "name": "stdout",
          "output_type": "stream",
          "text": [
            "{'loss': 0.4544, 'learning_rate': 9.641319942611191e-05, 'epoch': 3.01}\n"
          ]
        },
        {
          "data": {
            "application/vnd.jupyter.widget-view+json": {
              "model_id": "eaf94e54cbb44b5fa994e2ac60c21400",
              "version_major": 2,
              "version_minor": 0
            },
            "text/plain": [
              "  0%|          | 0/210 [00:00<?, ?it/s]"
            ]
          },
          "metadata": {},
          "output_type": "display_data"
        },
        {
          "name": "stderr",
          "output_type": "stream",
          "text": [
            "Saving model checkpoint to wav2vec2-base-timit-demo-google-colab/checkpoint-1500\n",
            "Configuration saved in wav2vec2-base-timit-demo-google-colab/checkpoint-1500/config.json\n"
          ]
        },
        {
          "name": "stdout",
          "output_type": "stream",
          "text": [
            "{'eval_loss': 0.450427383184433, 'eval_wer': 0.4625456550203294, 'eval_runtime': 51.1176, 'eval_samples_per_second': 32.865, 'eval_steps_per_second': 4.108, 'epoch': 3.01}\n"
          ]
        },
        {
          "name": "stderr",
          "output_type": "stream",
          "text": [
            "Model weights saved in wav2vec2-base-timit-demo-google-colab/checkpoint-1500/pytorch_model.bin\n",
            "Feature extractor saved in wav2vec2-base-timit-demo-google-colab/checkpoint-1500/preprocessor_config.json\n",
            "Deleting older checkpoint [wav2vec2-base-timit-demo-google-colab/checkpoint-500] due to args.save_total_limit\n",
            "The following columns in the evaluation set  don't have a corresponding argument in `Wav2Vec2ForCTC.forward` and have been ignored: input_length. If input_length are not expected by `Wav2Vec2ForCTC.forward`,  you can safely ignore this message.\n",
            "***** Running Evaluation *****\n",
            "  Num examples = 1680\n",
            "  Batch size = 8\n"
          ]
        },
        {
          "name": "stdout",
          "output_type": "stream",
          "text": [
            "{'loss': 0.3028, 'learning_rate': 9.282639885222381e-05, 'epoch': 4.02}\n"
          ]
        },
        {
          "data": {
            "application/vnd.jupyter.widget-view+json": {
              "model_id": "75372510ded14354b4243c80b2fa5522",
              "version_major": 2,
              "version_minor": 0
            },
            "text/plain": [
              "  0%|          | 0/210 [00:00<?, ?it/s]"
            ]
          },
          "metadata": {},
          "output_type": "display_data"
        },
        {
          "name": "stderr",
          "output_type": "stream",
          "text": [
            "Saving model checkpoint to wav2vec2-base-timit-demo-google-colab/checkpoint-2000\n",
            "Configuration saved in wav2vec2-base-timit-demo-google-colab/checkpoint-2000/config.json\n"
          ]
        },
        {
          "name": "stdout",
          "output_type": "stream",
          "text": [
            "{'eval_loss': 0.4174801707267761, 'eval_wer': 0.43091447867135274, 'eval_runtime': 52.1554, 'eval_samples_per_second': 32.211, 'eval_steps_per_second': 4.026, 'epoch': 4.02}\n"
          ]
        },
        {
          "name": "stderr",
          "output_type": "stream",
          "text": [
            "Model weights saved in wav2vec2-base-timit-demo-google-colab/checkpoint-2000/pytorch_model.bin\n",
            "Feature extractor saved in wav2vec2-base-timit-demo-google-colab/checkpoint-2000/preprocessor_config.json\n",
            "Deleting older checkpoint [wav2vec2-base-timit-demo-google-colab/checkpoint-1000] due to args.save_total_limit\n",
            "The following columns in the evaluation set  don't have a corresponding argument in `Wav2Vec2ForCTC.forward` and have been ignored: input_length. If input_length are not expected by `Wav2Vec2ForCTC.forward`,  you can safely ignore this message.\n",
            "***** Running Evaluation *****\n",
            "  Num examples = 1680\n",
            "  Batch size = 8\n"
          ]
        },
        {
          "name": "stdout",
          "output_type": "stream",
          "text": [
            "{'loss': 0.2342, 'learning_rate': 8.923959827833573e-05, 'epoch': 5.02}\n"
          ]
        },
        {
          "data": {
            "application/vnd.jupyter.widget-view+json": {
              "model_id": "1d7314d1720b4bf1b68977caa6076913",
              "version_major": 2,
              "version_minor": 0
            },
            "text/plain": [
              "  0%|          | 0/210 [00:00<?, ?it/s]"
            ]
          },
          "metadata": {},
          "output_type": "display_data"
        },
        {
          "name": "stderr",
          "output_type": "stream",
          "text": [
            "Saving model checkpoint to wav2vec2-base-timit-demo-google-colab/checkpoint-2500\n",
            "Configuration saved in wav2vec2-base-timit-demo-google-colab/checkpoint-2500/config.json\n"
          ]
        },
        {
          "name": "stdout",
          "output_type": "stream",
          "text": [
            "{'eval_loss': 0.4133590757846832, 'eval_wer': 0.4001102611811729, 'eval_runtime': 52.5524, 'eval_samples_per_second': 31.968, 'eval_steps_per_second': 3.996, 'epoch': 5.02}\n"
          ]
        },
        {
          "name": "stderr",
          "output_type": "stream",
          "text": [
            "Model weights saved in wav2vec2-base-timit-demo-google-colab/checkpoint-2500/pytorch_model.bin\n",
            "Feature extractor saved in wav2vec2-base-timit-demo-google-colab/checkpoint-2500/preprocessor_config.json\n",
            "Deleting older checkpoint [wav2vec2-base-timit-demo-google-colab/checkpoint-1500] due to args.save_total_limit\n",
            "The following columns in the evaluation set  don't have a corresponding argument in `Wav2Vec2ForCTC.forward` and have been ignored: input_length. If input_length are not expected by `Wav2Vec2ForCTC.forward`,  you can safely ignore this message.\n",
            "***** Running Evaluation *****\n",
            "  Num examples = 1680\n",
            "  Batch size = 8\n"
          ]
        },
        {
          "name": "stdout",
          "output_type": "stream",
          "text": [
            "{'loss': 0.1903, 'learning_rate': 8.565279770444764e-05, 'epoch': 6.02}\n"
          ]
        },
        {
          "data": {
            "application/vnd.jupyter.widget-view+json": {
              "model_id": "45c74a30d5ef4387b8c62b6bcd1139a7",
              "version_major": 2,
              "version_minor": 0
            },
            "text/plain": [
              "  0%|          | 0/210 [00:00<?, ?it/s]"
            ]
          },
          "metadata": {},
          "output_type": "display_data"
        },
        {
          "name": "stderr",
          "output_type": "stream",
          "text": [
            "Saving model checkpoint to wav2vec2-base-timit-demo-google-colab/checkpoint-3000\n",
            "Configuration saved in wav2vec2-base-timit-demo-google-colab/checkpoint-3000/config.json\n"
          ]
        },
        {
          "name": "stdout",
          "output_type": "stream",
          "text": [
            "{'eval_loss': 0.40046918392181396, 'eval_wer': 0.38556956791399627, 'eval_runtime': 51.8702, 'eval_samples_per_second': 32.389, 'eval_steps_per_second': 4.049, 'epoch': 6.02}\n"
          ]
        },
        {
          "name": "stderr",
          "output_type": "stream",
          "text": [
            "Model weights saved in wav2vec2-base-timit-demo-google-colab/checkpoint-3000/pytorch_model.bin\n",
            "Feature extractor saved in wav2vec2-base-timit-demo-google-colab/checkpoint-3000/preprocessor_config.json\n",
            "Deleting older checkpoint [wav2vec2-base-timit-demo-google-colab/checkpoint-2000] due to args.save_total_limit\n",
            "The following columns in the evaluation set  don't have a corresponding argument in `Wav2Vec2ForCTC.forward` and have been ignored: input_length. If input_length are not expected by `Wav2Vec2ForCTC.forward`,  you can safely ignore this message.\n",
            "***** Running Evaluation *****\n",
            "  Num examples = 1680\n",
            "  Batch size = 8\n"
          ]
        },
        {
          "name": "stdout",
          "output_type": "stream",
          "text": [
            "{'loss': 0.1695, 'learning_rate': 8.206599713055955e-05, 'epoch': 7.03}\n"
          ]
        },
        {
          "data": {
            "application/vnd.jupyter.widget-view+json": {
              "model_id": "aef7fc28255a419b8fca94b8af0845fa",
              "version_major": 2,
              "version_minor": 0
            },
            "text/plain": [
              "  0%|          | 0/210 [00:00<?, ?it/s]"
            ]
          },
          "metadata": {},
          "output_type": "display_data"
        },
        {
          "name": "stderr",
          "output_type": "stream",
          "text": [
            "Saving model checkpoint to wav2vec2-base-timit-demo-google-colab/checkpoint-3500\n",
            "Configuration saved in wav2vec2-base-timit-demo-google-colab/checkpoint-3500/config.json\n"
          ]
        },
        {
          "name": "stdout",
          "output_type": "stream",
          "text": [
            "{'eval_loss': 0.43918871879577637, 'eval_wer': 0.3797119426641858, 'eval_runtime': 51.4843, 'eval_samples_per_second': 32.631, 'eval_steps_per_second': 4.079, 'epoch': 7.03}\n"
          ]
        },
        {
          "name": "stderr",
          "output_type": "stream",
          "text": [
            "Model weights saved in wav2vec2-base-timit-demo-google-colab/checkpoint-3500/pytorch_model.bin\n",
            "Feature extractor saved in wav2vec2-base-timit-demo-google-colab/checkpoint-3500/preprocessor_config.json\n",
            "Deleting older checkpoint [wav2vec2-base-timit-demo-google-colab/checkpoint-2500] due to args.save_total_limit\n",
            "The following columns in the evaluation set  don't have a corresponding argument in `Wav2Vec2ForCTC.forward` and have been ignored: input_length. If input_length are not expected by `Wav2Vec2ForCTC.forward`,  you can safely ignore this message.\n",
            "***** Running Evaluation *****\n",
            "  Num examples = 1680\n",
            "  Batch size = 8\n"
          ]
        },
        {
          "name": "stdout",
          "output_type": "stream",
          "text": [
            "{'loss': 0.1448, 'learning_rate': 7.847919655667146e-05, 'epoch': 8.03}\n"
          ]
        },
        {
          "data": {
            "application/vnd.jupyter.widget-view+json": {
              "model_id": "341f24301fa24f249adde3a1542fcfb9",
              "version_major": 2,
              "version_minor": 0
            },
            "text/plain": [
              "  0%|          | 0/210 [00:00<?, ?it/s]"
            ]
          },
          "metadata": {},
          "output_type": "display_data"
        },
        {
          "name": "stderr",
          "output_type": "stream",
          "text": [
            "Saving model checkpoint to wav2vec2-base-timit-demo-google-colab/checkpoint-4000\n",
            "Configuration saved in wav2vec2-base-timit-demo-google-colab/checkpoint-4000/config.json\n"
          ]
        },
        {
          "name": "stdout",
          "output_type": "stream",
          "text": [
            "{'eval_loss': 0.42359477281570435, 'eval_wer': 0.3923230652608366, 'eval_runtime': 51.914, 'eval_samples_per_second': 32.361, 'eval_steps_per_second': 4.045, 'epoch': 8.03}\n"
          ]
        },
        {
          "name": "stderr",
          "output_type": "stream",
          "text": [
            "Model weights saved in wav2vec2-base-timit-demo-google-colab/checkpoint-4000/pytorch_model.bin\n",
            "Feature extractor saved in wav2vec2-base-timit-demo-google-colab/checkpoint-4000/preprocessor_config.json\n",
            "Deleting older checkpoint [wav2vec2-base-timit-demo-google-colab/checkpoint-3000] due to args.save_total_limit\n",
            "The following columns in the evaluation set  don't have a corresponding argument in `Wav2Vec2ForCTC.forward` and have been ignored: input_length. If input_length are not expected by `Wav2Vec2ForCTC.forward`,  you can safely ignore this message.\n",
            "***** Running Evaluation *****\n",
            "  Num examples = 1680\n",
            "  Batch size = 8\n"
          ]
        },
        {
          "name": "stdout",
          "output_type": "stream",
          "text": [
            "{'loss': 0.1254, 'learning_rate': 7.489239598278336e-05, 'epoch': 9.04}\n"
          ]
        },
        {
          "data": {
            "application/vnd.jupyter.widget-view+json": {
              "model_id": "9a38eabc476f4dce9161438ef9483364",
              "version_major": 2,
              "version_minor": 0
            },
            "text/plain": [
              "  0%|          | 0/210 [00:00<?, ?it/s]"
            ]
          },
          "metadata": {},
          "output_type": "display_data"
        },
        {
          "name": "stderr",
          "output_type": "stream",
          "text": [
            "Saving model checkpoint to wav2vec2-base-timit-demo-google-colab/checkpoint-4500\n",
            "Configuration saved in wav2vec2-base-timit-demo-google-colab/checkpoint-4500/config.json\n"
          ]
        },
        {
          "name": "stdout",
          "output_type": "stream",
          "text": [
            "{'eval_loss': 0.4862646162509918, 'eval_wer': 0.38915305630211566, 'eval_runtime': 52.7127, 'eval_samples_per_second': 31.871, 'eval_steps_per_second': 3.984, 'epoch': 9.04}\n"
          ]
        },
        {
          "name": "stderr",
          "output_type": "stream",
          "text": [
            "Model weights saved in wav2vec2-base-timit-demo-google-colab/checkpoint-4500/pytorch_model.bin\n",
            "Feature extractor saved in wav2vec2-base-timit-demo-google-colab/checkpoint-4500/preprocessor_config.json\n",
            "Deleting older checkpoint [wav2vec2-base-timit-demo-google-colab/checkpoint-3500] due to args.save_total_limit\n",
            "The following columns in the evaluation set  don't have a corresponding argument in `Wav2Vec2ForCTC.forward` and have been ignored: input_length. If input_length are not expected by `Wav2Vec2ForCTC.forward`,  you can safely ignore this message.\n",
            "***** Running Evaluation *****\n",
            "  Num examples = 1680\n",
            "  Batch size = 8\n"
          ]
        },
        {
          "name": "stdout",
          "output_type": "stream",
          "text": [
            "{'loss': 0.1114, 'learning_rate': 7.130559540889527e-05, 'epoch': 10.04}\n"
          ]
        },
        {
          "data": {
            "application/vnd.jupyter.widget-view+json": {
              "model_id": "ee74b119c19748f8b7aa1a38a325c28f",
              "version_major": 2,
              "version_minor": 0
            },
            "text/plain": [
              "  0%|          | 0/210 [00:00<?, ?it/s]"
            ]
          },
          "metadata": {},
          "output_type": "display_data"
        },
        {
          "name": "stderr",
          "output_type": "stream",
          "text": [
            "Saving model checkpoint to wav2vec2-base-timit-demo-google-colab/checkpoint-5000\n",
            "Configuration saved in wav2vec2-base-timit-demo-google-colab/checkpoint-5000/config.json\n"
          ]
        },
        {
          "name": "stdout",
          "output_type": "stream",
          "text": [
            "{'eval_loss': 0.4521504044532776, 'eval_wer': 0.37020191578802286, 'eval_runtime': 52.0148, 'eval_samples_per_second': 32.299, 'eval_steps_per_second': 4.037, 'epoch': 10.04}\n"
          ]
        },
        {
          "name": "stderr",
          "output_type": "stream",
          "text": [
            "Model weights saved in wav2vec2-base-timit-demo-google-colab/checkpoint-5000/pytorch_model.bin\n",
            "Feature extractor saved in wav2vec2-base-timit-demo-google-colab/checkpoint-5000/preprocessor_config.json\n",
            "Deleting older checkpoint [wav2vec2-base-timit-demo-google-colab/checkpoint-4000] due to args.save_total_limit\n",
            "The following columns in the evaluation set  don't have a corresponding argument in `Wav2Vec2ForCTC.forward` and have been ignored: input_length. If input_length are not expected by `Wav2Vec2ForCTC.forward`,  you can safely ignore this message.\n",
            "***** Running Evaluation *****\n",
            "  Num examples = 1680\n",
            "  Batch size = 8\n"
          ]
        },
        {
          "name": "stdout",
          "output_type": "stream",
          "text": [
            "{'loss': 0.0966, 'learning_rate': 6.771879483500718e-05, 'epoch': 11.04}\n"
          ]
        },
        {
          "data": {
            "application/vnd.jupyter.widget-view+json": {
              "model_id": "9f32e6e3451248ae974ee264adb22c9a",
              "version_major": 2,
              "version_minor": 0
            },
            "text/plain": [
              "  0%|          | 0/210 [00:00<?, ?it/s]"
            ]
          },
          "metadata": {},
          "output_type": "display_data"
        },
        {
          "name": "stderr",
          "output_type": "stream",
          "text": [
            "Saving model checkpoint to wav2vec2-base-timit-demo-google-colab/checkpoint-5500\n",
            "Configuration saved in wav2vec2-base-timit-demo-google-colab/checkpoint-5500/config.json\n"
          ]
        },
        {
          "name": "stdout",
          "output_type": "stream",
          "text": [
            "{'eval_loss': 0.45765089988708496, 'eval_wer': 0.37040865550272206, 'eval_runtime': 51.909, 'eval_samples_per_second': 32.364, 'eval_steps_per_second': 4.046, 'epoch': 11.04}\n"
          ]
        },
        {
          "name": "stderr",
          "output_type": "stream",
          "text": [
            "Model weights saved in wav2vec2-base-timit-demo-google-colab/checkpoint-5500/pytorch_model.bin\n",
            "Feature extractor saved in wav2vec2-base-timit-demo-google-colab/checkpoint-5500/preprocessor_config.json\n",
            "Deleting older checkpoint [wav2vec2-base-timit-demo-google-colab/checkpoint-4500] due to args.save_total_limit\n",
            "The following columns in the evaluation set  don't have a corresponding argument in `Wav2Vec2ForCTC.forward` and have been ignored: input_length. If input_length are not expected by `Wav2Vec2ForCTC.forward`,  you can safely ignore this message.\n",
            "***** Running Evaluation *****\n",
            "  Num examples = 1680\n",
            "  Batch size = 8\n"
          ]
        },
        {
          "name": "stdout",
          "output_type": "stream",
          "text": [
            "{'loss': 0.0895, 'learning_rate': 6.413199426111909e-05, 'epoch': 12.05}\n"
          ]
        },
        {
          "data": {
            "application/vnd.jupyter.widget-view+json": {
              "model_id": "5448dc30361d40bd9c5e93217e9ab954",
              "version_major": 2,
              "version_minor": 0
            },
            "text/plain": [
              "  0%|          | 0/210 [00:00<?, ?it/s]"
            ]
          },
          "metadata": {},
          "output_type": "display_data"
        },
        {
          "name": "stderr",
          "output_type": "stream",
          "text": [
            "Saving model checkpoint to wav2vec2-base-timit-demo-google-colab/checkpoint-6000\n",
            "Configuration saved in wav2vec2-base-timit-demo-google-colab/checkpoint-6000/config.json\n"
          ]
        },
        {
          "name": "stdout",
          "output_type": "stream",
          "text": [
            "{'eval_loss': 0.47593972086906433, 'eval_wer': 0.37350975122320995, 'eval_runtime': 51.933, 'eval_samples_per_second': 32.349, 'eval_steps_per_second': 4.044, 'epoch': 12.05}\n"
          ]
        },
        {
          "name": "stderr",
          "output_type": "stream",
          "text": [
            "Model weights saved in wav2vec2-base-timit-demo-google-colab/checkpoint-6000/pytorch_model.bin\n",
            "Feature extractor saved in wav2vec2-base-timit-demo-google-colab/checkpoint-6000/preprocessor_config.json\n",
            "Deleting older checkpoint [wav2vec2-base-timit-demo-google-colab/checkpoint-5000] due to args.save_total_limit\n",
            "The following columns in the evaluation set  don't have a corresponding argument in `Wav2Vec2ForCTC.forward` and have been ignored: input_length. If input_length are not expected by `Wav2Vec2ForCTC.forward`,  you can safely ignore this message.\n",
            "***** Running Evaluation *****\n",
            "  Num examples = 1680\n",
            "  Batch size = 8\n"
          ]
        },
        {
          "name": "stdout",
          "output_type": "stream",
          "text": [
            "{'loss': 0.0812, 'learning_rate': 6.054519368723099e-05, 'epoch': 13.05}\n"
          ]
        },
        {
          "data": {
            "application/vnd.jupyter.widget-view+json": {
              "model_id": "ab81e02ed69f4f068f0441ab32679ab8",
              "version_major": 2,
              "version_minor": 0
            },
            "text/plain": [
              "  0%|          | 0/210 [00:00<?, ?it/s]"
            ]
          },
          "metadata": {},
          "output_type": "display_data"
        },
        {
          "name": "stderr",
          "output_type": "stream",
          "text": [
            "Saving model checkpoint to wav2vec2-base-timit-demo-google-colab/checkpoint-6500\n",
            "Configuration saved in wav2vec2-base-timit-demo-google-colab/checkpoint-6500/config.json\n"
          ]
        },
        {
          "name": "stdout",
          "output_type": "stream",
          "text": [
            "{'eval_loss': 0.50199955701828, 'eval_wer': 0.36882365102336157, 'eval_runtime': 51.4779, 'eval_samples_per_second': 32.635, 'eval_steps_per_second': 4.079, 'epoch': 13.05}\n"
          ]
        },
        {
          "name": "stderr",
          "output_type": "stream",
          "text": [
            "Model weights saved in wav2vec2-base-timit-demo-google-colab/checkpoint-6500/pytorch_model.bin\n",
            "Feature extractor saved in wav2vec2-base-timit-demo-google-colab/checkpoint-6500/preprocessor_config.json\n",
            "Deleting older checkpoint [wav2vec2-base-timit-demo-google-colab/checkpoint-5500] due to args.save_total_limit\n",
            "The following columns in the evaluation set  don't have a corresponding argument in `Wav2Vec2ForCTC.forward` and have been ignored: input_length. If input_length are not expected by `Wav2Vec2ForCTC.forward`,  you can safely ignore this message.\n",
            "***** Running Evaluation *****\n",
            "  Num examples = 1680\n",
            "  Batch size = 8\n"
          ]
        },
        {
          "name": "stdout",
          "output_type": "stream",
          "text": [
            "{'loss': 0.0711, 'learning_rate': 5.69583931133429e-05, 'epoch': 14.06}\n"
          ]
        },
        {
          "data": {
            "application/vnd.jupyter.widget-view+json": {
              "model_id": "9817ef3cb8624169a67a65bc9be03f9b",
              "version_major": 2,
              "version_minor": 0
            },
            "text/plain": [
              "  0%|          | 0/210 [00:00<?, ?it/s]"
            ]
          },
          "metadata": {},
          "output_type": "display_data"
        },
        {
          "name": "stderr",
          "output_type": "stream",
          "text": [
            "Saving model checkpoint to wav2vec2-base-timit-demo-google-colab/checkpoint-7000\n",
            "Configuration saved in wav2vec2-base-timit-demo-google-colab/checkpoint-7000/config.json\n"
          ]
        },
        {
          "name": "stdout",
          "output_type": "stream",
          "text": [
            "{'eval_loss': 0.5121454000473022, 'eval_wer': 0.36014058300599544, 'eval_runtime': 52.1376, 'eval_samples_per_second': 32.222, 'eval_steps_per_second': 4.028, 'epoch': 14.06}\n"
          ]
        },
        {
          "name": "stderr",
          "output_type": "stream",
          "text": [
            "Model weights saved in wav2vec2-base-timit-demo-google-colab/checkpoint-7000/pytorch_model.bin\n",
            "Feature extractor saved in wav2vec2-base-timit-demo-google-colab/checkpoint-7000/preprocessor_config.json\n",
            "Deleting older checkpoint [wav2vec2-base-timit-demo-google-colab/checkpoint-6000] due to args.save_total_limit\n",
            "The following columns in the evaluation set  don't have a corresponding argument in `Wav2Vec2ForCTC.forward` and have been ignored: input_length. If input_length are not expected by `Wav2Vec2ForCTC.forward`,  you can safely ignore this message.\n",
            "***** Running Evaluation *****\n",
            "  Num examples = 1680\n",
            "  Batch size = 8\n"
          ]
        },
        {
          "name": "stdout",
          "output_type": "stream",
          "text": [
            "{'loss': 0.0669, 'learning_rate': 5.337159253945481e-05, 'epoch': 15.06}\n"
          ]
        },
        {
          "data": {
            "application/vnd.jupyter.widget-view+json": {
              "model_id": "8d38706b75af4407bc8efaaac41e5b6f",
              "version_major": 2,
              "version_minor": 0
            },
            "text/plain": [
              "  0%|          | 0/210 [00:00<?, ?it/s]"
            ]
          },
          "metadata": {},
          "output_type": "display_data"
        },
        {
          "name": "stderr",
          "output_type": "stream",
          "text": [
            "Saving model checkpoint to wav2vec2-base-timit-demo-google-colab/checkpoint-7500\n",
            "Configuration saved in wav2vec2-base-timit-demo-google-colab/checkpoint-7500/config.json\n"
          ]
        },
        {
          "name": "stdout",
          "output_type": "stream",
          "text": [
            "{'eval_loss': 0.5210376381874084, 'eval_wer': 0.36089862862655914, 'eval_runtime': 51.8737, 'eval_samples_per_second': 32.386, 'eval_steps_per_second': 4.048, 'epoch': 15.06}\n"
          ]
        },
        {
          "name": "stderr",
          "output_type": "stream",
          "text": [
            "Model weights saved in wav2vec2-base-timit-demo-google-colab/checkpoint-7500/pytorch_model.bin\n",
            "Feature extractor saved in wav2vec2-base-timit-demo-google-colab/checkpoint-7500/preprocessor_config.json\n",
            "Deleting older checkpoint [wav2vec2-base-timit-demo-google-colab/checkpoint-6500] due to args.save_total_limit\n",
            "The following columns in the evaluation set  don't have a corresponding argument in `Wav2Vec2ForCTC.forward` and have been ignored: input_length. If input_length are not expected by `Wav2Vec2ForCTC.forward`,  you can safely ignore this message.\n",
            "***** Running Evaluation *****\n",
            "  Num examples = 1680\n",
            "  Batch size = 8\n"
          ]
        },
        {
          "name": "stdout",
          "output_type": "stream",
          "text": [
            "{'loss': 0.0601, 'learning_rate': 4.978479196556672e-05, 'epoch': 16.06}\n"
          ]
        },
        {
          "data": {
            "application/vnd.jupyter.widget-view+json": {
              "model_id": "87478d4d132440f793d7657fa5c3b45d",
              "version_major": 2,
              "version_minor": 0
            },
            "text/plain": [
              "  0%|          | 0/210 [00:00<?, ?it/s]"
            ]
          },
          "metadata": {},
          "output_type": "display_data"
        },
        {
          "name": "stderr",
          "output_type": "stream",
          "text": [
            "Saving model checkpoint to wav2vec2-base-timit-demo-google-colab/checkpoint-8000\n",
            "Configuration saved in wav2vec2-base-timit-demo-google-colab/checkpoint-8000/config.json\n"
          ]
        },
        {
          "name": "stdout",
          "output_type": "stream",
          "text": [
            "{'eval_loss': 0.5230172872543335, 'eval_wer': 0.36248363310591963, 'eval_runtime': 51.3504, 'eval_samples_per_second': 32.716, 'eval_steps_per_second': 4.09, 'epoch': 16.06}\n"
          ]
        },
        {
          "name": "stderr",
          "output_type": "stream",
          "text": [
            "Model weights saved in wav2vec2-base-timit-demo-google-colab/checkpoint-8000/pytorch_model.bin\n",
            "Feature extractor saved in wav2vec2-base-timit-demo-google-colab/checkpoint-8000/preprocessor_config.json\n",
            "Deleting older checkpoint [wav2vec2-base-timit-demo-google-colab/checkpoint-7000] due to args.save_total_limit\n",
            "The following columns in the evaluation set  don't have a corresponding argument in `Wav2Vec2ForCTC.forward` and have been ignored: input_length. If input_length are not expected by `Wav2Vec2ForCTC.forward`,  you can safely ignore this message.\n",
            "***** Running Evaluation *****\n",
            "  Num examples = 1680\n",
            "  Batch size = 8\n"
          ]
        },
        {
          "name": "stdout",
          "output_type": "stream",
          "text": [
            "{'loss': 0.0574, 'learning_rate': 4.619799139167862e-05, 'epoch': 17.07}\n"
          ]
        },
        {
          "data": {
            "application/vnd.jupyter.widget-view+json": {
              "model_id": "e1e502aa71024f699f1dc84084661874",
              "version_major": 2,
              "version_minor": 0
            },
            "text/plain": [
              "  0%|          | 0/210 [00:00<?, ?it/s]"
            ]
          },
          "metadata": {},
          "output_type": "display_data"
        },
        {
          "name": "stderr",
          "output_type": "stream",
          "text": [
            "Saving model checkpoint to wav2vec2-base-timit-demo-google-colab/checkpoint-8500\n",
            "Configuration saved in wav2vec2-base-timit-demo-google-colab/checkpoint-8500/config.json\n"
          ]
        },
        {
          "name": "stdout",
          "output_type": "stream",
          "text": [
            "{'eval_loss': 0.6044049263000488, 'eval_wer': 0.35641926814140995, 'eval_runtime': 53.0694, 'eval_samples_per_second': 31.657, 'eval_steps_per_second': 3.957, 'epoch': 17.07}\n"
          ]
        },
        {
          "name": "stderr",
          "output_type": "stream",
          "text": [
            "Model weights saved in wav2vec2-base-timit-demo-google-colab/checkpoint-8500/pytorch_model.bin\n",
            "Feature extractor saved in wav2vec2-base-timit-demo-google-colab/checkpoint-8500/preprocessor_config.json\n",
            "Deleting older checkpoint [wav2vec2-base-timit-demo-google-colab/checkpoint-7500] due to args.save_total_limit\n",
            "The following columns in the evaluation set  don't have a corresponding argument in `Wav2Vec2ForCTC.forward` and have been ignored: input_length. If input_length are not expected by `Wav2Vec2ForCTC.forward`,  you can safely ignore this message.\n",
            "***** Running Evaluation *****\n",
            "  Num examples = 1680\n",
            "  Batch size = 8\n"
          ]
        },
        {
          "name": "stdout",
          "output_type": "stream",
          "text": [
            "{'loss': 0.055, 'learning_rate': 4.261119081779053e-05, 'epoch': 18.07}\n"
          ]
        },
        {
          "data": {
            "application/vnd.jupyter.widget-view+json": {
              "model_id": "d7bfe9161a7d49f89b13eabdec358a2e",
              "version_major": 2,
              "version_minor": 0
            },
            "text/plain": [
              "  0%|          | 0/210 [00:00<?, ?it/s]"
            ]
          },
          "metadata": {},
          "output_type": "display_data"
        },
        {
          "name": "stderr",
          "output_type": "stream",
          "text": [
            "Saving model checkpoint to wav2vec2-base-timit-demo-google-colab/checkpoint-9000\n",
            "Configuration saved in wav2vec2-base-timit-demo-google-colab/checkpoint-9000/config.json\n"
          ]
        },
        {
          "name": "stdout",
          "output_type": "stream",
          "text": [
            "{'eval_loss': 0.4997968375682831, 'eval_wer': 0.3602094962442285, 'eval_runtime': 51.5841, 'eval_samples_per_second': 32.568, 'eval_steps_per_second': 4.071, 'epoch': 18.07}\n"
          ]
        },
        {
          "name": "stderr",
          "output_type": "stream",
          "text": [
            "Model weights saved in wav2vec2-base-timit-demo-google-colab/checkpoint-9000/pytorch_model.bin\n",
            "Feature extractor saved in wav2vec2-base-timit-demo-google-colab/checkpoint-9000/preprocessor_config.json\n",
            "Deleting older checkpoint [wav2vec2-base-timit-demo-google-colab/checkpoint-8000] due to args.save_total_limit\n",
            "The following columns in the evaluation set  don't have a corresponding argument in `Wav2Vec2ForCTC.forward` and have been ignored: input_length. If input_length are not expected by `Wav2Vec2ForCTC.forward`,  you can safely ignore this message.\n",
            "***** Running Evaluation *****\n",
            "  Num examples = 1680\n",
            "  Batch size = 8\n"
          ]
        },
        {
          "name": "stdout",
          "output_type": "stream",
          "text": [
            "{'loss': 0.0468, 'learning_rate': 3.9024390243902444e-05, 'epoch': 19.08}\n"
          ]
        },
        {
          "data": {
            "application/vnd.jupyter.widget-view+json": {
              "model_id": "589d1a887c6a436fa8e7701b81025cf1",
              "version_major": 2,
              "version_minor": 0
            },
            "text/plain": [
              "  0%|          | 0/210 [00:00<?, ?it/s]"
            ]
          },
          "metadata": {},
          "output_type": "display_data"
        },
        {
          "name": "stderr",
          "output_type": "stream",
          "text": [
            "Saving model checkpoint to wav2vec2-base-timit-demo-google-colab/checkpoint-9500\n",
            "Configuration saved in wav2vec2-base-timit-demo-google-colab/checkpoint-9500/config.json\n"
          ]
        },
        {
          "name": "stdout",
          "output_type": "stream",
          "text": [
            "{'eval_loss': 0.5243531465530396, 'eval_wer': 0.3549720901385156, 'eval_runtime': 51.0417, 'eval_samples_per_second': 32.914, 'eval_steps_per_second': 4.114, 'epoch': 19.08}\n"
          ]
        },
        {
          "name": "stderr",
          "output_type": "stream",
          "text": [
            "Model weights saved in wav2vec2-base-timit-demo-google-colab/checkpoint-9500/pytorch_model.bin\n",
            "Feature extractor saved in wav2vec2-base-timit-demo-google-colab/checkpoint-9500/preprocessor_config.json\n",
            "Deleting older checkpoint [wav2vec2-base-timit-demo-google-colab/checkpoint-8500] due to args.save_total_limit\n",
            "The following columns in the evaluation set  don't have a corresponding argument in `Wav2Vec2ForCTC.forward` and have been ignored: input_length. If input_length are not expected by `Wav2Vec2ForCTC.forward`,  you can safely ignore this message.\n",
            "***** Running Evaluation *****\n",
            "  Num examples = 1680\n",
            "  Batch size = 8\n"
          ]
        },
        {
          "name": "stdout",
          "output_type": "stream",
          "text": [
            "{'loss': 0.0448, 'learning_rate': 3.543758967001435e-05, 'epoch': 20.08}\n"
          ]
        },
        {
          "data": {
            "application/vnd.jupyter.widget-view+json": {
              "model_id": "a4d8afb95f334d0c924bb5bedd6609bf",
              "version_major": 2,
              "version_minor": 0
            },
            "text/plain": [
              "  0%|          | 0/210 [00:00<?, ?it/s]"
            ]
          },
          "metadata": {},
          "output_type": "display_data"
        },
        {
          "name": "stderr",
          "output_type": "stream",
          "text": [
            "Saving model checkpoint to wav2vec2-base-timit-demo-google-colab/checkpoint-10000\n",
            "Configuration saved in wav2vec2-base-timit-demo-google-colab/checkpoint-10000/config.json\n"
          ]
        },
        {
          "name": "stdout",
          "output_type": "stream",
          "text": [
            "{'eval_loss': 0.5592564940452576, 'eval_wer': 0.3559368754737785, 'eval_runtime': 52.2794, 'eval_samples_per_second': 32.135, 'eval_steps_per_second': 4.017, 'epoch': 20.08}\n"
          ]
        },
        {
          "name": "stderr",
          "output_type": "stream",
          "text": [
            "Model weights saved in wav2vec2-base-timit-demo-google-colab/checkpoint-10000/pytorch_model.bin\n",
            "Feature extractor saved in wav2vec2-base-timit-demo-google-colab/checkpoint-10000/preprocessor_config.json\n",
            "Deleting older checkpoint [wav2vec2-base-timit-demo-google-colab/checkpoint-9000] due to args.save_total_limit\n",
            "The following columns in the evaluation set  don't have a corresponding argument in `Wav2Vec2ForCTC.forward` and have been ignored: input_length. If input_length are not expected by `Wav2Vec2ForCTC.forward`,  you can safely ignore this message.\n",
            "***** Running Evaluation *****\n",
            "  Num examples = 1680\n",
            "  Batch size = 8\n"
          ]
        },
        {
          "name": "stdout",
          "output_type": "stream",
          "text": [
            "{'loss': 0.0415, 'learning_rate': 3.185078909612625e-05, 'epoch': 21.08}\n"
          ]
        },
        {
          "data": {
            "application/vnd.jupyter.widget-view+json": {
              "model_id": "c95f3b2bfec342449cf77dd955d7edb5",
              "version_major": 2,
              "version_minor": 0
            },
            "text/plain": [
              "  0%|          | 0/210 [00:00<?, ?it/s]"
            ]
          },
          "metadata": {},
          "output_type": "display_data"
        },
        {
          "name": "stderr",
          "output_type": "stream",
          "text": [
            "Saving model checkpoint to wav2vec2-base-timit-demo-google-colab/checkpoint-10500\n",
            "Configuration saved in wav2vec2-base-timit-demo-google-colab/checkpoint-10500/config.json\n"
          ]
        },
        {
          "name": "stdout",
          "output_type": "stream",
          "text": [
            "{'eval_loss': 0.5187668204307556, 'eval_wer': 0.3522844738474261, 'eval_runtime': 53.2038, 'eval_samples_per_second': 31.577, 'eval_steps_per_second': 3.947, 'epoch': 21.08}\n"
          ]
        },
        {
          "name": "stderr",
          "output_type": "stream",
          "text": [
            "Model weights saved in wav2vec2-base-timit-demo-google-colab/checkpoint-10500/pytorch_model.bin\n",
            "Feature extractor saved in wav2vec2-base-timit-demo-google-colab/checkpoint-10500/preprocessor_config.json\n",
            "Deleting older checkpoint [wav2vec2-base-timit-demo-google-colab/checkpoint-9500] due to args.save_total_limit\n",
            "The following columns in the evaluation set  don't have a corresponding argument in `Wav2Vec2ForCTC.forward` and have been ignored: input_length. If input_length are not expected by `Wav2Vec2ForCTC.forward`,  you can safely ignore this message.\n",
            "***** Running Evaluation *****\n",
            "  Num examples = 1680\n",
            "  Batch size = 8\n"
          ]
        },
        {
          "name": "stdout",
          "output_type": "stream",
          "text": [
            "{'loss': 0.0336, 'learning_rate': 2.8263988522238167e-05, 'epoch': 22.09}\n"
          ]
        },
        {
          "data": {
            "application/vnd.jupyter.widget-view+json": {
              "model_id": "86d4998fbb3d42fc9ad11260cd7dec58",
              "version_major": 2,
              "version_minor": 0
            },
            "text/plain": [
              "  0%|          | 0/210 [00:00<?, ?it/s]"
            ]
          },
          "metadata": {},
          "output_type": "display_data"
        },
        {
          "name": "stderr",
          "output_type": "stream",
          "text": [
            "Saving model checkpoint to wav2vec2-base-timit-demo-google-colab/checkpoint-11000\n",
            "Configuration saved in wav2vec2-base-timit-demo-google-colab/checkpoint-11000/config.json\n"
          ]
        },
        {
          "name": "stdout",
          "output_type": "stream",
          "text": [
            "{'eval_loss': 0.5501700043678284, 'eval_wer': 0.34959685755633657, 'eval_runtime': 51.0737, 'eval_samples_per_second': 32.894, 'eval_steps_per_second': 4.112, 'epoch': 22.09}\n"
          ]
        },
        {
          "name": "stderr",
          "output_type": "stream",
          "text": [
            "Model weights saved in wav2vec2-base-timit-demo-google-colab/checkpoint-11000/pytorch_model.bin\n",
            "Feature extractor saved in wav2vec2-base-timit-demo-google-colab/checkpoint-11000/preprocessor_config.json\n",
            "Deleting older checkpoint [wav2vec2-base-timit-demo-google-colab/checkpoint-10000] due to args.save_total_limit\n",
            "The following columns in the evaluation set  don't have a corresponding argument in `Wav2Vec2ForCTC.forward` and have been ignored: input_length. If input_length are not expected by `Wav2Vec2ForCTC.forward`,  you can safely ignore this message.\n",
            "***** Running Evaluation *****\n",
            "  Num examples = 1680\n",
            "  Batch size = 8\n"
          ]
        },
        {
          "name": "stdout",
          "output_type": "stream",
          "text": [
            "{'loss': 0.0324, 'learning_rate': 2.467718794835007e-05, 'epoch': 23.09}\n"
          ]
        },
        {
          "data": {
            "application/vnd.jupyter.widget-view+json": {
              "model_id": "d0e3c012781040a684e2ab13208377c8",
              "version_major": 2,
              "version_minor": 0
            },
            "text/plain": [
              "  0%|          | 0/210 [00:00<?, ?it/s]"
            ]
          },
          "metadata": {},
          "output_type": "display_data"
        },
        {
          "name": "stderr",
          "output_type": "stream",
          "text": [
            "Saving model checkpoint to wav2vec2-base-timit-demo-google-colab/checkpoint-11500\n",
            "Configuration saved in wav2vec2-base-timit-demo-google-colab/checkpoint-11500/config.json\n"
          ]
        },
        {
          "name": "stdout",
          "output_type": "stream",
          "text": [
            "{'eval_loss': 0.5429457426071167, 'eval_wer': 0.3442905382123906, 'eval_runtime': 51.5028, 'eval_samples_per_second': 32.62, 'eval_steps_per_second': 4.077, 'epoch': 23.09}\n"
          ]
        },
        {
          "name": "stderr",
          "output_type": "stream",
          "text": [
            "Model weights saved in wav2vec2-base-timit-demo-google-colab/checkpoint-11500/pytorch_model.bin\n",
            "Feature extractor saved in wav2vec2-base-timit-demo-google-colab/checkpoint-11500/preprocessor_config.json\n",
            "Deleting older checkpoint [wav2vec2-base-timit-demo-google-colab/checkpoint-10500] due to args.save_total_limit\n",
            "The following columns in the evaluation set  don't have a corresponding argument in `Wav2Vec2ForCTC.forward` and have been ignored: input_length. If input_length are not expected by `Wav2Vec2ForCTC.forward`,  you can safely ignore this message.\n",
            "***** Running Evaluation *****\n",
            "  Num examples = 1680\n",
            "  Batch size = 8\n"
          ]
        },
        {
          "name": "stdout",
          "output_type": "stream",
          "text": [
            "{'loss': 0.0314, 'learning_rate': 2.1090387374461982e-05, 'epoch': 24.1}\n"
          ]
        },
        {
          "data": {
            "application/vnd.jupyter.widget-view+json": {
              "model_id": "98c525b359b34320a502b540a92c259d",
              "version_major": 2,
              "version_minor": 0
            },
            "text/plain": [
              "  0%|          | 0/210 [00:00<?, ?it/s]"
            ]
          },
          "metadata": {},
          "output_type": "display_data"
        },
        {
          "name": "stderr",
          "output_type": "stream",
          "text": [
            "Saving model checkpoint to wav2vec2-base-timit-demo-google-colab/checkpoint-12000\n",
            "Configuration saved in wav2vec2-base-timit-demo-google-colab/checkpoint-12000/config.json\n"
          ]
        },
        {
          "name": "stdout",
          "output_type": "stream",
          "text": [
            "{'eval_loss': 0.5595108866691589, 'eval_wer': 0.34594445592998413, 'eval_runtime': 51.6874, 'eval_samples_per_second': 32.503, 'eval_steps_per_second': 4.063, 'epoch': 24.1}\n"
          ]
        },
        {
          "name": "stderr",
          "output_type": "stream",
          "text": [
            "Model weights saved in wav2vec2-base-timit-demo-google-colab/checkpoint-12000/pytorch_model.bin\n",
            "Feature extractor saved in wav2vec2-base-timit-demo-google-colab/checkpoint-12000/preprocessor_config.json\n",
            "Deleting older checkpoint [wav2vec2-base-timit-demo-google-colab/checkpoint-11000] due to args.save_total_limit\n",
            "The following columns in the evaluation set  don't have a corresponding argument in `Wav2Vec2ForCTC.forward` and have been ignored: input_length. If input_length are not expected by `Wav2Vec2ForCTC.forward`,  you can safely ignore this message.\n",
            "***** Running Evaluation *****\n",
            "  Num examples = 1680\n",
            "  Batch size = 8\n"
          ]
        },
        {
          "name": "stdout",
          "output_type": "stream",
          "text": [
            "{'loss': 0.0263, 'learning_rate': 1.750358680057389e-05, 'epoch': 25.1}\n"
          ]
        },
        {
          "data": {
            "application/vnd.jupyter.widget-view+json": {
              "model_id": "2017ecb10e644062b6d7df060c12c419",
              "version_major": 2,
              "version_minor": 0
            },
            "text/plain": [
              "  0%|          | 0/210 [00:00<?, ?it/s]"
            ]
          },
          "metadata": {},
          "output_type": "display_data"
        },
        {
          "name": "stderr",
          "output_type": "stream",
          "text": [
            "Saving model checkpoint to wav2vec2-base-timit-demo-google-colab/checkpoint-12500\n",
            "Configuration saved in wav2vec2-base-timit-demo-google-colab/checkpoint-12500/config.json\n"
          ]
        },
        {
          "name": "stdout",
          "output_type": "stream",
          "text": [
            "{'eval_loss': 0.5371503233909607, 'eval_wer': 0.3464268485976156, 'eval_runtime': 51.7802, 'eval_samples_per_second': 32.445, 'eval_steps_per_second': 4.056, 'epoch': 25.1}\n"
          ]
        },
        {
          "name": "stderr",
          "output_type": "stream",
          "text": [
            "Model weights saved in wav2vec2-base-timit-demo-google-colab/checkpoint-12500/pytorch_model.bin\n",
            "Feature extractor saved in wav2vec2-base-timit-demo-google-colab/checkpoint-12500/preprocessor_config.json\n",
            "Deleting older checkpoint [wav2vec2-base-timit-demo-google-colab/checkpoint-11500] due to args.save_total_limit\n",
            "The following columns in the evaluation set  don't have a corresponding argument in `Wav2Vec2ForCTC.forward` and have been ignored: input_length. If input_length are not expected by `Wav2Vec2ForCTC.forward`,  you can safely ignore this message.\n",
            "***** Running Evaluation *****\n",
            "  Num examples = 1680\n",
            "  Batch size = 8\n"
          ]
        },
        {
          "name": "stdout",
          "output_type": "stream",
          "text": [
            "{'loss': 0.0261, 'learning_rate': 1.3916786226685797e-05, 'epoch': 26.1}\n"
          ]
        },
        {
          "data": {
            "application/vnd.jupyter.widget-view+json": {
              "model_id": "eef808373f874fb6ab639776103d6868",
              "version_major": 2,
              "version_minor": 0
            },
            "text/plain": [
              "  0%|          | 0/210 [00:00<?, ?it/s]"
            ]
          },
          "metadata": {},
          "output_type": "display_data"
        },
        {
          "name": "stderr",
          "output_type": "stream",
          "text": [
            "Saving model checkpoint to wav2vec2-base-timit-demo-google-colab/checkpoint-13000\n",
            "Configuration saved in wav2vec2-base-timit-demo-google-colab/checkpoint-13000/config.json\n"
          ]
        },
        {
          "name": "stdout",
          "output_type": "stream",
          "text": [
            "{'eval_loss': 0.5241354703903198, 'eval_wer': 0.34050031010957205, 'eval_runtime': 51.5618, 'eval_samples_per_second': 32.582, 'eval_steps_per_second': 4.073, 'epoch': 26.1}\n"
          ]
        },
        {
          "name": "stderr",
          "output_type": "stream",
          "text": [
            "Model weights saved in wav2vec2-base-timit-demo-google-colab/checkpoint-13000/pytorch_model.bin\n",
            "Feature extractor saved in wav2vec2-base-timit-demo-google-colab/checkpoint-13000/preprocessor_config.json\n",
            "Deleting older checkpoint [wav2vec2-base-timit-demo-google-colab/checkpoint-12000] due to args.save_total_limit\n",
            "The following columns in the evaluation set  don't have a corresponding argument in `Wav2Vec2ForCTC.forward` and have been ignored: input_length. If input_length are not expected by `Wav2Vec2ForCTC.forward`,  you can safely ignore this message.\n",
            "***** Running Evaluation *****\n",
            "  Num examples = 1680\n",
            "  Batch size = 8\n"
          ]
        },
        {
          "name": "stdout",
          "output_type": "stream",
          "text": [
            "{'loss': 0.0254, 'learning_rate': 1.0329985652797705e-05, 'epoch': 27.11}\n"
          ]
        },
        {
          "data": {
            "application/vnd.jupyter.widget-view+json": {
              "model_id": "f15ba49b625d40bda4325d8035106cc1",
              "version_major": 2,
              "version_minor": 0
            },
            "text/plain": [
              "  0%|          | 0/210 [00:00<?, ?it/s]"
            ]
          },
          "metadata": {},
          "output_type": "display_data"
        },
        {
          "name": "stderr",
          "output_type": "stream",
          "text": [
            "Saving model checkpoint to wav2vec2-base-timit-demo-google-colab/checkpoint-13500\n",
            "Configuration saved in wav2vec2-base-timit-demo-google-colab/checkpoint-13500/config.json\n"
          ]
        },
        {
          "name": "stdout",
          "output_type": "stream",
          "text": [
            "{'eval_loss': 0.5434591174125671, 'eval_wer': 0.34380814554475914, 'eval_runtime': 51.4766, 'eval_samples_per_second': 32.636, 'eval_steps_per_second': 4.08, 'epoch': 27.11}\n"
          ]
        },
        {
          "name": "stderr",
          "output_type": "stream",
          "text": [
            "Model weights saved in wav2vec2-base-timit-demo-google-colab/checkpoint-13500/pytorch_model.bin\n",
            "Feature extractor saved in wav2vec2-base-timit-demo-google-colab/checkpoint-13500/preprocessor_config.json\n",
            "Deleting older checkpoint [wav2vec2-base-timit-demo-google-colab/checkpoint-12500] due to args.save_total_limit\n",
            "The following columns in the evaluation set  don't have a corresponding argument in `Wav2Vec2ForCTC.forward` and have been ignored: input_length. If input_length are not expected by `Wav2Vec2ForCTC.forward`,  you can safely ignore this message.\n",
            "***** Running Evaluation *****\n",
            "  Num examples = 1680\n",
            "  Batch size = 8\n"
          ]
        },
        {
          "name": "stdout",
          "output_type": "stream",
          "text": [
            "{'loss': 0.0217, 'learning_rate': 6.743185078909613e-06, 'epoch': 28.11}\n"
          ]
        },
        {
          "data": {
            "application/vnd.jupyter.widget-view+json": {
              "model_id": "1f50b55fc7ad4be190960eb148b24dcf",
              "version_major": 2,
              "version_minor": 0
            },
            "text/plain": [
              "  0%|          | 0/210 [00:00<?, ?it/s]"
            ]
          },
          "metadata": {},
          "output_type": "display_data"
        },
        {
          "name": "stderr",
          "output_type": "stream",
          "text": [
            "Saving model checkpoint to wav2vec2-base-timit-demo-google-colab/checkpoint-14000\n",
            "Configuration saved in wav2vec2-base-timit-demo-google-colab/checkpoint-14000/config.json\n"
          ]
        },
        {
          "name": "stdout",
          "output_type": "stream",
          "text": [
            "{'eval_loss': 0.5295065641403198, 'eval_wer': 0.34105161601543654, 'eval_runtime': 51.2833, 'eval_samples_per_second': 32.759, 'eval_steps_per_second': 4.095, 'epoch': 28.11}\n"
          ]
        },
        {
          "name": "stderr",
          "output_type": "stream",
          "text": [
            "Model weights saved in wav2vec2-base-timit-demo-google-colab/checkpoint-14000/pytorch_model.bin\n",
            "Feature extractor saved in wav2vec2-base-timit-demo-google-colab/checkpoint-14000/preprocessor_config.json\n",
            "Deleting older checkpoint [wav2vec2-base-timit-demo-google-colab/checkpoint-13000] due to args.save_total_limit\n",
            "The following columns in the evaluation set  don't have a corresponding argument in `Wav2Vec2ForCTC.forward` and have been ignored: input_length. If input_length are not expected by `Wav2Vec2ForCTC.forward`,  you can safely ignore this message.\n",
            "***** Running Evaluation *****\n",
            "  Num examples = 1680\n",
            "  Batch size = 8\n"
          ]
        },
        {
          "name": "stdout",
          "output_type": "stream",
          "text": [
            "{'loss': 0.0208, 'learning_rate': 3.156384505021521e-06, 'epoch': 29.12}\n"
          ]
        },
        {
          "data": {
            "application/vnd.jupyter.widget-view+json": {
              "model_id": "5d41d86f1e09464b9fdc7ebc866dd183",
              "version_major": 2,
              "version_minor": 0
            },
            "text/plain": [
              "  0%|          | 0/210 [00:00<?, ?it/s]"
            ]
          },
          "metadata": {},
          "output_type": "display_data"
        },
        {
          "name": "stderr",
          "output_type": "stream",
          "text": [
            "Saving model checkpoint to wav2vec2-base-timit-demo-google-colab/checkpoint-14500\n",
            "Configuration saved in wav2vec2-base-timit-demo-google-colab/checkpoint-14500/config.json\n"
          ]
        },
        {
          "name": "stdout",
          "output_type": "stream",
          "text": [
            "{'eval_loss': 0.528365969657898, 'eval_wer': 0.3378816070567156, 'eval_runtime': 51.5687, 'eval_samples_per_second': 32.578, 'eval_steps_per_second': 4.072, 'epoch': 29.12}\n"
          ]
        },
        {
          "name": "stderr",
          "output_type": "stream",
          "text": [
            "Model weights saved in wav2vec2-base-timit-demo-google-colab/checkpoint-14500/pytorch_model.bin\n",
            "Feature extractor saved in wav2vec2-base-timit-demo-google-colab/checkpoint-14500/preprocessor_config.json\n",
            "Deleting older checkpoint [wav2vec2-base-timit-demo-google-colab/checkpoint-13500] due to args.save_total_limit\n",
            "\n",
            "\n",
            "Training completed. Do not forget to share your model on huggingface.co/models =)\n",
            "\n",
            "\n"
          ]
        },
        {
          "name": "stdout",
          "output_type": "stream",
          "text": [
            "{'train_runtime': 8088.5906, 'train_samples_per_second': 14.754, 'train_steps_per_second': 1.847, 'train_loss': 0.2345587510181718, 'epoch': 30.0}\n"
          ]
        },
        {
          "data": {
            "text/plain": [
              "TrainOutput(global_step=14940, training_loss=0.2345587510181718, metrics={'train_runtime': 8088.5906, 'train_samples_per_second': 14.754, 'train_steps_per_second': 1.847, 'train_loss': 0.2345587510181718, 'epoch': 30.0})"
            ]
          },
          "execution_count": 39,
          "metadata": {},
          "output_type": "execute_result"
        }
      ],
      "source": [
        "trainer.train()"
      ]
    },
    {
      "attachments": {},
      "cell_type": "markdown",
      "metadata": {
        "id": "UCyp-v3n4Zlt"
      },
      "source": [
        "The final WER should be around 0.3 which is reasonable given that state-of-the-art phoneme error rates (PER) are just below 0.1 (see [leaderboard](https://paperswithcode.com/sota/speech-recognition-on-timit)) and that WER is usually worse than PER.\n",
        "\n",
        "You can now upload the result of the training to the Hub, just execute this instruction:"
      ]
    },
    {
      "attachments": {},
      "cell_type": "markdown",
      "metadata": {
        "id": "djzwS5WeNu16"
      },
      "source": [
        "You can now share this model with all your friends, family, favorite pets: they can all load it with the identifier \"your-username/the-name-you-picked\" so for instance:"
      ]
    },
    {
      "attachments": {},
      "cell_type": "markdown",
      "metadata": {
        "id": "Adm0LngNNxq7"
      },
      "source": [
        "```python\n",
        "from transformers import AutoModelForCTC, Wav2Vec2Processor\n",
        "\n",
        "model = AutoModelForCTC.from_pretrained(\"patrickvonplaten/wav2vec2-base-timit-demo-google-colab\")\n",
        "processor = Wav2Vec2Processor.from_pretrained(\"patrickvonplaten/wav2vec2-base-timit-demo-google-colab\")\n",
        "```"
      ]
    },
    {
      "attachments": {},
      "cell_type": "markdown",
      "metadata": {
        "id": "nD4XP5IHncsY"
      },
      "source": [
        "### Evaluate\n",
        "\n",
        "In the final part, we run our model on some of the validation data to get a feeling for how well it works.\n",
        "\n",
        "Let's load the `processor` and `model`."
      ]
    },
    {
      "cell_type": "code",
      "execution_count": 40,
      "metadata": {
        "colab": {
          "background_save": true,
          "referenced_widgets": [
            "d09756762f974fff97fcc56808cf79da",
            "e13df7ca4a1646f6a4565a43300f53e5",
            "f07c352df0af4d819c55b8d1953d1ee1",
            "990bac444a784aa1801a1022f892c791"
          ]
        },
        "id": "-rg0USDCnbo6",
        "outputId": "278bdcec-56f5-4395-c911-f13ba01c2ca7"
      },
      "outputs": [
        {
          "name": "stderr",
          "output_type": "stream",
          "text": [
            "https://huggingface.co/patrickvonplaten/wav2vec2-base-timit-demo-google-colab/resolve/main/preprocessor_config.json not found in cache or force_download set to True, downloading to /home/cslab03/.cache/huggingface/transformers/tmpta00c4vf\n"
          ]
        },
        {
          "data": {
            "application/vnd.jupyter.widget-view+json": {
              "model_id": "0ff4b19bce804d04b2c48e9612720335",
              "version_major": 2,
              "version_minor": 0
            },
            "text/plain": [
              "Downloading:   0%|          | 0.00/215 [00:00<?, ?B/s]"
            ]
          },
          "metadata": {},
          "output_type": "display_data"
        },
        {
          "name": "stderr",
          "output_type": "stream",
          "text": [
            "storing https://huggingface.co/patrickvonplaten/wav2vec2-base-timit-demo-google-colab/resolve/main/preprocessor_config.json in cache at /home/cslab03/.cache/huggingface/transformers/17fa07f6e2f88edf24c71037bed1b7cf0cf9acfef7d3353afb589689627542c1.0e3e6656f99a6f7b9eddd943463eb7f34363640fce9e87b047ebd50d4b112b50\n",
            "creating metadata file for /home/cslab03/.cache/huggingface/transformers/17fa07f6e2f88edf24c71037bed1b7cf0cf9acfef7d3353afb589689627542c1.0e3e6656f99a6f7b9eddd943463eb7f34363640fce9e87b047ebd50d4b112b50\n",
            "loading feature extractor configuration file https://huggingface.co/patrickvonplaten/wav2vec2-base-timit-demo-google-colab/resolve/main/preprocessor_config.json from cache at /home/cslab03/.cache/huggingface/transformers/17fa07f6e2f88edf24c71037bed1b7cf0cf9acfef7d3353afb589689627542c1.0e3e6656f99a6f7b9eddd943463eb7f34363640fce9e87b047ebd50d4b112b50\n",
            "Feature extractor Wav2Vec2FeatureExtractor {\n",
            "  \"do_normalize\": true,\n",
            "  \"feature_extractor_type\": \"Wav2Vec2FeatureExtractor\",\n",
            "  \"feature_size\": 1,\n",
            "  \"padding_side\": \"right\",\n",
            "  \"padding_value\": 0.0,\n",
            "  \"return_attention_mask\": false,\n",
            "  \"sampling_rate\": 16000\n",
            "}\n",
            "\n",
            "https://huggingface.co/patrickvonplaten/wav2vec2-base-timit-demo-google-colab/resolve/main/tokenizer_config.json not found in cache or force_download set to True, downloading to /home/cslab03/.cache/huggingface/transformers/tmpt5x603ww\n"
          ]
        },
        {
          "data": {
            "application/vnd.jupyter.widget-view+json": {
              "model_id": "8075c043883d458284cafb4c4ab88be4",
              "version_major": 2,
              "version_minor": 0
            },
            "text/plain": [
              "Downloading:   0%|          | 0.00/217 [00:00<?, ?B/s]"
            ]
          },
          "metadata": {},
          "output_type": "display_data"
        },
        {
          "name": "stderr",
          "output_type": "stream",
          "text": [
            "storing https://huggingface.co/patrickvonplaten/wav2vec2-base-timit-demo-google-colab/resolve/main/tokenizer_config.json in cache at /home/cslab03/.cache/huggingface/transformers/7bf2e07c1c7ed7e3d055d87aa6bd33c75e6883d98029ae3744fed6bea9e35095.59710b1a6a5501d31e746b6e464f5c44de3e55a58f80634196025936683a68a9\n",
            "creating metadata file for /home/cslab03/.cache/huggingface/transformers/7bf2e07c1c7ed7e3d055d87aa6bd33c75e6883d98029ae3744fed6bea9e35095.59710b1a6a5501d31e746b6e464f5c44de3e55a58f80634196025936683a68a9\n",
            "https://huggingface.co/patrickvonplaten/wav2vec2-base-timit-demo-google-colab/resolve/main/vocab.json not found in cache or force_download set to True, downloading to /home/cslab03/.cache/huggingface/transformers/tmpbi0hm3hp\n"
          ]
        },
        {
          "data": {
            "application/vnd.jupyter.widget-view+json": {
              "model_id": "7910a725760e48c1aaa1a7e6247faacd",
              "version_major": 2,
              "version_minor": 0
            },
            "text/plain": [
              "Downloading:   0%|          | 0.00/268 [00:00<?, ?B/s]"
            ]
          },
          "metadata": {},
          "output_type": "display_data"
        },
        {
          "name": "stderr",
          "output_type": "stream",
          "text": [
            "storing https://huggingface.co/patrickvonplaten/wav2vec2-base-timit-demo-google-colab/resolve/main/vocab.json in cache at /home/cslab03/.cache/huggingface/transformers/f739813380b0880ba302557f0f990f0f64e8efe81fcc91a4fce08206a91ee215.c44a036121683e19f1a033a1765d4344364cb4633a6cbf5cf51b153f2388abb1\n",
            "creating metadata file for /home/cslab03/.cache/huggingface/transformers/f739813380b0880ba302557f0f990f0f64e8efe81fcc91a4fce08206a91ee215.c44a036121683e19f1a033a1765d4344364cb4633a6cbf5cf51b153f2388abb1\n",
            "https://huggingface.co/patrickvonplaten/wav2vec2-base-timit-demo-google-colab/resolve/main/special_tokens_map.json not found in cache or force_download set to True, downloading to /home/cslab03/.cache/huggingface/transformers/tmp8ixxqrpx\n"
          ]
        },
        {
          "data": {
            "application/vnd.jupyter.widget-view+json": {
              "model_id": "d76f3bd728de482dafb3207c05430bb5",
              "version_major": 2,
              "version_minor": 0
            },
            "text/plain": [
              "Downloading:   0%|          | 0.00/85.0 [00:00<?, ?B/s]"
            ]
          },
          "metadata": {},
          "output_type": "display_data"
        },
        {
          "name": "stderr",
          "output_type": "stream",
          "text": [
            "storing https://huggingface.co/patrickvonplaten/wav2vec2-base-timit-demo-google-colab/resolve/main/special_tokens_map.json in cache at /home/cslab03/.cache/huggingface/transformers/c239f3738252f8d8e83d9813ea82866aeec476c467a008db86229f4edc6490b0.a21d51735cf8667bcd610f057e88548d5d6a381401f6b4501a8bc6c1a9dc8498\n",
            "creating metadata file for /home/cslab03/.cache/huggingface/transformers/c239f3738252f8d8e83d9813ea82866aeec476c467a008db86229f4edc6490b0.a21d51735cf8667bcd610f057e88548d5d6a381401f6b4501a8bc6c1a9dc8498\n",
            "loading file https://huggingface.co/patrickvonplaten/wav2vec2-base-timit-demo-google-colab/resolve/main/vocab.json from cache at /home/cslab03/.cache/huggingface/transformers/f739813380b0880ba302557f0f990f0f64e8efe81fcc91a4fce08206a91ee215.c44a036121683e19f1a033a1765d4344364cb4633a6cbf5cf51b153f2388abb1\n",
            "loading file https://huggingface.co/patrickvonplaten/wav2vec2-base-timit-demo-google-colab/resolve/main/tokenizer_config.json from cache at /home/cslab03/.cache/huggingface/transformers/7bf2e07c1c7ed7e3d055d87aa6bd33c75e6883d98029ae3744fed6bea9e35095.59710b1a6a5501d31e746b6e464f5c44de3e55a58f80634196025936683a68a9\n",
            "loading file https://huggingface.co/patrickvonplaten/wav2vec2-base-timit-demo-google-colab/resolve/main/added_tokens.json from cache at None\n",
            "loading file https://huggingface.co/patrickvonplaten/wav2vec2-base-timit-demo-google-colab/resolve/main/special_tokens_map.json from cache at /home/cslab03/.cache/huggingface/transformers/c239f3738252f8d8e83d9813ea82866aeec476c467a008db86229f4edc6490b0.a21d51735cf8667bcd610f057e88548d5d6a381401f6b4501a8bc6c1a9dc8498\n",
            "Adding <s> to the vocabulary\n",
            "Adding </s> to the vocabulary\n",
            "Special tokens have been added in the vocabulary, make sure the associated word embeddings are fine-tuned or trained.\n"
          ]
        }
      ],
      "source": [
        "processor = Wav2Vec2Processor.from_pretrained(\"patrickvonplaten/wav2vec2-base-timit-demo-google-colab\")"
      ]
    },
    {
      "cell_type": "code",
      "execution_count": 41,
      "metadata": {
        "colab": {
          "background_save": true,
          "referenced_widgets": [
            "f5d5aeb389c54f78b81b010dd74c6f38",
            "e073b8ca40bc42bd9393ab6423cc5262"
          ]
        },
        "id": "sSpFW3pDn23P",
        "outputId": "68c12b8b-9104-48d2-b221-d535e74d30b5"
      },
      "outputs": [
        {
          "name": "stderr",
          "output_type": "stream",
          "text": [
            "https://huggingface.co/patrickvonplaten/wav2vec2-base-timit-demo-google-colab/resolve/main/config.json not found in cache or force_download set to True, downloading to /home/cslab03/.cache/huggingface/transformers/tmp_6nlb9u2\n"
          ]
        },
        {
          "data": {
            "application/vnd.jupyter.widget-view+json": {
              "model_id": "8c48388c90f94b25a6141ca8b230445c",
              "version_major": 2,
              "version_minor": 0
            },
            "text/plain": [
              "Downloading:   0%|          | 0.00/2.29k [00:00<?, ?B/s]"
            ]
          },
          "metadata": {},
          "output_type": "display_data"
        },
        {
          "name": "stderr",
          "output_type": "stream",
          "text": [
            "storing https://huggingface.co/patrickvonplaten/wav2vec2-base-timit-demo-google-colab/resolve/main/config.json in cache at /home/cslab03/.cache/huggingface/transformers/7606a293c66b1cba6bb9a342dcffe3831dc19a120cfeeb9e57cdf6ffb9630f3f.3202909be16e9c482257d0c4d35b4f4c2558cea585027c729eed803ba4bf0d8e\n",
            "creating metadata file for /home/cslab03/.cache/huggingface/transformers/7606a293c66b1cba6bb9a342dcffe3831dc19a120cfeeb9e57cdf6ffb9630f3f.3202909be16e9c482257d0c4d35b4f4c2558cea585027c729eed803ba4bf0d8e\n",
            "loading configuration file https://huggingface.co/patrickvonplaten/wav2vec2-base-timit-demo-google-colab/resolve/main/config.json from cache at /home/cslab03/.cache/huggingface/transformers/7606a293c66b1cba6bb9a342dcffe3831dc19a120cfeeb9e57cdf6ffb9630f3f.3202909be16e9c482257d0c4d35b4f4c2558cea585027c729eed803ba4bf0d8e\n",
            "Model config Wav2Vec2Config {\n",
            "  \"_name_or_path\": \"facebook/wav2vec2-base\",\n",
            "  \"activation_dropout\": 0.0,\n",
            "  \"adapter_kernel_size\": 3,\n",
            "  \"adapter_stride\": 2,\n",
            "  \"add_adapter\": false,\n",
            "  \"apply_spec_augment\": true,\n",
            "  \"architectures\": [\n",
            "    \"Wav2Vec2ForCTC\"\n",
            "  ],\n",
            "  \"attention_dropout\": 0.1,\n",
            "  \"bos_token_id\": 1,\n",
            "  \"classifier_proj_size\": 256,\n",
            "  \"codevector_dim\": 256,\n",
            "  \"contrastive_logits_temperature\": 0.1,\n",
            "  \"conv_bias\": false,\n",
            "  \"conv_dim\": [\n",
            "    512,\n",
            "    512,\n",
            "    512,\n",
            "    512,\n",
            "    512,\n",
            "    512,\n",
            "    512\n",
            "  ],\n",
            "  \"conv_kernel\": [\n",
            "    10,\n",
            "    3,\n",
            "    3,\n",
            "    3,\n",
            "    3,\n",
            "    2,\n",
            "    2\n",
            "  ],\n",
            "  \"conv_stride\": [\n",
            "    5,\n",
            "    2,\n",
            "    2,\n",
            "    2,\n",
            "    2,\n",
            "    2,\n",
            "    2\n",
            "  ],\n",
            "  \"ctc_loss_reduction\": \"mean\",\n",
            "  \"ctc_zero_infinity\": false,\n",
            "  \"diversity_loss_weight\": 0.1,\n",
            "  \"do_stable_layer_norm\": false,\n",
            "  \"eos_token_id\": 2,\n",
            "  \"feat_extract_activation\": \"gelu\",\n",
            "  \"feat_extract_norm\": \"group\",\n",
            "  \"feat_proj_dropout\": 0.1,\n",
            "  \"feat_quantizer_dropout\": 0.0,\n",
            "  \"final_dropout\": 0.0,\n",
            "  \"freeze_feat_extract_train\": true,\n",
            "  \"hidden_act\": \"gelu\",\n",
            "  \"hidden_dropout\": 0.1,\n",
            "  \"hidden_size\": 768,\n",
            "  \"initializer_range\": 0.02,\n",
            "  \"intermediate_size\": 3072,\n",
            "  \"layer_norm_eps\": 1e-05,\n",
            "  \"layerdrop\": 0.0,\n",
            "  \"mask_channel_length\": 10,\n",
            "  \"mask_channel_min_space\": 1,\n",
            "  \"mask_channel_other\": 0.0,\n",
            "  \"mask_channel_prob\": 0.0,\n",
            "  \"mask_channel_selection\": \"static\",\n",
            "  \"mask_feature_length\": 10,\n",
            "  \"mask_feature_min_masks\": 0,\n",
            "  \"mask_feature_prob\": 0.0,\n",
            "  \"mask_time_length\": 10,\n",
            "  \"mask_time_min_masks\": 2,\n",
            "  \"mask_time_min_space\": 1,\n",
            "  \"mask_time_other\": 0.0,\n",
            "  \"mask_time_prob\": 0.05,\n",
            "  \"mask_time_selection\": \"static\",\n",
            "  \"model_type\": \"wav2vec2\",\n",
            "  \"no_mask_channel_overlap\": false,\n",
            "  \"no_mask_time_overlap\": false,\n",
            "  \"num_adapter_layers\": 3,\n",
            "  \"num_attention_heads\": 12,\n",
            "  \"num_codevector_groups\": 2,\n",
            "  \"num_codevectors_per_group\": 320,\n",
            "  \"num_conv_pos_embedding_groups\": 16,\n",
            "  \"num_conv_pos_embeddings\": 128,\n",
            "  \"num_feat_extract_layers\": 7,\n",
            "  \"num_hidden_layers\": 12,\n",
            "  \"num_negatives\": 100,\n",
            "  \"output_hidden_size\": 768,\n",
            "  \"pad_token_id\": 29,\n",
            "  \"proj_codevector_dim\": 256,\n",
            "  \"tdnn_dilation\": [\n",
            "    1,\n",
            "    2,\n",
            "    3,\n",
            "    1,\n",
            "    1\n",
            "  ],\n",
            "  \"tdnn_dim\": [\n",
            "    512,\n",
            "    512,\n",
            "    512,\n",
            "    512,\n",
            "    1500\n",
            "  ],\n",
            "  \"tdnn_kernel\": [\n",
            "    5,\n",
            "    3,\n",
            "    3,\n",
            "    1,\n",
            "    1\n",
            "  ],\n",
            "  \"torch_dtype\": \"float32\",\n",
            "  \"transformers_version\": \"4.17.0\",\n",
            "  \"use_weighted_layer_sum\": false,\n",
            "  \"vocab_size\": 32,\n",
            "  \"xvector_output_dim\": 512\n",
            "}\n",
            "\n",
            "https://huggingface.co/patrickvonplaten/wav2vec2-base-timit-demo-google-colab/resolve/main/pytorch_model.bin not found in cache or force_download set to True, downloading to /home/cslab03/.cache/huggingface/transformers/tmp1wogaz_5\n"
          ]
        },
        {
          "data": {
            "application/vnd.jupyter.widget-view+json": {
              "model_id": "775c7fdc2bba475d964bc5cc41c5d17d",
              "version_major": 2,
              "version_minor": 0
            },
            "text/plain": [
              "Downloading:   0%|          | 0.00/360M [00:00<?, ?B/s]"
            ]
          },
          "metadata": {},
          "output_type": "display_data"
        },
        {
          "name": "stderr",
          "output_type": "stream",
          "text": [
            "storing https://huggingface.co/patrickvonplaten/wav2vec2-base-timit-demo-google-colab/resolve/main/pytorch_model.bin in cache at /home/cslab03/.cache/huggingface/transformers/666767bce47a87d50dfd1ceac759d5dc9db6eac8d185ae8f9a7dd388687c28c5.20bdf845b9896c1d0a213f03187b544f2a12b23d751b88c7b49a95d00bd946e1\n",
            "creating metadata file for /home/cslab03/.cache/huggingface/transformers/666767bce47a87d50dfd1ceac759d5dc9db6eac8d185ae8f9a7dd388687c28c5.20bdf845b9896c1d0a213f03187b544f2a12b23d751b88c7b49a95d00bd946e1\n",
            "loading weights file https://huggingface.co/patrickvonplaten/wav2vec2-base-timit-demo-google-colab/resolve/main/pytorch_model.bin from cache at /home/cslab03/.cache/huggingface/transformers/666767bce47a87d50dfd1ceac759d5dc9db6eac8d185ae8f9a7dd388687c28c5.20bdf845b9896c1d0a213f03187b544f2a12b23d751b88c7b49a95d00bd946e1\n",
            "All model checkpoint weights were used when initializing Wav2Vec2ForCTC.\n",
            "\n",
            "All the weights of Wav2Vec2ForCTC were initialized from the model checkpoint at patrickvonplaten/wav2vec2-base-timit-demo-google-colab.\n",
            "If your task is similar to the task the model of the checkpoint was trained on, you can already use Wav2Vec2ForCTC for predictions without further training.\n"
          ]
        }
      ],
      "source": [
        "model = Wav2Vec2ForCTC.from_pretrained(\"patrickvonplaten/wav2vec2-base-timit-demo-google-colab\").cuda()"
      ]
    },
    {
      "attachments": {},
      "cell_type": "markdown",
      "metadata": {
        "id": "TUuZpB0v5jn_"
      },
      "source": [
        "Now, we will make use of the `map(...)` function to predict the transcription of every test sample and to save the prediction in the dataset itself. We will call the resulting dictionary `\"results\"`.\n",
        "\n",
        "**Note**: we evaluate the test data set with `batch_size=1` on purpose due to this [issue](https://github.com/pytorch/fairseq/issues/3227). Since padded inputs don't yield the exact same output as non-padded inputs, a better WER can be achieved by not padding the input at all."
      ]
    },
    {
      "cell_type": "code",
      "execution_count": 42,
      "metadata": {
        "colab": {
          "background_save": true
        },
        "id": "40naJl53n7jT"
      },
      "outputs": [],
      "source": [
        "def map_to_result(batch):\n",
        "  with torch.no_grad():\n",
        "    input_values = torch.tensor(batch[\"input_values\"], device=\"cuda\").unsqueeze(0)\n",
        "    logits = model(input_values).logits\n",
        "\n",
        "  pred_ids = torch.argmax(logits, dim=-1)\n",
        "  batch[\"pred_str\"] = processor.batch_decode(pred_ids)[0]\n",
        "  batch[\"text\"] = processor.decode(batch[\"labels\"], group_tokens=False)\n",
        "\n",
        "  return batch"
      ]
    },
    {
      "cell_type": "code",
      "execution_count": 43,
      "metadata": {
        "colab": {
          "background_save": true,
          "referenced_widgets": [
            "159532ca8494421aae9854a9814f1ddc"
          ]
        },
        "id": "uPqH7gZqrGPi",
        "outputId": "ef48f91e-dac9-4164-edcc-251c7cb498ca"
      },
      "outputs": [
        {
          "data": {
            "application/vnd.jupyter.widget-view+json": {
              "model_id": "df09f0cba2424dd496321bf7f91be6f1",
              "version_major": 2,
              "version_minor": 0
            },
            "text/plain": [
              "0ex [00:00, ?ex/s]"
            ]
          },
          "metadata": {},
          "output_type": "display_data"
        }
      ],
      "source": [
        "results = timit[\"test\"].map(map_to_result, remove_columns=timit[\"test\"].column_names)"
      ]
    },
    {
      "attachments": {},
      "cell_type": "markdown",
      "metadata": {
        "id": "-mqpdB8R6rty"
      },
      "source": [
        "Let's compute the overall WER now."
      ]
    },
    {
      "cell_type": "code",
      "execution_count": 44,
      "metadata": {
        "colab": {
          "background_save": true
        },
        "id": "PmqAb4Isx8OK",
        "outputId": "1196b928-4025-487e-e07b-6af5d9d6dfe3"
      },
      "outputs": [
        {
          "name": "stdout",
          "output_type": "stream",
          "text": [
            "Test WER: 4.547\n"
          ]
        }
      ],
      "source": [
        "print(\"Test WER: {:.3f}\".format(wer_metric.compute(predictions=results[\"pred_str\"], references=results[\"text\"])))"
      ]
    },
    {
      "attachments": {},
      "cell_type": "markdown",
      "metadata": {
        "id": "6Va94d8Y7Q98"
      },
      "source": [
        "21.8% WER - not bad! Our demo model would have probably made it on the official [leaderboard](https://paperswithcode.com/sota/speech-recognition-on-timit).\n",
        "\n",
        "Let's take a look at some predictions to see what errors are made by the model."
      ]
    },
    {
      "cell_type": "code",
      "execution_count": 45,
      "metadata": {
        "colab": {
          "background_save": true
        },
        "id": "odNDiFVRy53w",
        "outputId": "ceb9c80c-a66c-42d8-9516-bced043dc79e"
      },
      "outputs": [
        {
          "data": {
            "text/html": [
              "<table border=\"1\" class=\"dataframe\">\n",
              "  <thead>\n",
              "    <tr style=\"text-align: right;\">\n",
              "      <th></th>\n",
              "      <th>pred_str</th>\n",
              "      <th>text</th>\n",
              "    </tr>\n",
              "  </thead>\n",
              "  <tbody>\n",
              "    <tr>\n",
              "      <th>0</th>\n",
              "      <td>young children should avoid exposure to contageous diseases</td>\n",
              "      <td>uzdytqkmgnhf'yqamzdnhqsizghq'plzadf'qxzqkzyxstgzdaqhga'sa'aq</td>\n",
              "    </tr>\n",
              "    <tr>\n",
              "      <th>1</th>\n",
              "      <td>art official intelligence is for real</td>\n",
              "      <td>sfxgcgkgsnqgyx'nngt'yk'qgaqczfqf'snq</td>\n",
              "    </tr>\n",
              "    <tr>\n",
              "      <th>2</th>\n",
              "      <td>theire propes were two step latters a chair and a pame fen</td>\n",
              "      <td>xm'gfqlfzlaqj'f'qxjzqax'lnshh'faqsqkmsgfqsyhqsqlsn qcsyq</td>\n",
              "    </tr>\n",
              "    <tr>\n",
              "      <th>3</th>\n",
              "      <td>if people were more generous there would be no need for wealfar</td>\n",
              "      <td>gcql'zln'qj'f'q zf'qt'y'fzdaqxm'f'qjzdnhqe'qyzqy''hqczfqj'ncsf'q</td>\n",
              "    </tr>\n",
              "    <tr>\n",
              "      <th>4</th>\n",
              "      <td>the fish began to leep frantically on the surface of the smalleaku</td>\n",
              "      <td>xm'qcgamqe'tsyqxzqn'slqcfsyxgksnnuqzyqxm'qadfcsk'qzcqxm'qa snnqnsr'q</td>\n",
              "    </tr>\n",
              "    <tr>\n",
              "      <th>5</th>\n",
              "      <td>her rite hand aques whenever the baramatric presuer changes</td>\n",
              "      <td>m'fqfgtmxqmsyhqskm'aqjm'y'i'fqxm'qesfz 'xfgkqlf'aadf'qkmsyt'aq</td>\n",
              "    </tr>\n",
              "    <tr>\n",
              "      <th>6</th>\n",
              "      <td>only lawyers loved milunears</td>\n",
              "      <td>zynuqnsju'faqnzi'q gnngzysgf'aq</td>\n",
              "    </tr>\n",
              "    <tr>\n",
              "      <th>7</th>\n",
              "      <td>the nearest synnegu may not be within walk in distance</td>\n",
              "      <td>xm'qy'sf'axqauystztd'q suqyzxqe'qjgxmgyqjsnrgytqhgaxsyk'q</td>\n",
              "    </tr>\n",
              "    <tr>\n",
              "      <th>8</th>\n",
              "      <td>basket ball can be an entertaining sport</td>\n",
              "      <td>esar'xesnnqksyqe'qsyq'yx'fxsgygytqalzfxq</td>\n",
              "    </tr>\n",
              "    <tr>\n",
              "      <th>9</th>\n",
              "      <td>she had your dark suit in greasy wash water all year</td>\n",
              "      <td>am'qmshquzdfqhsfrqadgxqgyqtf'sauqjsamqjsx'fqsnnqu'sfq</td>\n",
              "    </tr>\n",
              "  </tbody>\n",
              "</table>"
            ],
            "text/plain": [
              "<IPython.core.display.HTML object>"
            ]
          },
          "metadata": {},
          "output_type": "display_data"
        }
      ],
      "source": [
        "show_random_elements(results)"
      ]
    },
    {
      "attachments": {},
      "cell_type": "markdown",
      "metadata": {
        "id": "5HFCujhd9n4N"
      },
      "source": [
        "It becomes clear that the predicted transcriptions are acoustically very similar to the target transcriptions, but often contain spelling or grammatical errors. This shouldn't be very surprising though given that we purely rely on Wav2Vec2 without making use of a language model."
      ]
    },
    {
      "attachments": {},
      "cell_type": "markdown",
      "metadata": {
        "id": "a3ydKvUl9FTK"
      },
      "source": [
        "Finally, to better understand how CTC works, it is worth taking a deeper look at the exact output of the model. Let's run the first test sample through the model, take the predicted ids and convert them to their corresponding tokens."
      ]
    },
    {
      "cell_type": "code",
      "execution_count": 46,
      "metadata": {
        "colab": {
          "background_save": true
        },
        "id": "AqaM45t87uM4",
        "outputId": "489eb586-99ed-43e8-ef03-899a2d5db111"
      },
      "outputs": [
        {
          "data": {
            "text/plain": [
              "'[PAD] [PAD] [PAD] [PAD] [PAD] t t h h e | | | b [PAD] [PAD] [PAD] u u n n g g [PAD] [PAD] l l l l [PAD] o o o | | w w a a s s | | [PAD] [PAD] [PAD] p l l [PAD] e s s s s [PAD] n n t t [PAD] l l l y y | | [PAD] s s s i i t t t [PAD] u u u u u [PAD] [PAD] [PAD] [PAD] a a t t [PAD] e e d d | | [PAD] n n e e a a r | | t t h e e | | s s h h [PAD] [PAD] [PAD] [PAD] o o r r r r | [PAD] [PAD] [PAD] [PAD] [PAD] [PAD] [PAD] [PAD] [PAD]'"
            ]
          },
          "execution_count": 46,
          "metadata": {},
          "output_type": "execute_result"
        }
      ],
      "source": [
        "model.to(\"cuda\")\n",
        "\n",
        "with torch.no_grad():\n",
        "  logits = model(torch.tensor(timit[\"test\"][:1][\"input_values\"], device=\"cuda\")).logits\n",
        "\n",
        "pred_ids = torch.argmax(logits, dim=-1)\n",
        "\n",
        "# convert ids to tokens\n",
        "\" \".join(processor.tokenizer.convert_ids_to_tokens(pred_ids[0].tolist()))"
      ]
    },
    {
      "attachments": {},
      "cell_type": "markdown",
      "metadata": {
        "id": "tdO8E28g-n5C"
      },
      "source": [
        "The output should make it a bit clearer how CTC works in practice. The model is to some extent invariant to speaking rate since it has learned to either just repeat the same token in case the speech chunk to be classified still corresponds to the same token. This makes CTC a very powerful algorithm for speech recognition since the speech file's transcription is often very much independent of its length.\n",
        "\n",
        "I again advise the reader to take a look at [this](https://distill.pub/2017/ctc) very nice blog post to better understand CTC."
      ]
    }
  ],
  "metadata": {
    "accelerator": "GPU",
    "colab": {
      "include_colab_link": true,
      "machine_shape": "hm",
      "provenance": []
    },
    "kernelspec": {
      "display_name": "Python 3",
      "name": "python3"
    },
    "language_info": {
      "codemirror_mode": {
        "name": "ipython",
        "version": 3
      },
      "file_extension": ".py",
      "mimetype": "text/x-python",
      "name": "python",
      "nbconvert_exporter": "python",
      "pygments_lexer": "ipython3",
      "version": "3.9.16"
    },
    "widgets": {
      "application/vnd.jupyter.widget-state+json": {
        "0058396ec61a4f75a7db09a5f38d125b": {
          "model_module": "@jupyter-widgets/base",
          "model_module_version": "1.2.0",
          "model_name": "LayoutModel",
          "state": {
            "_model_module": "@jupyter-widgets/base",
            "_model_module_version": "1.2.0",
            "_model_name": "LayoutModel",
            "_view_count": null,
            "_view_module": "@jupyter-widgets/base",
            "_view_module_version": "1.2.0",
            "_view_name": "LayoutView",
            "align_content": null,
            "align_items": null,
            "align_self": null,
            "border": null,
            "bottom": null,
            "display": null,
            "flex": null,
            "flex_flow": null,
            "grid_area": null,
            "grid_auto_columns": null,
            "grid_auto_flow": null,
            "grid_auto_rows": null,
            "grid_column": null,
            "grid_gap": null,
            "grid_row": null,
            "grid_template_areas": null,
            "grid_template_columns": null,
            "grid_template_rows": null,
            "height": null,
            "justify_content": null,
            "justify_items": null,
            "left": null,
            "margin": null,
            "max_height": null,
            "max_width": null,
            "min_height": null,
            "min_width": null,
            "object_fit": null,
            "object_position": null,
            "order": null,
            "overflow": null,
            "overflow_x": null,
            "overflow_y": null,
            "padding": null,
            "right": null,
            "top": null,
            "visibility": null,
            "width": "20px"
          }
        },
        "03d71c90397247f7a0b46f02be423a66": {
          "model_module": "@jupyter-widgets/controls",
          "model_module_version": "1.5.0",
          "model_name": "HBoxModel",
          "state": {
            "_dom_classes": [],
            "_model_module": "@jupyter-widgets/controls",
            "_model_module_version": "1.5.0",
            "_model_name": "HBoxModel",
            "_view_count": null,
            "_view_module": "@jupyter-widgets/controls",
            "_view_module_version": "1.5.0",
            "_view_name": "HBoxView",
            "box_style": "",
            "children": [
              "IPY_MODEL_7ba0b13ba0604b26afe63e5dc86e2f1e",
              "IPY_MODEL_41ff8cbd05464696b86989bf3c39c1e3",
              "IPY_MODEL_a84b851075bf4773a463ed24a2f3eb24"
            ],
            "layout": "IPY_MODEL_6f7688e6cf04412ab2dac06baeb4e666"
          }
        },
        "05b403993fc04c128fe3423e16085529": {
          "model_module": "@jupyter-widgets/base",
          "model_module_version": "1.2.0",
          "model_name": "LayoutModel",
          "state": {
            "_model_module": "@jupyter-widgets/base",
            "_model_module_version": "1.2.0",
            "_model_name": "LayoutModel",
            "_view_count": null,
            "_view_module": "@jupyter-widgets/base",
            "_view_module_version": "1.2.0",
            "_view_name": "LayoutView",
            "align_content": null,
            "align_items": null,
            "align_self": null,
            "border": null,
            "bottom": null,
            "display": null,
            "flex": null,
            "flex_flow": null,
            "grid_area": null,
            "grid_auto_columns": null,
            "grid_auto_flow": null,
            "grid_auto_rows": null,
            "grid_column": null,
            "grid_gap": null,
            "grid_row": null,
            "grid_template_areas": null,
            "grid_template_columns": null,
            "grid_template_rows": null,
            "height": null,
            "justify_content": null,
            "justify_items": null,
            "left": null,
            "margin": null,
            "max_height": null,
            "max_width": null,
            "min_height": null,
            "min_width": null,
            "object_fit": null,
            "object_position": null,
            "order": null,
            "overflow": null,
            "overflow_x": null,
            "overflow_y": null,
            "padding": null,
            "right": null,
            "top": null,
            "visibility": null,
            "width": null
          }
        },
        "05de8b07f5a54cdaabb7ad3de4a032b3": {
          "model_module": "@jupyter-widgets/controls",
          "model_module_version": "1.5.0",
          "model_name": "DescriptionStyleModel",
          "state": {
            "_model_module": "@jupyter-widgets/controls",
            "_model_module_version": "1.5.0",
            "_model_name": "DescriptionStyleModel",
            "_view_count": null,
            "_view_module": "@jupyter-widgets/base",
            "_view_module_version": "1.2.0",
            "_view_name": "StyleView",
            "description_width": ""
          }
        },
        "090847f7912e496fbc1ef8673674c1ed": {
          "model_module": "@jupyter-widgets/base",
          "model_module_version": "1.2.0",
          "model_name": "LayoutModel",
          "state": {
            "_model_module": "@jupyter-widgets/base",
            "_model_module_version": "1.2.0",
            "_model_name": "LayoutModel",
            "_view_count": null,
            "_view_module": "@jupyter-widgets/base",
            "_view_module_version": "1.2.0",
            "_view_name": "LayoutView",
            "align_content": null,
            "align_items": null,
            "align_self": null,
            "border": null,
            "bottom": null,
            "display": null,
            "flex": null,
            "flex_flow": null,
            "grid_area": null,
            "grid_auto_columns": null,
            "grid_auto_flow": null,
            "grid_auto_rows": null,
            "grid_column": null,
            "grid_gap": null,
            "grid_row": null,
            "grid_template_areas": null,
            "grid_template_columns": null,
            "grid_template_rows": null,
            "height": null,
            "justify_content": null,
            "justify_items": null,
            "left": null,
            "margin": null,
            "max_height": null,
            "max_width": null,
            "min_height": null,
            "min_width": null,
            "object_fit": null,
            "object_position": null,
            "order": null,
            "overflow": null,
            "overflow_x": null,
            "overflow_y": null,
            "padding": null,
            "right": null,
            "top": null,
            "visibility": null,
            "width": null
          }
        },
        "0ada10817cc44b6a9b903815fc9b2455": {
          "model_module": "@jupyter-widgets/base",
          "model_module_version": "1.2.0",
          "model_name": "LayoutModel",
          "state": {
            "_model_module": "@jupyter-widgets/base",
            "_model_module_version": "1.2.0",
            "_model_name": "LayoutModel",
            "_view_count": null,
            "_view_module": "@jupyter-widgets/base",
            "_view_module_version": "1.2.0",
            "_view_name": "LayoutView",
            "align_content": null,
            "align_items": null,
            "align_self": null,
            "border": null,
            "bottom": null,
            "display": null,
            "flex": null,
            "flex_flow": null,
            "grid_area": null,
            "grid_auto_columns": null,
            "grid_auto_flow": null,
            "grid_auto_rows": null,
            "grid_column": null,
            "grid_gap": null,
            "grid_row": null,
            "grid_template_areas": null,
            "grid_template_columns": null,
            "grid_template_rows": null,
            "height": null,
            "justify_content": null,
            "justify_items": null,
            "left": null,
            "margin": null,
            "max_height": null,
            "max_width": null,
            "min_height": null,
            "min_width": null,
            "object_fit": null,
            "object_position": null,
            "order": null,
            "overflow": null,
            "overflow_x": null,
            "overflow_y": null,
            "padding": null,
            "right": null,
            "top": null,
            "visibility": null,
            "width": null
          }
        },
        "0b8b1be79ae24a31b1474824c5e52de5": {
          "model_module": "@jupyter-widgets/controls",
          "model_module_version": "1.5.0",
          "model_name": "FloatProgressModel",
          "state": {
            "_dom_classes": [],
            "_model_module": "@jupyter-widgets/controls",
            "_model_module_version": "1.5.0",
            "_model_name": "FloatProgressModel",
            "_view_count": null,
            "_view_module": "@jupyter-widgets/controls",
            "_view_module_version": "1.5.0",
            "_view_name": "ProgressView",
            "bar_style": "success",
            "description": "",
            "description_tooltip": null,
            "layout": "IPY_MODEL_835cdd92279b4385af6a554c416ee245",
            "max": 1,
            "min": 0,
            "orientation": "horizontal",
            "style": "IPY_MODEL_91190c7d6c7b460cb028183cf51bb1c1",
            "value": 1
          }
        },
        "10fd19a14d1f45aba528e4f19b675638": {
          "model_module": "@jupyter-widgets/controls",
          "model_module_version": "1.5.0",
          "model_name": "DescriptionStyleModel",
          "state": {
            "_model_module": "@jupyter-widgets/controls",
            "_model_module_version": "1.5.0",
            "_model_name": "DescriptionStyleModel",
            "_view_count": null,
            "_view_module": "@jupyter-widgets/base",
            "_view_module_version": "1.2.0",
            "_view_name": "StyleView",
            "description_width": ""
          }
        },
        "14a6810e336a473cbcef56c1b6ed59cf": {
          "model_module": "@jupyter-widgets/controls",
          "model_module_version": "1.5.0",
          "model_name": "DescriptionStyleModel",
          "state": {
            "_model_module": "@jupyter-widgets/controls",
            "_model_module_version": "1.5.0",
            "_model_name": "DescriptionStyleModel",
            "_view_count": null,
            "_view_module": "@jupyter-widgets/base",
            "_view_module_version": "1.2.0",
            "_view_name": "StyleView",
            "description_width": ""
          }
        },
        "1504d726f2f448b4a9b36d5034f3d138": {
          "model_module": "@jupyter-widgets/base",
          "model_module_version": "1.2.0",
          "model_name": "LayoutModel",
          "state": {
            "_model_module": "@jupyter-widgets/base",
            "_model_module_version": "1.2.0",
            "_model_name": "LayoutModel",
            "_view_count": null,
            "_view_module": "@jupyter-widgets/base",
            "_view_module_version": "1.2.0",
            "_view_name": "LayoutView",
            "align_content": null,
            "align_items": null,
            "align_self": null,
            "border": null,
            "bottom": null,
            "display": null,
            "flex": null,
            "flex_flow": null,
            "grid_area": null,
            "grid_auto_columns": null,
            "grid_auto_flow": null,
            "grid_auto_rows": null,
            "grid_column": null,
            "grid_gap": null,
            "grid_row": null,
            "grid_template_areas": null,
            "grid_template_columns": null,
            "grid_template_rows": null,
            "height": null,
            "justify_content": null,
            "justify_items": null,
            "left": null,
            "margin": null,
            "max_height": null,
            "max_width": null,
            "min_height": null,
            "min_width": null,
            "object_fit": null,
            "object_position": null,
            "order": null,
            "overflow": null,
            "overflow_x": null,
            "overflow_y": null,
            "padding": null,
            "right": null,
            "top": null,
            "visibility": null,
            "width": null
          }
        },
        "15666b87c18443b2b5dcc92821b310e7": {
          "model_module": "@jupyter-widgets/base",
          "model_module_version": "1.2.0",
          "model_name": "LayoutModel",
          "state": {
            "_model_module": "@jupyter-widgets/base",
            "_model_module_version": "1.2.0",
            "_model_name": "LayoutModel",
            "_view_count": null,
            "_view_module": "@jupyter-widgets/base",
            "_view_module_version": "1.2.0",
            "_view_name": "LayoutView",
            "align_content": null,
            "align_items": null,
            "align_self": null,
            "border": null,
            "bottom": null,
            "display": null,
            "flex": null,
            "flex_flow": null,
            "grid_area": null,
            "grid_auto_columns": null,
            "grid_auto_flow": null,
            "grid_auto_rows": null,
            "grid_column": null,
            "grid_gap": null,
            "grid_row": null,
            "grid_template_areas": null,
            "grid_template_columns": null,
            "grid_template_rows": null,
            "height": null,
            "justify_content": null,
            "justify_items": null,
            "left": null,
            "margin": null,
            "max_height": null,
            "max_width": null,
            "min_height": null,
            "min_width": null,
            "object_fit": null,
            "object_position": null,
            "order": null,
            "overflow": null,
            "overflow_x": null,
            "overflow_y": null,
            "padding": null,
            "right": null,
            "top": null,
            "visibility": null,
            "width": null
          }
        },
        "15e195a2c3044feababc62304301f14f": {
          "model_module": "@jupyter-widgets/controls",
          "model_module_version": "1.5.0",
          "model_name": "DescriptionStyleModel",
          "state": {
            "_model_module": "@jupyter-widgets/controls",
            "_model_module_version": "1.5.0",
            "_model_name": "DescriptionStyleModel",
            "_view_count": null,
            "_view_module": "@jupyter-widgets/base",
            "_view_module_version": "1.2.0",
            "_view_name": "StyleView",
            "description_width": ""
          }
        },
        "165636445bfc4733970d1a7ded5f6ede": {
          "model_module": "@jupyter-widgets/controls",
          "model_module_version": "1.5.0",
          "model_name": "DescriptionStyleModel",
          "state": {
            "_model_module": "@jupyter-widgets/controls",
            "_model_module_version": "1.5.0",
            "_model_name": "DescriptionStyleModel",
            "_view_count": null,
            "_view_module": "@jupyter-widgets/base",
            "_view_module_version": "1.2.0",
            "_view_name": "StyleView",
            "description_width": ""
          }
        },
        "196c5d364c0a45d1b07cb8c1850eae8e": {
          "model_module": "@jupyter-widgets/base",
          "model_module_version": "1.2.0",
          "model_name": "LayoutModel",
          "state": {
            "_model_module": "@jupyter-widgets/base",
            "_model_module_version": "1.2.0",
            "_model_name": "LayoutModel",
            "_view_count": null,
            "_view_module": "@jupyter-widgets/base",
            "_view_module_version": "1.2.0",
            "_view_name": "LayoutView",
            "align_content": null,
            "align_items": null,
            "align_self": null,
            "border": null,
            "bottom": null,
            "display": null,
            "flex": null,
            "flex_flow": null,
            "grid_area": null,
            "grid_auto_columns": null,
            "grid_auto_flow": null,
            "grid_auto_rows": null,
            "grid_column": null,
            "grid_gap": null,
            "grid_row": null,
            "grid_template_areas": null,
            "grid_template_columns": null,
            "grid_template_rows": null,
            "height": null,
            "justify_content": null,
            "justify_items": null,
            "left": null,
            "margin": null,
            "max_height": null,
            "max_width": null,
            "min_height": null,
            "min_width": null,
            "object_fit": null,
            "object_position": null,
            "order": null,
            "overflow": null,
            "overflow_x": null,
            "overflow_y": null,
            "padding": null,
            "right": null,
            "top": null,
            "visibility": null,
            "width": null
          }
        },
        "1a36d660c6474845bbfdcffffb6dcc68": {
          "model_module": "@jupyter-widgets/controls",
          "model_module_version": "1.5.0",
          "model_name": "HTMLModel",
          "state": {
            "_dom_classes": [],
            "_model_module": "@jupyter-widgets/controls",
            "_model_module_version": "1.5.0",
            "_model_name": "HTMLModel",
            "_view_count": null,
            "_view_module": "@jupyter-widgets/controls",
            "_view_module_version": "1.5.0",
            "_view_name": "HTMLView",
            "description": "",
            "description_tooltip": null,
            "layout": "IPY_MODEL_7b2e3d37cdef4f5282f01745c3b1a0f4",
            "placeholder": "​",
            "style": "IPY_MODEL_7b694dd16e54443f8da6af91b1ecd821",
            "value": " 1675/0 [00:01&lt;00:00, 1493.22 examples/s]"
          }
        },
        "1cb0c8f214cc4de791e49af3c793380a": {
          "model_module": "@jupyter-widgets/base",
          "model_module_version": "1.2.0",
          "model_name": "LayoutModel",
          "state": {
            "_model_module": "@jupyter-widgets/base",
            "_model_module_version": "1.2.0",
            "_model_name": "LayoutModel",
            "_view_count": null,
            "_view_module": "@jupyter-widgets/base",
            "_view_module_version": "1.2.0",
            "_view_name": "LayoutView",
            "align_content": null,
            "align_items": null,
            "align_self": null,
            "border": null,
            "bottom": null,
            "display": null,
            "flex": null,
            "flex_flow": null,
            "grid_area": null,
            "grid_auto_columns": null,
            "grid_auto_flow": null,
            "grid_auto_rows": null,
            "grid_column": null,
            "grid_gap": null,
            "grid_row": null,
            "grid_template_areas": null,
            "grid_template_columns": null,
            "grid_template_rows": null,
            "height": null,
            "justify_content": null,
            "justify_items": null,
            "left": null,
            "margin": null,
            "max_height": null,
            "max_width": null,
            "min_height": null,
            "min_width": null,
            "object_fit": null,
            "object_position": null,
            "order": null,
            "overflow": null,
            "overflow_x": null,
            "overflow_y": null,
            "padding": null,
            "right": null,
            "top": null,
            "visibility": null,
            "width": null
          }
        },
        "225e6afb5c154fe6b3a1b1279287cb85": {
          "model_module": "@jupyter-widgets/base",
          "model_module_version": "1.2.0",
          "model_name": "LayoutModel",
          "state": {
            "_model_module": "@jupyter-widgets/base",
            "_model_module_version": "1.2.0",
            "_model_name": "LayoutModel",
            "_view_count": null,
            "_view_module": "@jupyter-widgets/base",
            "_view_module_version": "1.2.0",
            "_view_name": "LayoutView",
            "align_content": null,
            "align_items": null,
            "align_self": null,
            "border": null,
            "bottom": null,
            "display": null,
            "flex": null,
            "flex_flow": null,
            "grid_area": null,
            "grid_auto_columns": null,
            "grid_auto_flow": null,
            "grid_auto_rows": null,
            "grid_column": null,
            "grid_gap": null,
            "grid_row": null,
            "grid_template_areas": null,
            "grid_template_columns": null,
            "grid_template_rows": null,
            "height": null,
            "justify_content": null,
            "justify_items": null,
            "left": null,
            "margin": null,
            "max_height": null,
            "max_width": null,
            "min_height": null,
            "min_width": null,
            "object_fit": null,
            "object_position": null,
            "order": null,
            "overflow": null,
            "overflow_x": null,
            "overflow_y": null,
            "padding": null,
            "right": null,
            "top": null,
            "visibility": null,
            "width": null
          }
        },
        "280663ff96ce499aa0cb7bca67f59a85": {
          "model_module": "@jupyter-widgets/base",
          "model_module_version": "1.2.0",
          "model_name": "LayoutModel",
          "state": {
            "_model_module": "@jupyter-widgets/base",
            "_model_module_version": "1.2.0",
            "_model_name": "LayoutModel",
            "_view_count": null,
            "_view_module": "@jupyter-widgets/base",
            "_view_module_version": "1.2.0",
            "_view_name": "LayoutView",
            "align_content": null,
            "align_items": null,
            "align_self": null,
            "border": null,
            "bottom": null,
            "display": null,
            "flex": null,
            "flex_flow": null,
            "grid_area": null,
            "grid_auto_columns": null,
            "grid_auto_flow": null,
            "grid_auto_rows": null,
            "grid_column": null,
            "grid_gap": null,
            "grid_row": null,
            "grid_template_areas": null,
            "grid_template_columns": null,
            "grid_template_rows": null,
            "height": null,
            "justify_content": null,
            "justify_items": null,
            "left": null,
            "margin": null,
            "max_height": null,
            "max_width": null,
            "min_height": null,
            "min_width": null,
            "object_fit": null,
            "object_position": null,
            "order": null,
            "overflow": null,
            "overflow_x": null,
            "overflow_y": null,
            "padding": null,
            "right": null,
            "top": null,
            "visibility": null,
            "width": null
          }
        },
        "2a011e9f253e4cef8f52f45c110c0295": {
          "model_module": "@jupyter-widgets/controls",
          "model_module_version": "1.5.0",
          "model_name": "DescriptionStyleModel",
          "state": {
            "_model_module": "@jupyter-widgets/controls",
            "_model_module_version": "1.5.0",
            "_model_name": "DescriptionStyleModel",
            "_view_count": null,
            "_view_module": "@jupyter-widgets/base",
            "_view_module_version": "1.2.0",
            "_view_name": "StyleView",
            "description_width": ""
          }
        },
        "2a49340e51fc4054a2616d1990109d7c": {
          "model_module": "@jupyter-widgets/controls",
          "model_module_version": "1.5.0",
          "model_name": "FloatProgressModel",
          "state": {
            "_dom_classes": [],
            "_model_module": "@jupyter-widgets/controls",
            "_model_module_version": "1.5.0",
            "_model_name": "FloatProgressModel",
            "_view_count": null,
            "_view_module": "@jupyter-widgets/controls",
            "_view_module_version": "1.5.0",
            "_view_name": "ProgressView",
            "bar_style": "success",
            "description": "",
            "description_tooltip": null,
            "layout": "IPY_MODEL_bd85d28cc40142998b42434a705de501",
            "max": 1,
            "min": 0,
            "orientation": "horizontal",
            "style": "IPY_MODEL_7a913dfa92e7410f8304bd12b186671e",
            "value": 1
          }
        },
        "2b28d6a112484a5cb8a3bce8d33dd6eb": {
          "model_module": "@jupyter-widgets/controls",
          "model_module_version": "1.5.0",
          "model_name": "HTMLModel",
          "state": {
            "_dom_classes": [],
            "_model_module": "@jupyter-widgets/controls",
            "_model_module_version": "1.5.0",
            "_model_name": "HTMLModel",
            "_view_count": null,
            "_view_module": "@jupyter-widgets/controls",
            "_view_module_version": "1.5.0",
            "_view_name": "HTMLView",
            "description": "",
            "description_tooltip": null,
            "layout": "IPY_MODEL_457ab436e5dd499eab891989de1ebdc9",
            "placeholder": "​",
            "style": "IPY_MODEL_165636445bfc4733970d1a7ded5f6ede",
            "value": ""
          }
        },
        "2ca52ebaf2be48d5a4b8b4138906be85": {
          "model_module": "@jupyter-widgets/base",
          "model_module_version": "1.2.0",
          "model_name": "LayoutModel",
          "state": {
            "_model_module": "@jupyter-widgets/base",
            "_model_module_version": "1.2.0",
            "_model_name": "LayoutModel",
            "_view_count": null,
            "_view_module": "@jupyter-widgets/base",
            "_view_module_version": "1.2.0",
            "_view_name": "LayoutView",
            "align_content": null,
            "align_items": null,
            "align_self": null,
            "border": null,
            "bottom": null,
            "display": null,
            "flex": null,
            "flex_flow": null,
            "grid_area": null,
            "grid_auto_columns": null,
            "grid_auto_flow": null,
            "grid_auto_rows": null,
            "grid_column": null,
            "grid_gap": null,
            "grid_row": null,
            "grid_template_areas": null,
            "grid_template_columns": null,
            "grid_template_rows": null,
            "height": null,
            "justify_content": null,
            "justify_items": null,
            "left": null,
            "margin": null,
            "max_height": null,
            "max_width": null,
            "min_height": null,
            "min_width": null,
            "object_fit": null,
            "object_position": null,
            "order": null,
            "overflow": null,
            "overflow_x": null,
            "overflow_y": null,
            "padding": null,
            "right": null,
            "top": null,
            "visibility": null,
            "width": null
          }
        },
        "2cb200945757448abb65d4af8fe4b95f": {
          "model_module": "@jupyter-widgets/controls",
          "model_module_version": "1.5.0",
          "model_name": "FloatProgressModel",
          "state": {
            "_dom_classes": [],
            "_model_module": "@jupyter-widgets/controls",
            "_model_module_version": "1.5.0",
            "_model_name": "FloatProgressModel",
            "_view_count": null,
            "_view_module": "@jupyter-widgets/controls",
            "_view_module_version": "1.5.0",
            "_view_name": "ProgressView",
            "bar_style": "success",
            "description": "",
            "description_tooltip": null,
            "layout": "IPY_MODEL_480805c0a342489dbe01eef7aa1a9b65",
            "max": 5,
            "min": 0,
            "orientation": "horizontal",
            "style": "IPY_MODEL_c7729e98d977430a8a85243bab1dc83d",
            "value": 5
          }
        },
        "2cf18cb986eb40af89ebff415e08f273": {
          "model_module": "@jupyter-widgets/controls",
          "model_module_version": "1.5.0",
          "model_name": "HBoxModel",
          "state": {
            "_dom_classes": [],
            "_model_module": "@jupyter-widgets/controls",
            "_model_module_version": "1.5.0",
            "_model_name": "HBoxModel",
            "_view_count": null,
            "_view_module": "@jupyter-widgets/controls",
            "_view_module_version": "1.5.0",
            "_view_name": "HBoxView",
            "box_style": "",
            "children": [
              "IPY_MODEL_58d8a23d215e4c90af7cc611354be857",
              "IPY_MODEL_cab324901c07479cb8c579067204aecf",
              "IPY_MODEL_5e19198ee86d4494bc5eb9637259f492"
            ],
            "layout": "IPY_MODEL_0ada10817cc44b6a9b903815fc9b2455"
          }
        },
        "2e4870ab55404beaafde980d48618ed7": {
          "model_module": "@jupyter-widgets/base",
          "model_module_version": "1.2.0",
          "model_name": "LayoutModel",
          "state": {
            "_model_module": "@jupyter-widgets/base",
            "_model_module_version": "1.2.0",
            "_model_name": "LayoutModel",
            "_view_count": null,
            "_view_module": "@jupyter-widgets/base",
            "_view_module_version": "1.2.0",
            "_view_name": "LayoutView",
            "align_content": null,
            "align_items": null,
            "align_self": null,
            "border": null,
            "bottom": null,
            "display": null,
            "flex": null,
            "flex_flow": null,
            "grid_area": null,
            "grid_auto_columns": null,
            "grid_auto_flow": null,
            "grid_auto_rows": null,
            "grid_column": null,
            "grid_gap": null,
            "grid_row": null,
            "grid_template_areas": null,
            "grid_template_columns": null,
            "grid_template_rows": null,
            "height": null,
            "justify_content": null,
            "justify_items": null,
            "left": null,
            "margin": null,
            "max_height": null,
            "max_width": null,
            "min_height": null,
            "min_width": null,
            "object_fit": null,
            "object_position": null,
            "order": null,
            "overflow": null,
            "overflow_x": null,
            "overflow_y": null,
            "padding": null,
            "right": null,
            "top": null,
            "visibility": null,
            "width": null
          }
        },
        "334975266d804748874f5d5621af50ba": {
          "model_module": "@jupyter-widgets/controls",
          "model_module_version": "1.5.0",
          "model_name": "HTMLModel",
          "state": {
            "_dom_classes": [],
            "_model_module": "@jupyter-widgets/controls",
            "_model_module_version": "1.5.0",
            "_model_name": "HTMLModel",
            "_view_count": null,
            "_view_module": "@jupyter-widgets/controls",
            "_view_module_version": "1.5.0",
            "_view_name": "HTMLView",
            "description": "",
            "description_tooltip": null,
            "layout": "IPY_MODEL_b51bb202d2214ff28d2a4cd7216443a7",
            "placeholder": "​",
            "style": "IPY_MODEL_c3a76df48c1f46a6a588babaadaafce2",
            "value": "Downloading: "
          }
        },
        "33d85e2daf4e45e48d1eb5dbf86cd4b6": {
          "model_module": "@jupyter-widgets/base",
          "model_module_version": "1.2.0",
          "model_name": "LayoutModel",
          "state": {
            "_model_module": "@jupyter-widgets/base",
            "_model_module_version": "1.2.0",
            "_model_name": "LayoutModel",
            "_view_count": null,
            "_view_module": "@jupyter-widgets/base",
            "_view_module_version": "1.2.0",
            "_view_name": "LayoutView",
            "align_content": null,
            "align_items": null,
            "align_self": null,
            "border": null,
            "bottom": null,
            "display": null,
            "flex": null,
            "flex_flow": null,
            "grid_area": null,
            "grid_auto_columns": null,
            "grid_auto_flow": null,
            "grid_auto_rows": null,
            "grid_column": null,
            "grid_gap": null,
            "grid_row": null,
            "grid_template_areas": null,
            "grid_template_columns": null,
            "grid_template_rows": null,
            "height": null,
            "justify_content": null,
            "justify_items": null,
            "left": null,
            "margin": null,
            "max_height": null,
            "max_width": null,
            "min_height": null,
            "min_width": null,
            "object_fit": null,
            "object_position": null,
            "order": null,
            "overflow": null,
            "overflow_x": null,
            "overflow_y": null,
            "padding": null,
            "right": null,
            "top": null,
            "visibility": null,
            "width": null
          }
        },
        "35cff9996fa5410485f6a9cba04dee0d": {
          "model_module": "@jupyter-widgets/controls",
          "model_module_version": "1.5.0",
          "model_name": "HBoxModel",
          "state": {
            "_dom_classes": [],
            "_model_module": "@jupyter-widgets/controls",
            "_model_module_version": "1.5.0",
            "_model_name": "HBoxModel",
            "_view_count": null,
            "_view_module": "@jupyter-widgets/controls",
            "_view_module_version": "1.5.0",
            "_view_name": "HBoxView",
            "box_style": "",
            "children": [
              "IPY_MODEL_f2f1d919308042c4b730658cee357374",
              "IPY_MODEL_f261eb96f32540b7aba59bf5707bee6f",
              "IPY_MODEL_c453ed86ee824b5e88d15c5bce35009b"
            ],
            "layout": "IPY_MODEL_45f9dd1c05be47e8a0dd90af375756ac"
          }
        },
        "362150e5ee6b409381c9a3f2c4199186": {
          "model_module": "@jupyter-widgets/controls",
          "model_module_version": "1.5.0",
          "model_name": "DescriptionStyleModel",
          "state": {
            "_model_module": "@jupyter-widgets/controls",
            "_model_module_version": "1.5.0",
            "_model_name": "DescriptionStyleModel",
            "_view_count": null,
            "_view_module": "@jupyter-widgets/base",
            "_view_module_version": "1.2.0",
            "_view_name": "StyleView",
            "description_width": ""
          }
        },
        "369c2fa2af714df99e5113fddfe81a36": {
          "model_module": "@jupyter-widgets/controls",
          "model_module_version": "1.5.0",
          "model_name": "ProgressStyleModel",
          "state": {
            "_model_module": "@jupyter-widgets/controls",
            "_model_module_version": "1.5.0",
            "_model_name": "ProgressStyleModel",
            "_view_count": null,
            "_view_module": "@jupyter-widgets/base",
            "_view_module_version": "1.2.0",
            "_view_name": "StyleView",
            "bar_color": null,
            "description_width": ""
          }
        },
        "374e9b6e9fcc45eabe84ae0c9f286546": {
          "model_module": "@jupyter-widgets/base",
          "model_module_version": "1.2.0",
          "model_name": "LayoutModel",
          "state": {
            "_model_module": "@jupyter-widgets/base",
            "_model_module_version": "1.2.0",
            "_model_name": "LayoutModel",
            "_view_count": null,
            "_view_module": "@jupyter-widgets/base",
            "_view_module_version": "1.2.0",
            "_view_name": "LayoutView",
            "align_content": null,
            "align_items": null,
            "align_self": null,
            "border": null,
            "bottom": null,
            "display": null,
            "flex": null,
            "flex_flow": null,
            "grid_area": null,
            "grid_auto_columns": null,
            "grid_auto_flow": null,
            "grid_auto_rows": null,
            "grid_column": null,
            "grid_gap": null,
            "grid_row": null,
            "grid_template_areas": null,
            "grid_template_columns": null,
            "grid_template_rows": null,
            "height": null,
            "justify_content": null,
            "justify_items": null,
            "left": null,
            "margin": null,
            "max_height": null,
            "max_width": null,
            "min_height": null,
            "min_width": null,
            "object_fit": null,
            "object_position": null,
            "order": null,
            "overflow": null,
            "overflow_x": null,
            "overflow_y": null,
            "padding": null,
            "right": null,
            "top": null,
            "visibility": null,
            "width": null
          }
        },
        "39a54ded218f48048321c604eece88d9": {
          "model_module": "@jupyter-widgets/base",
          "model_module_version": "1.2.0",
          "model_name": "LayoutModel",
          "state": {
            "_model_module": "@jupyter-widgets/base",
            "_model_module_version": "1.2.0",
            "_model_name": "LayoutModel",
            "_view_count": null,
            "_view_module": "@jupyter-widgets/base",
            "_view_module_version": "1.2.0",
            "_view_name": "LayoutView",
            "align_content": null,
            "align_items": null,
            "align_self": null,
            "border": null,
            "bottom": null,
            "display": null,
            "flex": null,
            "flex_flow": null,
            "grid_area": null,
            "grid_auto_columns": null,
            "grid_auto_flow": null,
            "grid_auto_rows": null,
            "grid_column": null,
            "grid_gap": null,
            "grid_row": null,
            "grid_template_areas": null,
            "grid_template_columns": null,
            "grid_template_rows": null,
            "height": null,
            "justify_content": null,
            "justify_items": null,
            "left": null,
            "margin": null,
            "max_height": null,
            "max_width": null,
            "min_height": null,
            "min_width": null,
            "object_fit": null,
            "object_position": null,
            "order": null,
            "overflow": null,
            "overflow_x": null,
            "overflow_y": null,
            "padding": null,
            "right": null,
            "top": null,
            "visibility": null,
            "width": null
          }
        },
        "39d2595f1d85401ea4e930369e52da11": {
          "model_module": "@jupyter-widgets/base",
          "model_module_version": "1.2.0",
          "model_name": "LayoutModel",
          "state": {
            "_model_module": "@jupyter-widgets/base",
            "_model_module_version": "1.2.0",
            "_model_name": "LayoutModel",
            "_view_count": null,
            "_view_module": "@jupyter-widgets/base",
            "_view_module_version": "1.2.0",
            "_view_name": "LayoutView",
            "align_content": null,
            "align_items": null,
            "align_self": null,
            "border": null,
            "bottom": null,
            "display": null,
            "flex": null,
            "flex_flow": null,
            "grid_area": null,
            "grid_auto_columns": null,
            "grid_auto_flow": null,
            "grid_auto_rows": null,
            "grid_column": null,
            "grid_gap": null,
            "grid_row": null,
            "grid_template_areas": null,
            "grid_template_columns": null,
            "grid_template_rows": null,
            "height": null,
            "justify_content": null,
            "justify_items": null,
            "left": null,
            "margin": null,
            "max_height": null,
            "max_width": null,
            "min_height": null,
            "min_width": null,
            "object_fit": null,
            "object_position": null,
            "order": null,
            "overflow": null,
            "overflow_x": null,
            "overflow_y": null,
            "padding": null,
            "right": null,
            "top": null,
            "visibility": null,
            "width": null
          }
        },
        "3cbbf50821414139bf7924b2a66912ba": {
          "model_module": "@jupyter-widgets/controls",
          "model_module_version": "1.5.0",
          "model_name": "ProgressStyleModel",
          "state": {
            "_model_module": "@jupyter-widgets/controls",
            "_model_module_version": "1.5.0",
            "_model_name": "ProgressStyleModel",
            "_view_count": null,
            "_view_module": "@jupyter-widgets/base",
            "_view_module_version": "1.2.0",
            "_view_name": "StyleView",
            "bar_color": null,
            "description_width": ""
          }
        },
        "3d7e3dfdc28548d8bd8b7d548edb6f8f": {
          "model_module": "@jupyter-widgets/controls",
          "model_module_version": "1.5.0",
          "model_name": "ProgressStyleModel",
          "state": {
            "_model_module": "@jupyter-widgets/controls",
            "_model_module_version": "1.5.0",
            "_model_name": "ProgressStyleModel",
            "_view_count": null,
            "_view_module": "@jupyter-widgets/base",
            "_view_module_version": "1.2.0",
            "_view_name": "StyleView",
            "bar_color": null,
            "description_width": ""
          }
        },
        "3ee80b72a2e348c8a92af98b5d666c13": {
          "model_module": "@jupyter-widgets/base",
          "model_module_version": "1.2.0",
          "model_name": "LayoutModel",
          "state": {
            "_model_module": "@jupyter-widgets/base",
            "_model_module_version": "1.2.0",
            "_model_name": "LayoutModel",
            "_view_count": null,
            "_view_module": "@jupyter-widgets/base",
            "_view_module_version": "1.2.0",
            "_view_name": "LayoutView",
            "align_content": null,
            "align_items": null,
            "align_self": null,
            "border": null,
            "bottom": null,
            "display": null,
            "flex": null,
            "flex_flow": null,
            "grid_area": null,
            "grid_auto_columns": null,
            "grid_auto_flow": null,
            "grid_auto_rows": null,
            "grid_column": null,
            "grid_gap": null,
            "grid_row": null,
            "grid_template_areas": null,
            "grid_template_columns": null,
            "grid_template_rows": null,
            "height": null,
            "justify_content": null,
            "justify_items": null,
            "left": null,
            "margin": null,
            "max_height": null,
            "max_width": null,
            "min_height": null,
            "min_width": null,
            "object_fit": null,
            "object_position": null,
            "order": null,
            "overflow": null,
            "overflow_x": null,
            "overflow_y": null,
            "padding": null,
            "right": null,
            "top": null,
            "visibility": null,
            "width": null
          }
        },
        "41761888fc3547bf81907d84c07cd964": {
          "model_module": "@jupyter-widgets/base",
          "model_module_version": "1.2.0",
          "model_name": "LayoutModel",
          "state": {
            "_model_module": "@jupyter-widgets/base",
            "_model_module_version": "1.2.0",
            "_model_name": "LayoutModel",
            "_view_count": null,
            "_view_module": "@jupyter-widgets/base",
            "_view_module_version": "1.2.0",
            "_view_name": "LayoutView",
            "align_content": null,
            "align_items": null,
            "align_self": null,
            "border": null,
            "bottom": null,
            "display": null,
            "flex": null,
            "flex_flow": null,
            "grid_area": null,
            "grid_auto_columns": null,
            "grid_auto_flow": null,
            "grid_auto_rows": null,
            "grid_column": null,
            "grid_gap": null,
            "grid_row": null,
            "grid_template_areas": null,
            "grid_template_columns": null,
            "grid_template_rows": null,
            "height": null,
            "justify_content": null,
            "justify_items": null,
            "left": null,
            "margin": null,
            "max_height": null,
            "max_width": null,
            "min_height": null,
            "min_width": null,
            "object_fit": null,
            "object_position": null,
            "order": null,
            "overflow": null,
            "overflow_x": null,
            "overflow_y": null,
            "padding": null,
            "right": null,
            "top": null,
            "visibility": null,
            "width": null
          }
        },
        "41ff8cbd05464696b86989bf3c39c1e3": {
          "model_module": "@jupyter-widgets/controls",
          "model_module_version": "1.5.0",
          "model_name": "FloatProgressModel",
          "state": {
            "_dom_classes": [],
            "_model_module": "@jupyter-widgets/controls",
            "_model_module_version": "1.5.0",
            "_model_name": "FloatProgressModel",
            "_view_count": null,
            "_view_module": "@jupyter-widgets/controls",
            "_view_module_version": "1.5.0",
            "_view_name": "ProgressView",
            "bar_style": "success",
            "description": "",
            "description_tooltip": null,
            "layout": "IPY_MODEL_196c5d364c0a45d1b07cb8c1850eae8e",
            "max": 1060,
            "min": 0,
            "orientation": "horizontal",
            "style": "IPY_MODEL_ac7622d9634c46db895530963f553494",
            "value": 1060
          }
        },
        "42901d9eb4204cb39847025079f3e3c1": {
          "model_module": "@jupyter-widgets/controls",
          "model_module_version": "1.5.0",
          "model_name": "HTMLModel",
          "state": {
            "_dom_classes": [],
            "_model_module": "@jupyter-widgets/controls",
            "_model_module_version": "1.5.0",
            "_model_name": "HTMLModel",
            "_view_count": null,
            "_view_module": "@jupyter-widgets/controls",
            "_view_module_version": "1.5.0",
            "_view_name": "HTMLView",
            "description": "",
            "description_tooltip": null,
            "layout": "IPY_MODEL_bb8774b67f884f6b8377a496b5c4a151",
            "placeholder": "​",
            "style": "IPY_MODEL_f49894f74c4242f88b84aea799edb16d",
            "value": " 4620/? [00:00&lt;00:00, 11641.10ex/s]"
          }
        },
        "4322229ce14c40288a33afefb4917bdd": {
          "model_module": "@jupyter-widgets/controls",
          "model_module_version": "1.5.0",
          "model_name": "HTMLModel",
          "state": {
            "_dom_classes": [],
            "_model_module": "@jupyter-widgets/controls",
            "_model_module_version": "1.5.0",
            "_model_name": "HTMLModel",
            "_view_count": null,
            "_view_module": "@jupyter-widgets/controls",
            "_view_module_version": "1.5.0",
            "_view_name": "HTMLView",
            "description": "",
            "description_tooltip": null,
            "layout": "IPY_MODEL_6d601fe66e86428bb08ec9952e99d52a",
            "placeholder": "​",
            "style": "IPY_MODEL_bd7dad24d5d34edd9409e44ae87b888c",
            "value": " 1/1 [00:00&lt;00:00, 12.01ba/s]"
          }
        },
        "43c07bbb17534fa9932770d689dc821b": {
          "model_module": "@jupyter-widgets/controls",
          "model_module_version": "1.5.0",
          "model_name": "ProgressStyleModel",
          "state": {
            "_model_module": "@jupyter-widgets/controls",
            "_model_module_version": "1.5.0",
            "_model_name": "ProgressStyleModel",
            "_view_count": null,
            "_view_module": "@jupyter-widgets/base",
            "_view_module_version": "1.2.0",
            "_view_name": "StyleView",
            "bar_color": null,
            "description_width": ""
          }
        },
        "457ab436e5dd499eab891989de1ebdc9": {
          "model_module": "@jupyter-widgets/base",
          "model_module_version": "1.2.0",
          "model_name": "LayoutModel",
          "state": {
            "_model_module": "@jupyter-widgets/base",
            "_model_module_version": "1.2.0",
            "_model_name": "LayoutModel",
            "_view_count": null,
            "_view_module": "@jupyter-widgets/base",
            "_view_module_version": "1.2.0",
            "_view_name": "LayoutView",
            "align_content": null,
            "align_items": null,
            "align_self": null,
            "border": null,
            "bottom": null,
            "display": null,
            "flex": null,
            "flex_flow": null,
            "grid_area": null,
            "grid_auto_columns": null,
            "grid_auto_flow": null,
            "grid_auto_rows": null,
            "grid_column": null,
            "grid_gap": null,
            "grid_row": null,
            "grid_template_areas": null,
            "grid_template_columns": null,
            "grid_template_rows": null,
            "height": null,
            "justify_content": null,
            "justify_items": null,
            "left": null,
            "margin": null,
            "max_height": null,
            "max_width": null,
            "min_height": null,
            "min_width": null,
            "object_fit": null,
            "object_position": null,
            "order": null,
            "overflow": null,
            "overflow_x": null,
            "overflow_y": null,
            "padding": null,
            "right": null,
            "top": null,
            "visibility": null,
            "width": null
          }
        },
        "45f9dd1c05be47e8a0dd90af375756ac": {
          "model_module": "@jupyter-widgets/base",
          "model_module_version": "1.2.0",
          "model_name": "LayoutModel",
          "state": {
            "_model_module": "@jupyter-widgets/base",
            "_model_module_version": "1.2.0",
            "_model_name": "LayoutModel",
            "_view_count": null,
            "_view_module": "@jupyter-widgets/base",
            "_view_module_version": "1.2.0",
            "_view_name": "LayoutView",
            "align_content": null,
            "align_items": null,
            "align_self": null,
            "border": null,
            "bottom": null,
            "display": null,
            "flex": null,
            "flex_flow": null,
            "grid_area": null,
            "grid_auto_columns": null,
            "grid_auto_flow": null,
            "grid_auto_rows": null,
            "grid_column": null,
            "grid_gap": null,
            "grid_row": null,
            "grid_template_areas": null,
            "grid_template_columns": null,
            "grid_template_rows": null,
            "height": null,
            "justify_content": null,
            "justify_items": null,
            "left": null,
            "margin": null,
            "max_height": null,
            "max_width": null,
            "min_height": null,
            "min_width": null,
            "object_fit": null,
            "object_position": null,
            "order": null,
            "overflow": null,
            "overflow_x": null,
            "overflow_y": null,
            "padding": null,
            "right": null,
            "top": null,
            "visibility": null,
            "width": null
          }
        },
        "46b49c05ae70468cbe834a11a86c53ee": {
          "model_module": "@jupyter-widgets/controls",
          "model_module_version": "1.5.0",
          "model_name": "DescriptionStyleModel",
          "state": {
            "_model_module": "@jupyter-widgets/controls",
            "_model_module_version": "1.5.0",
            "_model_name": "DescriptionStyleModel",
            "_view_count": null,
            "_view_module": "@jupyter-widgets/base",
            "_view_module_version": "1.2.0",
            "_view_name": "StyleView",
            "description_width": ""
          }
        },
        "4796a0a689924d089c229046ba162058": {
          "model_module": "@jupyter-widgets/controls",
          "model_module_version": "1.5.0",
          "model_name": "DescriptionStyleModel",
          "state": {
            "_model_module": "@jupyter-widgets/controls",
            "_model_module_version": "1.5.0",
            "_model_name": "DescriptionStyleModel",
            "_view_count": null,
            "_view_module": "@jupyter-widgets/base",
            "_view_module_version": "1.2.0",
            "_view_name": "StyleView",
            "description_width": ""
          }
        },
        "47d42cc391cd46049052a802e46364b6": {
          "model_module": "@jupyter-widgets/controls",
          "model_module_version": "1.5.0",
          "model_name": "HTMLModel",
          "state": {
            "_dom_classes": [],
            "_model_module": "@jupyter-widgets/controls",
            "_model_module_version": "1.5.0",
            "_model_name": "HTMLModel",
            "_view_count": null,
            "_view_module": "@jupyter-widgets/controls",
            "_view_module_version": "1.5.0",
            "_view_name": "HTMLView",
            "description": "",
            "description_tooltip": null,
            "layout": "IPY_MODEL_b92aa97e7bf4400c8e1314fd9cd6360c",
            "placeholder": "​",
            "style": "IPY_MODEL_ae02bea4efb44660aa5718e913f38d1d",
            "value": "Downloading: "
          }
        },
        "480805c0a342489dbe01eef7aa1a9b65": {
          "model_module": "@jupyter-widgets/base",
          "model_module_version": "1.2.0",
          "model_name": "LayoutModel",
          "state": {
            "_model_module": "@jupyter-widgets/base",
            "_model_module_version": "1.2.0",
            "_model_name": "LayoutModel",
            "_view_count": null,
            "_view_module": "@jupyter-widgets/base",
            "_view_module_version": "1.2.0",
            "_view_name": "LayoutView",
            "align_content": null,
            "align_items": null,
            "align_self": null,
            "border": null,
            "bottom": null,
            "display": null,
            "flex": null,
            "flex_flow": null,
            "grid_area": null,
            "grid_auto_columns": null,
            "grid_auto_flow": null,
            "grid_auto_rows": null,
            "grid_column": null,
            "grid_gap": null,
            "grid_row": null,
            "grid_template_areas": null,
            "grid_template_columns": null,
            "grid_template_rows": null,
            "height": null,
            "justify_content": null,
            "justify_items": null,
            "left": null,
            "margin": null,
            "max_height": null,
            "max_width": null,
            "min_height": null,
            "min_width": null,
            "object_fit": null,
            "object_position": null,
            "order": null,
            "overflow": null,
            "overflow_x": null,
            "overflow_y": null,
            "padding": null,
            "right": null,
            "top": null,
            "visibility": null,
            "width": null
          }
        },
        "489bec937040484ea1164c317f07a4ad": {
          "model_module": "@jupyter-widgets/controls",
          "model_module_version": "1.5.0",
          "model_name": "DescriptionStyleModel",
          "state": {
            "_model_module": "@jupyter-widgets/controls",
            "_model_module_version": "1.5.0",
            "_model_name": "DescriptionStyleModel",
            "_view_count": null,
            "_view_module": "@jupyter-widgets/base",
            "_view_module_version": "1.2.0",
            "_view_name": "StyleView",
            "description_width": ""
          }
        },
        "4d26ca1886f0449ea7bd6b4c8de7ab24": {
          "model_module": "@jupyter-widgets/controls",
          "model_module_version": "1.5.0",
          "model_name": "HTMLModel",
          "state": {
            "_dom_classes": [],
            "_model_module": "@jupyter-widgets/controls",
            "_model_module_version": "1.5.0",
            "_model_name": "HTMLModel",
            "_view_count": null,
            "_view_module": "@jupyter-widgets/controls",
            "_view_module_version": "1.5.0",
            "_view_name": "HTMLView",
            "description": "",
            "description_tooltip": null,
            "layout": "IPY_MODEL_b27cb4080cb642739729fed51ee8c3ad",
            "placeholder": "​",
            "style": "IPY_MODEL_8ba99977f5d64f69820c6cb91020848c",
            "value": "Downloading: 100%"
          }
        },
        "4ed0f26ff105404bb993127df03bffca": {
          "model_module": "@jupyter-widgets/controls",
          "model_module_version": "1.5.0",
          "model_name": "HTMLModel",
          "state": {
            "_dom_classes": [],
            "_model_module": "@jupyter-widgets/controls",
            "_model_module_version": "1.5.0",
            "_model_name": "HTMLModel",
            "_view_count": null,
            "_view_module": "@jupyter-widgets/controls",
            "_view_module_version": "1.5.0",
            "_view_name": "HTMLView",
            "description": "",
            "description_tooltip": null,
            "layout": "IPY_MODEL_b59ba6565a464d1ba9b09b978cc679dd",
            "placeholder": "​",
            "style": "IPY_MODEL_10fd19a14d1f45aba528e4f19b675638",
            "value": "100%"
          }
        },
        "51a7cab310ae4385b30bcf6d828c5bd7": {
          "model_module": "@jupyter-widgets/controls",
          "model_module_version": "1.5.0",
          "model_name": "PasswordModel",
          "state": {
            "_dom_classes": [],
            "_model_module": "@jupyter-widgets/controls",
            "_model_module_version": "1.5.0",
            "_model_name": "PasswordModel",
            "_view_count": null,
            "_view_module": "@jupyter-widgets/controls",
            "_view_module_version": "1.5.0",
            "_view_name": "PasswordView",
            "continuous_update": true,
            "description": "Token:",
            "description_tooltip": null,
            "disabled": false,
            "layout": "IPY_MODEL_3ee80b72a2e348c8a92af98b5d666c13",
            "placeholder": "​",
            "style": "IPY_MODEL_d30d4923454e4f8aaf4341f0d9e4f794",
            "value": ""
          }
        },
        "53a03b6776c5401aaca921c86ed0b6d5": {
          "model_module": "@jupyter-widgets/controls",
          "model_module_version": "1.5.0",
          "model_name": "ProgressStyleModel",
          "state": {
            "_model_module": "@jupyter-widgets/controls",
            "_model_module_version": "1.5.0",
            "_model_name": "ProgressStyleModel",
            "_view_count": null,
            "_view_module": "@jupyter-widgets/base",
            "_view_module_version": "1.2.0",
            "_view_name": "StyleView",
            "bar_color": null,
            "description_width": ""
          }
        },
        "556b2a49b0f04518a0c925f7d448fcd9": {
          "model_module": "@jupyter-widgets/base",
          "model_module_version": "1.2.0",
          "model_name": "LayoutModel",
          "state": {
            "_model_module": "@jupyter-widgets/base",
            "_model_module_version": "1.2.0",
            "_model_name": "LayoutModel",
            "_view_count": null,
            "_view_module": "@jupyter-widgets/base",
            "_view_module_version": "1.2.0",
            "_view_name": "LayoutView",
            "align_content": null,
            "align_items": null,
            "align_self": null,
            "border": null,
            "bottom": null,
            "display": null,
            "flex": null,
            "flex_flow": null,
            "grid_area": null,
            "grid_auto_columns": null,
            "grid_auto_flow": null,
            "grid_auto_rows": null,
            "grid_column": null,
            "grid_gap": null,
            "grid_row": null,
            "grid_template_areas": null,
            "grid_template_columns": null,
            "grid_template_rows": null,
            "height": null,
            "justify_content": null,
            "justify_items": null,
            "left": null,
            "margin": null,
            "max_height": null,
            "max_width": null,
            "min_height": null,
            "min_width": null,
            "object_fit": null,
            "object_position": null,
            "order": null,
            "overflow": null,
            "overflow_x": null,
            "overflow_y": null,
            "padding": null,
            "right": null,
            "top": null,
            "visibility": null,
            "width": null
          }
        },
        "56edbb7e71544c97a52f26e245e6a406": {
          "model_module": "@jupyter-widgets/base",
          "model_module_version": "1.2.0",
          "model_name": "LayoutModel",
          "state": {
            "_model_module": "@jupyter-widgets/base",
            "_model_module_version": "1.2.0",
            "_model_name": "LayoutModel",
            "_view_count": null,
            "_view_module": "@jupyter-widgets/base",
            "_view_module_version": "1.2.0",
            "_view_name": "LayoutView",
            "align_content": null,
            "align_items": null,
            "align_self": null,
            "border": null,
            "bottom": null,
            "display": null,
            "flex": null,
            "flex_flow": null,
            "grid_area": null,
            "grid_auto_columns": null,
            "grid_auto_flow": null,
            "grid_auto_rows": null,
            "grid_column": null,
            "grid_gap": null,
            "grid_row": null,
            "grid_template_areas": null,
            "grid_template_columns": null,
            "grid_template_rows": null,
            "height": null,
            "justify_content": null,
            "justify_items": null,
            "left": null,
            "margin": null,
            "max_height": null,
            "max_width": null,
            "min_height": null,
            "min_width": null,
            "object_fit": null,
            "object_position": null,
            "order": null,
            "overflow": null,
            "overflow_x": null,
            "overflow_y": null,
            "padding": null,
            "right": null,
            "top": null,
            "visibility": null,
            "width": null
          }
        },
        "58d8a23d215e4c90af7cc611354be857": {
          "model_module": "@jupyter-widgets/controls",
          "model_module_version": "1.5.0",
          "model_name": "HTMLModel",
          "state": {
            "_dom_classes": [],
            "_model_module": "@jupyter-widgets/controls",
            "_model_module_version": "1.5.0",
            "_model_name": "HTMLModel",
            "_view_count": null,
            "_view_module": "@jupyter-widgets/controls",
            "_view_module_version": "1.5.0",
            "_view_name": "HTMLView",
            "description": "",
            "description_tooltip": null,
            "layout": "IPY_MODEL_39d2595f1d85401ea4e930369e52da11",
            "placeholder": "​",
            "style": "IPY_MODEL_8980f3e6e202478eb2d2c3874788e466",
            "value": ""
          }
        },
        "5bc51e6bf9d0484baf014fb352155e15": {
          "model_module": "@jupyter-widgets/base",
          "model_module_version": "1.2.0",
          "model_name": "LayoutModel",
          "state": {
            "_model_module": "@jupyter-widgets/base",
            "_model_module_version": "1.2.0",
            "_model_name": "LayoutModel",
            "_view_count": null,
            "_view_module": "@jupyter-widgets/base",
            "_view_module_version": "1.2.0",
            "_view_name": "LayoutView",
            "align_content": null,
            "align_items": null,
            "align_self": null,
            "border": null,
            "bottom": null,
            "display": null,
            "flex": null,
            "flex_flow": null,
            "grid_area": null,
            "grid_auto_columns": null,
            "grid_auto_flow": null,
            "grid_auto_rows": null,
            "grid_column": null,
            "grid_gap": null,
            "grid_row": null,
            "grid_template_areas": null,
            "grid_template_columns": null,
            "grid_template_rows": null,
            "height": null,
            "justify_content": null,
            "justify_items": null,
            "left": null,
            "margin": null,
            "max_height": null,
            "max_width": null,
            "min_height": null,
            "min_width": null,
            "object_fit": null,
            "object_position": null,
            "order": null,
            "overflow": null,
            "overflow_x": null,
            "overflow_y": null,
            "padding": null,
            "right": null,
            "top": null,
            "visibility": null,
            "width": null
          }
        },
        "5beb1ffb9863473a8df053439bfb9fb2": {
          "model_module": "@jupyter-widgets/base",
          "model_module_version": "1.2.0",
          "model_name": "LayoutModel",
          "state": {
            "_model_module": "@jupyter-widgets/base",
            "_model_module_version": "1.2.0",
            "_model_name": "LayoutModel",
            "_view_count": null,
            "_view_module": "@jupyter-widgets/base",
            "_view_module_version": "1.2.0",
            "_view_name": "LayoutView",
            "align_content": null,
            "align_items": null,
            "align_self": null,
            "border": null,
            "bottom": null,
            "display": null,
            "flex": null,
            "flex_flow": null,
            "grid_area": null,
            "grid_auto_columns": null,
            "grid_auto_flow": null,
            "grid_auto_rows": null,
            "grid_column": null,
            "grid_gap": null,
            "grid_row": null,
            "grid_template_areas": null,
            "grid_template_columns": null,
            "grid_template_rows": null,
            "height": null,
            "justify_content": null,
            "justify_items": null,
            "left": null,
            "margin": null,
            "max_height": null,
            "max_width": null,
            "min_height": null,
            "min_width": null,
            "object_fit": null,
            "object_position": null,
            "order": null,
            "overflow": null,
            "overflow_x": null,
            "overflow_y": null,
            "padding": null,
            "right": null,
            "top": null,
            "visibility": null,
            "width": null
          }
        },
        "5c09a1875b4f4cc2b3cf64a52b4fd8b8": {
          "model_module": "@jupyter-widgets/controls",
          "model_module_version": "1.5.0",
          "model_name": "HTMLModel",
          "state": {
            "_dom_classes": [],
            "_model_module": "@jupyter-widgets/controls",
            "_model_module_version": "1.5.0",
            "_model_name": "HTMLModel",
            "_view_count": null,
            "_view_module": "@jupyter-widgets/controls",
            "_view_module_version": "1.5.0",
            "_view_name": "HTMLView",
            "description": "",
            "description_tooltip": null,
            "layout": "IPY_MODEL_2e4870ab55404beaafde980d48618ed7",
            "placeholder": "​",
            "style": "IPY_MODEL_b85b4466791b4764ab4ef51f90281e9f",
            "value": " 1.80k/? [00:00&lt;00:00, 90.8kB/s]"
          }
        },
        "5e19198ee86d4494bc5eb9637259f492": {
          "model_module": "@jupyter-widgets/controls",
          "model_module_version": "1.5.0",
          "model_name": "HTMLModel",
          "state": {
            "_dom_classes": [],
            "_model_module": "@jupyter-widgets/controls",
            "_model_module_version": "1.5.0",
            "_model_name": "HTMLModel",
            "_view_count": null,
            "_view_module": "@jupyter-widgets/controls",
            "_view_module_version": "1.5.0",
            "_view_name": "HTMLView",
            "description": "",
            "description_tooltip": null,
            "layout": "IPY_MODEL_15666b87c18443b2b5dcc92821b310e7",
            "placeholder": "​",
            "style": "IPY_MODEL_cac71a316ae94f788d31ff4aa68ce067",
            "value": " 1680/? [00:00&lt;00:00, 7285.75ex/s]"
          }
        },
        "5e721c366d99434d80b3822c6e82b290": {
          "model_module": "@jupyter-widgets/controls",
          "model_module_version": "1.5.0",
          "model_name": "HBoxModel",
          "state": {
            "_dom_classes": [],
            "_model_module": "@jupyter-widgets/controls",
            "_model_module_version": "1.5.0",
            "_model_name": "HBoxModel",
            "_view_count": null,
            "_view_module": "@jupyter-widgets/controls",
            "_view_module_version": "1.5.0",
            "_view_name": "HBoxView",
            "box_style": "",
            "children": [
              "IPY_MODEL_bd9b680e32fc41708cc2024a2f40c89d",
              "IPY_MODEL_0b8b1be79ae24a31b1474824c5e52de5",
              "IPY_MODEL_b9f5fab4eb65486abec1e0d85c8682d8"
            ],
            "layout": "IPY_MODEL_56edbb7e71544c97a52f26e245e6a406"
          }
        },
        "6371ee68de1c457696f0f5f467a4ab20": {
          "model_module": "@jupyter-widgets/controls",
          "model_module_version": "1.5.0",
          "model_name": "HBoxModel",
          "state": {
            "_dom_classes": [],
            "_model_module": "@jupyter-widgets/controls",
            "_model_module_version": "1.5.0",
            "_model_name": "HBoxModel",
            "_view_count": null,
            "_view_module": "@jupyter-widgets/controls",
            "_view_module_version": "1.5.0",
            "_view_name": "HBoxView",
            "box_style": "",
            "children": [
              "IPY_MODEL_8d544fd2a20e410887d14bed2c1abf66",
              "IPY_MODEL_b04e77f560024855b050ec5d48d8a26c",
              "IPY_MODEL_786d3890c8a74b6b933389a08be4529f"
            ],
            "layout": "IPY_MODEL_1504d726f2f448b4a9b36d5034f3d138"
          }
        },
        "667cac3e3c364fed95c9d4cd30ec2466": {
          "model_module": "@jupyter-widgets/base",
          "model_module_version": "1.2.0",
          "model_name": "LayoutModel",
          "state": {
            "_model_module": "@jupyter-widgets/base",
            "_model_module_version": "1.2.0",
            "_model_name": "LayoutModel",
            "_view_count": null,
            "_view_module": "@jupyter-widgets/base",
            "_view_module_version": "1.2.0",
            "_view_name": "LayoutView",
            "align_content": null,
            "align_items": null,
            "align_self": null,
            "border": null,
            "bottom": null,
            "display": null,
            "flex": null,
            "flex_flow": null,
            "grid_area": null,
            "grid_auto_columns": null,
            "grid_auto_flow": null,
            "grid_auto_rows": null,
            "grid_column": null,
            "grid_gap": null,
            "grid_row": null,
            "grid_template_areas": null,
            "grid_template_columns": null,
            "grid_template_rows": null,
            "height": null,
            "justify_content": null,
            "justify_items": null,
            "left": null,
            "margin": null,
            "max_height": null,
            "max_width": null,
            "min_height": null,
            "min_width": null,
            "object_fit": null,
            "object_position": null,
            "order": null,
            "overflow": null,
            "overflow_x": null,
            "overflow_y": null,
            "padding": null,
            "right": null,
            "top": null,
            "visibility": null,
            "width": null
          }
        },
        "66d5b61e23dc4651903c0d32d7694a33": {
          "model_module": "@jupyter-widgets/base",
          "model_module_version": "1.2.0",
          "model_name": "LayoutModel",
          "state": {
            "_model_module": "@jupyter-widgets/base",
            "_model_module_version": "1.2.0",
            "_model_name": "LayoutModel",
            "_view_count": null,
            "_view_module": "@jupyter-widgets/base",
            "_view_module_version": "1.2.0",
            "_view_name": "LayoutView",
            "align_content": null,
            "align_items": null,
            "align_self": null,
            "border": null,
            "bottom": null,
            "display": null,
            "flex": null,
            "flex_flow": null,
            "grid_area": null,
            "grid_auto_columns": null,
            "grid_auto_flow": null,
            "grid_auto_rows": null,
            "grid_column": null,
            "grid_gap": null,
            "grid_row": null,
            "grid_template_areas": null,
            "grid_template_columns": null,
            "grid_template_rows": null,
            "height": null,
            "justify_content": null,
            "justify_items": null,
            "left": null,
            "margin": null,
            "max_height": null,
            "max_width": null,
            "min_height": null,
            "min_width": null,
            "object_fit": null,
            "object_position": null,
            "order": null,
            "overflow": null,
            "overflow_x": null,
            "overflow_y": null,
            "padding": null,
            "right": null,
            "top": null,
            "visibility": null,
            "width": null
          }
        },
        "6875e568704e45648e7230c0fe52ffb8": {
          "model_module": "@jupyter-widgets/controls",
          "model_module_version": "1.5.0",
          "model_name": "HTMLModel",
          "state": {
            "_dom_classes": [],
            "_model_module": "@jupyter-widgets/controls",
            "_model_module_version": "1.5.0",
            "_model_name": "HTMLModel",
            "_view_count": null,
            "_view_module": "@jupyter-widgets/controls",
            "_view_module_version": "1.5.0",
            "_view_name": "HTMLView",
            "description": "",
            "description_tooltip": null,
            "layout": "IPY_MODEL_5bc51e6bf9d0484baf014fb352155e15",
            "placeholder": "​",
            "style": "IPY_MODEL_73f206f8a18e42cca2630b1c3fbbdd17",
            "value": " 4523/0 [00:03&lt;00:00, 1491.99 examples/s]"
          }
        },
        "6a04eddf72594989b95c6a1be64d7f61": {
          "model_module": "@jupyter-widgets/base",
          "model_module_version": "1.2.0",
          "model_name": "LayoutModel",
          "state": {
            "_model_module": "@jupyter-widgets/base",
            "_model_module_version": "1.2.0",
            "_model_name": "LayoutModel",
            "_view_count": null,
            "_view_module": "@jupyter-widgets/base",
            "_view_module_version": "1.2.0",
            "_view_name": "LayoutView",
            "align_content": null,
            "align_items": null,
            "align_self": null,
            "border": null,
            "bottom": null,
            "display": null,
            "flex": null,
            "flex_flow": null,
            "grid_area": null,
            "grid_auto_columns": null,
            "grid_auto_flow": null,
            "grid_auto_rows": null,
            "grid_column": null,
            "grid_gap": null,
            "grid_row": null,
            "grid_template_areas": null,
            "grid_template_columns": null,
            "grid_template_rows": null,
            "height": null,
            "justify_content": null,
            "justify_items": null,
            "left": null,
            "margin": null,
            "max_height": null,
            "max_width": null,
            "min_height": null,
            "min_width": null,
            "object_fit": null,
            "object_position": null,
            "order": null,
            "overflow": null,
            "overflow_x": null,
            "overflow_y": null,
            "padding": null,
            "right": null,
            "top": null,
            "visibility": null,
            "width": null
          }
        },
        "6d601fe66e86428bb08ec9952e99d52a": {
          "model_module": "@jupyter-widgets/base",
          "model_module_version": "1.2.0",
          "model_name": "LayoutModel",
          "state": {
            "_model_module": "@jupyter-widgets/base",
            "_model_module_version": "1.2.0",
            "_model_name": "LayoutModel",
            "_view_count": null,
            "_view_module": "@jupyter-widgets/base",
            "_view_module_version": "1.2.0",
            "_view_name": "LayoutView",
            "align_content": null,
            "align_items": null,
            "align_self": null,
            "border": null,
            "bottom": null,
            "display": null,
            "flex": null,
            "flex_flow": null,
            "grid_area": null,
            "grid_auto_columns": null,
            "grid_auto_flow": null,
            "grid_auto_rows": null,
            "grid_column": null,
            "grid_gap": null,
            "grid_row": null,
            "grid_template_areas": null,
            "grid_template_columns": null,
            "grid_template_rows": null,
            "height": null,
            "justify_content": null,
            "justify_items": null,
            "left": null,
            "margin": null,
            "max_height": null,
            "max_width": null,
            "min_height": null,
            "min_width": null,
            "object_fit": null,
            "object_position": null,
            "order": null,
            "overflow": null,
            "overflow_x": null,
            "overflow_y": null,
            "padding": null,
            "right": null,
            "top": null,
            "visibility": null,
            "width": null
          }
        },
        "6e9a872c89d54da582effed9b9f07bb2": {
          "model_module": "@jupyter-widgets/base",
          "model_module_version": "1.2.0",
          "model_name": "LayoutModel",
          "state": {
            "_model_module": "@jupyter-widgets/base",
            "_model_module_version": "1.2.0",
            "_model_name": "LayoutModel",
            "_view_count": null,
            "_view_module": "@jupyter-widgets/base",
            "_view_module_version": "1.2.0",
            "_view_name": "LayoutView",
            "align_content": null,
            "align_items": null,
            "align_self": null,
            "border": null,
            "bottom": null,
            "display": null,
            "flex": null,
            "flex_flow": null,
            "grid_area": null,
            "grid_auto_columns": null,
            "grid_auto_flow": null,
            "grid_auto_rows": null,
            "grid_column": null,
            "grid_gap": null,
            "grid_row": null,
            "grid_template_areas": null,
            "grid_template_columns": null,
            "grid_template_rows": null,
            "height": null,
            "justify_content": null,
            "justify_items": null,
            "left": null,
            "margin": null,
            "max_height": null,
            "max_width": null,
            "min_height": null,
            "min_width": null,
            "object_fit": null,
            "object_position": null,
            "order": null,
            "overflow": null,
            "overflow_x": null,
            "overflow_y": null,
            "padding": null,
            "right": null,
            "top": null,
            "visibility": null,
            "width": "20px"
          }
        },
        "6f7688e6cf04412ab2dac06baeb4e666": {
          "model_module": "@jupyter-widgets/base",
          "model_module_version": "1.2.0",
          "model_name": "LayoutModel",
          "state": {
            "_model_module": "@jupyter-widgets/base",
            "_model_module_version": "1.2.0",
            "_model_name": "LayoutModel",
            "_view_count": null,
            "_view_module": "@jupyter-widgets/base",
            "_view_module_version": "1.2.0",
            "_view_name": "LayoutView",
            "align_content": null,
            "align_items": null,
            "align_self": null,
            "border": null,
            "bottom": null,
            "display": null,
            "flex": null,
            "flex_flow": null,
            "grid_area": null,
            "grid_auto_columns": null,
            "grid_auto_flow": null,
            "grid_auto_rows": null,
            "grid_column": null,
            "grid_gap": null,
            "grid_row": null,
            "grid_template_areas": null,
            "grid_template_columns": null,
            "grid_template_rows": null,
            "height": null,
            "justify_content": null,
            "justify_items": null,
            "left": null,
            "margin": null,
            "max_height": null,
            "max_width": null,
            "min_height": null,
            "min_width": null,
            "object_fit": null,
            "object_position": null,
            "order": null,
            "overflow": null,
            "overflow_x": null,
            "overflow_y": null,
            "padding": null,
            "right": null,
            "top": null,
            "visibility": null,
            "width": null
          }
        },
        "7006ee29b4ef406381b7fbd117b4b333": {
          "model_module": "@jupyter-widgets/controls",
          "model_module_version": "1.5.0",
          "model_name": "HBoxModel",
          "state": {
            "_dom_classes": [],
            "_model_module": "@jupyter-widgets/controls",
            "_model_module_version": "1.5.0",
            "_model_name": "HBoxModel",
            "_view_count": null,
            "_view_module": "@jupyter-widgets/controls",
            "_view_module_version": "1.5.0",
            "_view_name": "HBoxView",
            "box_style": "",
            "children": [
              "IPY_MODEL_c4960a24842040638dc4f7a81b737d6f",
              "IPY_MODEL_2cb200945757448abb65d4af8fe4b95f",
              "IPY_MODEL_d11bbf7a3d924028958d5bcc0a72e122"
            ],
            "layout": "IPY_MODEL_374e9b6e9fcc45eabe84ae0c9f286546"
          }
        },
        "700ef7e95cf94d7e9dbeb58d605eca5d": {
          "model_module": "@jupyter-widgets/controls",
          "model_module_version": "1.5.0",
          "model_name": "DescriptionStyleModel",
          "state": {
            "_model_module": "@jupyter-widgets/controls",
            "_model_module_version": "1.5.0",
            "_model_name": "DescriptionStyleModel",
            "_view_count": null,
            "_view_module": "@jupyter-widgets/base",
            "_view_module_version": "1.2.0",
            "_view_name": "StyleView",
            "description_width": ""
          }
        },
        "70723978a71b47969d9952bcef9c2a0d": {
          "model_module": "@jupyter-widgets/controls",
          "model_module_version": "1.5.0",
          "model_name": "DescriptionStyleModel",
          "state": {
            "_model_module": "@jupyter-widgets/controls",
            "_model_module_version": "1.5.0",
            "_model_name": "DescriptionStyleModel",
            "_view_count": null,
            "_view_module": "@jupyter-widgets/base",
            "_view_module_version": "1.2.0",
            "_view_name": "StyleView",
            "description_width": ""
          }
        },
        "72ba30f58e904ad786e9f82deabebc75": {
          "model_module": "@jupyter-widgets/base",
          "model_module_version": "1.2.0",
          "model_name": "LayoutModel",
          "state": {
            "_model_module": "@jupyter-widgets/base",
            "_model_module_version": "1.2.0",
            "_model_name": "LayoutModel",
            "_view_count": null,
            "_view_module": "@jupyter-widgets/base",
            "_view_module_version": "1.2.0",
            "_view_name": "LayoutView",
            "align_content": null,
            "align_items": null,
            "align_self": null,
            "border": null,
            "bottom": null,
            "display": null,
            "flex": null,
            "flex_flow": null,
            "grid_area": null,
            "grid_auto_columns": null,
            "grid_auto_flow": null,
            "grid_auto_rows": null,
            "grid_column": null,
            "grid_gap": null,
            "grid_row": null,
            "grid_template_areas": null,
            "grid_template_columns": null,
            "grid_template_rows": null,
            "height": null,
            "justify_content": null,
            "justify_items": null,
            "left": null,
            "margin": null,
            "max_height": null,
            "max_width": null,
            "min_height": null,
            "min_width": null,
            "object_fit": null,
            "object_position": null,
            "order": null,
            "overflow": null,
            "overflow_x": null,
            "overflow_y": null,
            "padding": null,
            "right": null,
            "top": null,
            "visibility": null,
            "width": null
          }
        },
        "72c60eb7db764e16a9d47ad4fc87dd10": {
          "model_module": "@jupyter-widgets/controls",
          "model_module_version": "1.5.0",
          "model_name": "VBoxModel",
          "state": {
            "_dom_classes": [],
            "_model_module": "@jupyter-widgets/controls",
            "_model_module_version": "1.5.0",
            "_model_name": "VBoxModel",
            "_view_count": null,
            "_view_module": "@jupyter-widgets/controls",
            "_view_module_version": "1.5.0",
            "_view_name": "VBoxView",
            "box_style": "",
            "children": [
              "IPY_MODEL_81e2c1fadd6546b18a39555d44a9ab3c",
              "IPY_MODEL_51a7cab310ae4385b30bcf6d828c5bd7",
              "IPY_MODEL_97b1d29fb759427b9a3ced885b12c49b",
              "IPY_MODEL_c7053e32145d4599bda83ae1372cf54a",
              "IPY_MODEL_ed33c55d50234c32b15798b747153ad2"
            ],
            "layout": "IPY_MODEL_ed4a76509a9e43a285bed77e8415e170"
          }
        },
        "7317708554854b4fb5c2ee08e0f4f894": {
          "model_module": "@jupyter-widgets/controls",
          "model_module_version": "1.5.0",
          "model_name": "DescriptionStyleModel",
          "state": {
            "_model_module": "@jupyter-widgets/controls",
            "_model_module_version": "1.5.0",
            "_model_name": "DescriptionStyleModel",
            "_view_count": null,
            "_view_module": "@jupyter-widgets/base",
            "_view_module_version": "1.2.0",
            "_view_name": "StyleView",
            "description_width": ""
          }
        },
        "73f206f8a18e42cca2630b1c3fbbdd17": {
          "model_module": "@jupyter-widgets/controls",
          "model_module_version": "1.5.0",
          "model_name": "DescriptionStyleModel",
          "state": {
            "_model_module": "@jupyter-widgets/controls",
            "_model_module_version": "1.5.0",
            "_model_name": "DescriptionStyleModel",
            "_view_count": null,
            "_view_module": "@jupyter-widgets/base",
            "_view_module_version": "1.2.0",
            "_view_name": "StyleView",
            "description_width": ""
          }
        },
        "7664d4cd39254acfb97b63a3331c8b25": {
          "model_module": "@jupyter-widgets/base",
          "model_module_version": "1.2.0",
          "model_name": "LayoutModel",
          "state": {
            "_model_module": "@jupyter-widgets/base",
            "_model_module_version": "1.2.0",
            "_model_name": "LayoutModel",
            "_view_count": null,
            "_view_module": "@jupyter-widgets/base",
            "_view_module_version": "1.2.0",
            "_view_name": "LayoutView",
            "align_content": null,
            "align_items": null,
            "align_self": null,
            "border": null,
            "bottom": null,
            "display": null,
            "flex": null,
            "flex_flow": null,
            "grid_area": null,
            "grid_auto_columns": null,
            "grid_auto_flow": null,
            "grid_auto_rows": null,
            "grid_column": null,
            "grid_gap": null,
            "grid_row": null,
            "grid_template_areas": null,
            "grid_template_columns": null,
            "grid_template_rows": null,
            "height": null,
            "justify_content": null,
            "justify_items": null,
            "left": null,
            "margin": null,
            "max_height": null,
            "max_width": null,
            "min_height": null,
            "min_width": null,
            "object_fit": null,
            "object_position": null,
            "order": null,
            "overflow": null,
            "overflow_x": null,
            "overflow_y": null,
            "padding": null,
            "right": null,
            "top": null,
            "visibility": null,
            "width": null
          }
        },
        "786d3890c8a74b6b933389a08be4529f": {
          "model_module": "@jupyter-widgets/controls",
          "model_module_version": "1.5.0",
          "model_name": "HTMLModel",
          "state": {
            "_dom_classes": [],
            "_model_module": "@jupyter-widgets/controls",
            "_model_module_version": "1.5.0",
            "_model_name": "HTMLModel",
            "_view_count": null,
            "_view_module": "@jupyter-widgets/controls",
            "_view_module_version": "1.5.0",
            "_view_name": "HTMLView",
            "description": "",
            "description_tooltip": null,
            "layout": "IPY_MODEL_cda1ca853c9c413798584217aa65efb9",
            "placeholder": "​",
            "style": "IPY_MODEL_4796a0a689924d089c229046ba162058",
            "value": " 2/2 [00:00&lt;00:00, 63.85it/s]"
          }
        },
        "7943fc950c1c4b9ab096fa2e50d0da2d": {
          "model_module": "@jupyter-widgets/base",
          "model_module_version": "1.2.0",
          "model_name": "LayoutModel",
          "state": {
            "_model_module": "@jupyter-widgets/base",
            "_model_module_version": "1.2.0",
            "_model_name": "LayoutModel",
            "_view_count": null,
            "_view_module": "@jupyter-widgets/base",
            "_view_module_version": "1.2.0",
            "_view_name": "LayoutView",
            "align_content": null,
            "align_items": null,
            "align_self": null,
            "border": null,
            "bottom": null,
            "display": null,
            "flex": null,
            "flex_flow": null,
            "grid_area": null,
            "grid_auto_columns": null,
            "grid_auto_flow": null,
            "grid_auto_rows": null,
            "grid_column": null,
            "grid_gap": null,
            "grid_row": null,
            "grid_template_areas": null,
            "grid_template_columns": null,
            "grid_template_rows": null,
            "height": null,
            "justify_content": null,
            "justify_items": null,
            "left": null,
            "margin": null,
            "max_height": null,
            "max_width": null,
            "min_height": null,
            "min_width": null,
            "object_fit": null,
            "object_position": null,
            "order": null,
            "overflow": null,
            "overflow_x": null,
            "overflow_y": null,
            "padding": null,
            "right": null,
            "top": null,
            "visibility": null,
            "width": null
          }
        },
        "7a913dfa92e7410f8304bd12b186671e": {
          "model_module": "@jupyter-widgets/controls",
          "model_module_version": "1.5.0",
          "model_name": "ProgressStyleModel",
          "state": {
            "_model_module": "@jupyter-widgets/controls",
            "_model_module_version": "1.5.0",
            "_model_name": "ProgressStyleModel",
            "_view_count": null,
            "_view_module": "@jupyter-widgets/base",
            "_view_module_version": "1.2.0",
            "_view_name": "StyleView",
            "bar_color": null,
            "description_width": ""
          }
        },
        "7b2e3d37cdef4f5282f01745c3b1a0f4": {
          "model_module": "@jupyter-widgets/base",
          "model_module_version": "1.2.0",
          "model_name": "LayoutModel",
          "state": {
            "_model_module": "@jupyter-widgets/base",
            "_model_module_version": "1.2.0",
            "_model_name": "LayoutModel",
            "_view_count": null,
            "_view_module": "@jupyter-widgets/base",
            "_view_module_version": "1.2.0",
            "_view_name": "LayoutView",
            "align_content": null,
            "align_items": null,
            "align_self": null,
            "border": null,
            "bottom": null,
            "display": null,
            "flex": null,
            "flex_flow": null,
            "grid_area": null,
            "grid_auto_columns": null,
            "grid_auto_flow": null,
            "grid_auto_rows": null,
            "grid_column": null,
            "grid_gap": null,
            "grid_row": null,
            "grid_template_areas": null,
            "grid_template_columns": null,
            "grid_template_rows": null,
            "height": null,
            "justify_content": null,
            "justify_items": null,
            "left": null,
            "margin": null,
            "max_height": null,
            "max_width": null,
            "min_height": null,
            "min_width": null,
            "object_fit": null,
            "object_position": null,
            "order": null,
            "overflow": null,
            "overflow_x": null,
            "overflow_y": null,
            "padding": null,
            "right": null,
            "top": null,
            "visibility": null,
            "width": null
          }
        },
        "7b694dd16e54443f8da6af91b1ecd821": {
          "model_module": "@jupyter-widgets/controls",
          "model_module_version": "1.5.0",
          "model_name": "DescriptionStyleModel",
          "state": {
            "_model_module": "@jupyter-widgets/controls",
            "_model_module_version": "1.5.0",
            "_model_name": "DescriptionStyleModel",
            "_view_count": null,
            "_view_module": "@jupyter-widgets/base",
            "_view_module_version": "1.2.0",
            "_view_name": "StyleView",
            "description_width": ""
          }
        },
        "7ba0b13ba0604b26afe63e5dc86e2f1e": {
          "model_module": "@jupyter-widgets/controls",
          "model_module_version": "1.5.0",
          "model_name": "HTMLModel",
          "state": {
            "_dom_classes": [],
            "_model_module": "@jupyter-widgets/controls",
            "_model_module_version": "1.5.0",
            "_model_name": "HTMLModel",
            "_view_count": null,
            "_view_module": "@jupyter-widgets/controls",
            "_view_module_version": "1.5.0",
            "_view_name": "HTMLView",
            "description": "",
            "description_tooltip": null,
            "layout": "IPY_MODEL_c1e0fc4107fb49fe84bb21fd721a8ecb",
            "placeholder": "​",
            "style": "IPY_MODEL_2a011e9f253e4cef8f52f45c110c0295",
            "value": "Downloading: "
          }
        },
        "81e2c1fadd6546b18a39555d44a9ab3c": {
          "model_module": "@jupyter-widgets/controls",
          "model_module_version": "1.5.0",
          "model_name": "HTMLModel",
          "state": {
            "_dom_classes": [],
            "_model_module": "@jupyter-widgets/controls",
            "_model_module_version": "1.5.0",
            "_model_name": "HTMLModel",
            "_view_count": null,
            "_view_module": "@jupyter-widgets/controls",
            "_view_module_version": "1.5.0",
            "_view_name": "HTMLView",
            "description": "",
            "description_tooltip": null,
            "layout": "IPY_MODEL_b5618e9ca055470595027435969b9765",
            "placeholder": "​",
            "style": "IPY_MODEL_14a6810e336a473cbcef56c1b6ed59cf",
            "value": "<center> <img\nsrc=https://huggingface.co/front/assets/huggingface_logo-noborder.svg\nalt='Hugging Face'> <br> Copy a token from <a\nhref=\"https://huggingface.co/settings/tokens\" target=\"_blank\">your Hugging Face\ntokens page</a> and paste it below. <br> Immediately click login after copying\nyour token or it might be stored in plain text in this notebook file. </center>"
          }
        },
        "835cdd92279b4385af6a554c416ee245": {
          "model_module": "@jupyter-widgets/base",
          "model_module_version": "1.2.0",
          "model_name": "LayoutModel",
          "state": {
            "_model_module": "@jupyter-widgets/base",
            "_model_module_version": "1.2.0",
            "_model_name": "LayoutModel",
            "_view_count": null,
            "_view_module": "@jupyter-widgets/base",
            "_view_module_version": "1.2.0",
            "_view_name": "LayoutView",
            "align_content": null,
            "align_items": null,
            "align_self": null,
            "border": null,
            "bottom": null,
            "display": null,
            "flex": null,
            "flex_flow": null,
            "grid_area": null,
            "grid_auto_columns": null,
            "grid_auto_flow": null,
            "grid_auto_rows": null,
            "grid_column": null,
            "grid_gap": null,
            "grid_row": null,
            "grid_template_areas": null,
            "grid_template_columns": null,
            "grid_template_rows": null,
            "height": null,
            "justify_content": null,
            "justify_items": null,
            "left": null,
            "margin": null,
            "max_height": null,
            "max_width": null,
            "min_height": null,
            "min_width": null,
            "object_fit": null,
            "object_position": null,
            "order": null,
            "overflow": null,
            "overflow_x": null,
            "overflow_y": null,
            "padding": null,
            "right": null,
            "top": null,
            "visibility": null,
            "width": null
          }
        },
        "8508560781db49e9971a4e844b77f708": {
          "model_module": "@jupyter-widgets/controls",
          "model_module_version": "1.5.0",
          "model_name": "HBoxModel",
          "state": {
            "_dom_classes": [],
            "_model_module": "@jupyter-widgets/controls",
            "_model_module_version": "1.5.0",
            "_model_name": "HBoxModel",
            "_view_count": null,
            "_view_module": "@jupyter-widgets/controls",
            "_view_module_version": "1.5.0",
            "_view_name": "HBoxView",
            "box_style": "",
            "children": [
              "IPY_MODEL_4ed0f26ff105404bb993127df03bffca",
              "IPY_MODEL_dbd4a1e0b6264c34b87a15b73a522d92",
              "IPY_MODEL_4322229ce14c40288a33afefb4917bdd"
            ],
            "layout": "IPY_MODEL_6a04eddf72594989b95c6a1be64d7f61"
          }
        },
        "8539d6c12248447fa989335fb92a348f": {
          "model_module": "@jupyter-widgets/base",
          "model_module_version": "1.2.0",
          "model_name": "LayoutModel",
          "state": {
            "_model_module": "@jupyter-widgets/base",
            "_model_module_version": "1.2.0",
            "_model_name": "LayoutModel",
            "_view_count": null,
            "_view_module": "@jupyter-widgets/base",
            "_view_module_version": "1.2.0",
            "_view_name": "LayoutView",
            "align_content": null,
            "align_items": null,
            "align_self": null,
            "border": null,
            "bottom": null,
            "display": null,
            "flex": null,
            "flex_flow": null,
            "grid_area": null,
            "grid_auto_columns": null,
            "grid_auto_flow": null,
            "grid_auto_rows": null,
            "grid_column": null,
            "grid_gap": null,
            "grid_row": null,
            "grid_template_areas": null,
            "grid_template_columns": null,
            "grid_template_rows": null,
            "height": null,
            "justify_content": null,
            "justify_items": null,
            "left": null,
            "margin": null,
            "max_height": null,
            "max_width": null,
            "min_height": null,
            "min_width": null,
            "object_fit": null,
            "object_position": null,
            "order": null,
            "overflow": null,
            "overflow_x": null,
            "overflow_y": null,
            "padding": null,
            "right": null,
            "top": null,
            "visibility": null,
            "width": null
          }
        },
        "886c955c22c34282b94a3ee10ebde407": {
          "model_module": "@jupyter-widgets/controls",
          "model_module_version": "1.5.0",
          "model_name": "DescriptionStyleModel",
          "state": {
            "_model_module": "@jupyter-widgets/controls",
            "_model_module_version": "1.5.0",
            "_model_name": "DescriptionStyleModel",
            "_view_count": null,
            "_view_module": "@jupyter-widgets/base",
            "_view_module_version": "1.2.0",
            "_view_name": "StyleView",
            "description_width": ""
          }
        },
        "8980f3e6e202478eb2d2c3874788e466": {
          "model_module": "@jupyter-widgets/controls",
          "model_module_version": "1.5.0",
          "model_name": "DescriptionStyleModel",
          "state": {
            "_model_module": "@jupyter-widgets/controls",
            "_model_module_version": "1.5.0",
            "_model_name": "DescriptionStyleModel",
            "_view_count": null,
            "_view_module": "@jupyter-widgets/base",
            "_view_module_version": "1.2.0",
            "_view_name": "StyleView",
            "description_width": ""
          }
        },
        "8991f9f2abeb49e2bd10caf24403f472": {
          "model_module": "@jupyter-widgets/base",
          "model_module_version": "1.2.0",
          "model_name": "LayoutModel",
          "state": {
            "_model_module": "@jupyter-widgets/base",
            "_model_module_version": "1.2.0",
            "_model_name": "LayoutModel",
            "_view_count": null,
            "_view_module": "@jupyter-widgets/base",
            "_view_module_version": "1.2.0",
            "_view_name": "LayoutView",
            "align_content": null,
            "align_items": null,
            "align_self": null,
            "border": null,
            "bottom": null,
            "display": null,
            "flex": null,
            "flex_flow": null,
            "grid_area": null,
            "grid_auto_columns": null,
            "grid_auto_flow": null,
            "grid_auto_rows": null,
            "grid_column": null,
            "grid_gap": null,
            "grid_row": null,
            "grid_template_areas": null,
            "grid_template_columns": null,
            "grid_template_rows": null,
            "height": null,
            "justify_content": null,
            "justify_items": null,
            "left": null,
            "margin": null,
            "max_height": null,
            "max_width": null,
            "min_height": null,
            "min_width": null,
            "object_fit": null,
            "object_position": null,
            "order": null,
            "overflow": null,
            "overflow_x": null,
            "overflow_y": null,
            "padding": null,
            "right": null,
            "top": null,
            "visibility": null,
            "width": null
          }
        },
        "89e51090498545259c216a5a1b59072f": {
          "model_module": "@jupyter-widgets/base",
          "model_module_version": "1.2.0",
          "model_name": "LayoutModel",
          "state": {
            "_model_module": "@jupyter-widgets/base",
            "_model_module_version": "1.2.0",
            "_model_name": "LayoutModel",
            "_view_count": null,
            "_view_module": "@jupyter-widgets/base",
            "_view_module_version": "1.2.0",
            "_view_name": "LayoutView",
            "align_content": null,
            "align_items": null,
            "align_self": null,
            "border": null,
            "bottom": null,
            "display": null,
            "flex": null,
            "flex_flow": null,
            "grid_area": null,
            "grid_auto_columns": null,
            "grid_auto_flow": null,
            "grid_auto_rows": null,
            "grid_column": null,
            "grid_gap": null,
            "grid_row": null,
            "grid_template_areas": null,
            "grid_template_columns": null,
            "grid_template_rows": null,
            "height": null,
            "justify_content": null,
            "justify_items": null,
            "left": null,
            "margin": null,
            "max_height": null,
            "max_width": null,
            "min_height": null,
            "min_width": null,
            "object_fit": null,
            "object_position": null,
            "order": null,
            "overflow": null,
            "overflow_x": null,
            "overflow_y": null,
            "padding": null,
            "right": null,
            "top": null,
            "visibility": null,
            "width": null
          }
        },
        "8a07f08956924a38b2a57f70b0fbeead": {
          "model_module": "@jupyter-widgets/controls",
          "model_module_version": "1.5.0",
          "model_name": "HTMLModel",
          "state": {
            "_dom_classes": [],
            "_model_module": "@jupyter-widgets/controls",
            "_model_module_version": "1.5.0",
            "_model_name": "HTMLModel",
            "_view_count": null,
            "_view_module": "@jupyter-widgets/controls",
            "_view_module_version": "1.5.0",
            "_view_name": "HTMLView",
            "description": "",
            "description_tooltip": null,
            "layout": "IPY_MODEL_33d85e2daf4e45e48d1eb5dbf86cd4b6",
            "placeholder": "​",
            "style": "IPY_MODEL_05de8b07f5a54cdaabb7ad3de4a032b3",
            "value": " 363M/363M [00:22&lt;00:00, 13.8MB/s]"
          }
        },
        "8ba99977f5d64f69820c6cb91020848c": {
          "model_module": "@jupyter-widgets/controls",
          "model_module_version": "1.5.0",
          "model_name": "DescriptionStyleModel",
          "state": {
            "_model_module": "@jupyter-widgets/controls",
            "_model_module_version": "1.5.0",
            "_model_name": "DescriptionStyleModel",
            "_view_count": null,
            "_view_module": "@jupyter-widgets/base",
            "_view_module_version": "1.2.0",
            "_view_name": "StyleView",
            "description_width": ""
          }
        },
        "8d544fd2a20e410887d14bed2c1abf66": {
          "model_module": "@jupyter-widgets/controls",
          "model_module_version": "1.5.0",
          "model_name": "HTMLModel",
          "state": {
            "_dom_classes": [],
            "_model_module": "@jupyter-widgets/controls",
            "_model_module_version": "1.5.0",
            "_model_name": "HTMLModel",
            "_view_count": null,
            "_view_module": "@jupyter-widgets/controls",
            "_view_module_version": "1.5.0",
            "_view_name": "HTMLView",
            "description": "",
            "description_tooltip": null,
            "layout": "IPY_MODEL_a7184f5b92f0441fa10120fde326efb4",
            "placeholder": "​",
            "style": "IPY_MODEL_70723978a71b47969d9952bcef9c2a0d",
            "value": "100%"
          }
        },
        "8da462790a6d4fbb9251290bd9ee14f0": {
          "model_module": "@jupyter-widgets/base",
          "model_module_version": "1.2.0",
          "model_name": "LayoutModel",
          "state": {
            "_model_module": "@jupyter-widgets/base",
            "_model_module_version": "1.2.0",
            "_model_name": "LayoutModel",
            "_view_count": null,
            "_view_module": "@jupyter-widgets/base",
            "_view_module_version": "1.2.0",
            "_view_name": "LayoutView",
            "align_content": null,
            "align_items": null,
            "align_self": null,
            "border": null,
            "bottom": null,
            "display": null,
            "flex": null,
            "flex_flow": null,
            "grid_area": null,
            "grid_auto_columns": null,
            "grid_auto_flow": null,
            "grid_auto_rows": null,
            "grid_column": null,
            "grid_gap": null,
            "grid_row": null,
            "grid_template_areas": null,
            "grid_template_columns": null,
            "grid_template_rows": null,
            "height": null,
            "justify_content": null,
            "justify_items": null,
            "left": null,
            "margin": null,
            "max_height": null,
            "max_width": null,
            "min_height": null,
            "min_width": null,
            "object_fit": null,
            "object_position": null,
            "order": null,
            "overflow": null,
            "overflow_x": null,
            "overflow_y": null,
            "padding": null,
            "right": null,
            "top": null,
            "visibility": null,
            "width": null
          }
        },
        "90bb8035c7b745088e6f69368e770224": {
          "model_module": "@jupyter-widgets/controls",
          "model_module_version": "1.5.0",
          "model_name": "HTMLModel",
          "state": {
            "_dom_classes": [],
            "_model_module": "@jupyter-widgets/controls",
            "_model_module_version": "1.5.0",
            "_model_name": "HTMLModel",
            "_view_count": null,
            "_view_module": "@jupyter-widgets/controls",
            "_view_module_version": "1.5.0",
            "_view_name": "HTMLView",
            "description": "",
            "description_tooltip": null,
            "layout": "IPY_MODEL_d7934693aa974d6781b84f71bac59e71",
            "placeholder": "​",
            "style": "IPY_MODEL_cc4dd57866ff4080913e33d0b1cf49af",
            "value": ""
          }
        },
        "91190c7d6c7b460cb028183cf51bb1c1": {
          "model_module": "@jupyter-widgets/controls",
          "model_module_version": "1.5.0",
          "model_name": "ProgressStyleModel",
          "state": {
            "_model_module": "@jupyter-widgets/controls",
            "_model_module_version": "1.5.0",
            "_model_name": "ProgressStyleModel",
            "_view_count": null,
            "_view_module": "@jupyter-widgets/base",
            "_view_module_version": "1.2.0",
            "_view_name": "StyleView",
            "bar_color": null,
            "description_width": ""
          }
        },
        "9424cc47106a455ab18c0870d046ce9f": {
          "model_module": "@jupyter-widgets/controls",
          "model_module_version": "1.5.0",
          "model_name": "HTMLModel",
          "state": {
            "_dom_classes": [],
            "_model_module": "@jupyter-widgets/controls",
            "_model_module_version": "1.5.0",
            "_model_name": "HTMLModel",
            "_view_count": null,
            "_view_module": "@jupyter-widgets/controls",
            "_view_module_version": "1.5.0",
            "_view_name": "HTMLView",
            "description": "",
            "description_tooltip": null,
            "layout": "IPY_MODEL_090847f7912e496fbc1ef8673674c1ed",
            "placeholder": "​",
            "style": "IPY_MODEL_15e195a2c3044feababc62304301f14f",
            "value": "Downloading: 100%"
          }
        },
        "96fb47902431425f86a6a5ab760c92d3": {
          "model_module": "@jupyter-widgets/controls",
          "model_module_version": "1.5.0",
          "model_name": "HBoxModel",
          "state": {
            "_dom_classes": [],
            "_model_module": "@jupyter-widgets/controls",
            "_model_module_version": "1.5.0",
            "_model_name": "HBoxModel",
            "_view_count": null,
            "_view_module": "@jupyter-widgets/controls",
            "_view_module_version": "1.5.0",
            "_view_name": "HBoxView",
            "box_style": "",
            "children": [
              "IPY_MODEL_4d26ca1886f0449ea7bd6b4c8de7ab24",
              "IPY_MODEL_e610d02445bd4e5e9b4783658f058147",
              "IPY_MODEL_8a07f08956924a38b2a57f70b0fbeead"
            ],
            "layout": "IPY_MODEL_39a54ded218f48048321c604eece88d9"
          }
        },
        "97b1d29fb759427b9a3ced885b12c49b": {
          "model_module": "@jupyter-widgets/controls",
          "model_module_version": "1.5.0",
          "model_name": "CheckboxModel",
          "state": {
            "_dom_classes": [],
            "_model_module": "@jupyter-widgets/controls",
            "_model_module_version": "1.5.0",
            "_model_name": "CheckboxModel",
            "_view_count": null,
            "_view_module": "@jupyter-widgets/controls",
            "_view_module_version": "1.5.0",
            "_view_name": "CheckboxView",
            "description": "Add token as git credential?",
            "description_tooltip": null,
            "disabled": false,
            "indent": true,
            "layout": "IPY_MODEL_dba9c380625243a6a7f90c8914ff9455",
            "style": "IPY_MODEL_f30802e504624b37b3c4a469c5ecaef2",
            "value": true
          }
        },
        "9a2fe7c5597647e881612cd18a8467b1": {
          "model_module": "@jupyter-widgets/controls",
          "model_module_version": "1.5.0",
          "model_name": "ProgressStyleModel",
          "state": {
            "_model_module": "@jupyter-widgets/controls",
            "_model_module_version": "1.5.0",
            "_model_name": "ProgressStyleModel",
            "_view_count": null,
            "_view_module": "@jupyter-widgets/base",
            "_view_module_version": "1.2.0",
            "_view_name": "StyleView",
            "bar_color": null,
            "description_width": ""
          }
        },
        "a3f2cbce0fc0419191259ba1735ffa94": {
          "model_module": "@jupyter-widgets/controls",
          "model_module_version": "1.5.0",
          "model_name": "DescriptionStyleModel",
          "state": {
            "_model_module": "@jupyter-widgets/controls",
            "_model_module_version": "1.5.0",
            "_model_name": "DescriptionStyleModel",
            "_view_count": null,
            "_view_module": "@jupyter-widgets/base",
            "_view_module_version": "1.2.0",
            "_view_name": "StyleView",
            "description_width": ""
          }
        },
        "a7184f5b92f0441fa10120fde326efb4": {
          "model_module": "@jupyter-widgets/base",
          "model_module_version": "1.2.0",
          "model_name": "LayoutModel",
          "state": {
            "_model_module": "@jupyter-widgets/base",
            "_model_module_version": "1.2.0",
            "_model_name": "LayoutModel",
            "_view_count": null,
            "_view_module": "@jupyter-widgets/base",
            "_view_module_version": "1.2.0",
            "_view_name": "LayoutView",
            "align_content": null,
            "align_items": null,
            "align_self": null,
            "border": null,
            "bottom": null,
            "display": null,
            "flex": null,
            "flex_flow": null,
            "grid_area": null,
            "grid_auto_columns": null,
            "grid_auto_flow": null,
            "grid_auto_rows": null,
            "grid_column": null,
            "grid_gap": null,
            "grid_row": null,
            "grid_template_areas": null,
            "grid_template_columns": null,
            "grid_template_rows": null,
            "height": null,
            "justify_content": null,
            "justify_items": null,
            "left": null,
            "margin": null,
            "max_height": null,
            "max_width": null,
            "min_height": null,
            "min_width": null,
            "object_fit": null,
            "object_position": null,
            "order": null,
            "overflow": null,
            "overflow_x": null,
            "overflow_y": null,
            "padding": null,
            "right": null,
            "top": null,
            "visibility": null,
            "width": null
          }
        },
        "a7e5e39c8be1422fb1e47567857d681d": {
          "model_module": "@jupyter-widgets/controls",
          "model_module_version": "1.5.0",
          "model_name": "HBoxModel",
          "state": {
            "_dom_classes": [],
            "_model_module": "@jupyter-widgets/controls",
            "_model_module_version": "1.5.0",
            "_model_name": "HBoxModel",
            "_view_count": null,
            "_view_module": "@jupyter-widgets/controls",
            "_view_module_version": "1.5.0",
            "_view_name": "HBoxView",
            "box_style": "",
            "children": [
              "IPY_MODEL_90bb8035c7b745088e6f69368e770224",
              "IPY_MODEL_ac756dc57a4748b8b29e490186774de6",
              "IPY_MODEL_6875e568704e45648e7230c0fe52ffb8"
            ],
            "layout": "IPY_MODEL_cfddbf192a4948c5a35d9c9c28227969"
          }
        },
        "a84b851075bf4773a463ed24a2f3eb24": {
          "model_module": "@jupyter-widgets/controls",
          "model_module_version": "1.5.0",
          "model_name": "HTMLModel",
          "state": {
            "_dom_classes": [],
            "_model_module": "@jupyter-widgets/controls",
            "_model_module_version": "1.5.0",
            "_model_name": "HTMLModel",
            "_view_count": null,
            "_view_module": "@jupyter-widgets/controls",
            "_view_module_version": "1.5.0",
            "_view_name": "HTMLView",
            "description": "",
            "description_tooltip": null,
            "layout": "IPY_MODEL_2ca52ebaf2be48d5a4b8b4138906be85",
            "placeholder": "​",
            "style": "IPY_MODEL_7317708554854b4fb5c2ee08e0f4f894",
            "value": " 2.64k/? [00:00&lt;00:00, 116kB/s]"
          }
        },
        "ab4a2cca2b404d25b2cda485c7c28077": {
          "model_module": "@jupyter-widgets/controls",
          "model_module_version": "1.5.0",
          "model_name": "FloatProgressModel",
          "state": {
            "_dom_classes": [],
            "_model_module": "@jupyter-widgets/controls",
            "_model_module_version": "1.5.0",
            "_model_name": "FloatProgressModel",
            "_view_count": null,
            "_view_module": "@jupyter-widgets/controls",
            "_view_module_version": "1.5.0",
            "_view_name": "ProgressView",
            "bar_style": "success",
            "description": "",
            "description_tooltip": null,
            "layout": "IPY_MODEL_da8639f433da4cefa2affd438ac18c89",
            "max": 1901,
            "min": 0,
            "orientation": "horizontal",
            "style": "IPY_MODEL_f4cfe55a73c141ef9b751d0db992d3cf",
            "value": 1901
          }
        },
        "abd948814c014a9eb6d68529c3590e92": {
          "model_module": "@jupyter-widgets/base",
          "model_module_version": "1.2.0",
          "model_name": "LayoutModel",
          "state": {
            "_model_module": "@jupyter-widgets/base",
            "_model_module_version": "1.2.0",
            "_model_name": "LayoutModel",
            "_view_count": null,
            "_view_module": "@jupyter-widgets/base",
            "_view_module_version": "1.2.0",
            "_view_name": "LayoutView",
            "align_content": null,
            "align_items": null,
            "align_self": null,
            "border": null,
            "bottom": null,
            "display": null,
            "flex": null,
            "flex_flow": null,
            "grid_area": null,
            "grid_auto_columns": null,
            "grid_auto_flow": null,
            "grid_auto_rows": null,
            "grid_column": null,
            "grid_gap": null,
            "grid_row": null,
            "grid_template_areas": null,
            "grid_template_columns": null,
            "grid_template_rows": null,
            "height": null,
            "justify_content": null,
            "justify_items": null,
            "left": null,
            "margin": null,
            "max_height": null,
            "max_width": null,
            "min_height": null,
            "min_width": null,
            "object_fit": null,
            "object_position": null,
            "order": null,
            "overflow": null,
            "overflow_x": null,
            "overflow_y": null,
            "padding": null,
            "right": null,
            "top": null,
            "visibility": null,
            "width": null
          }
        },
        "ac756dc57a4748b8b29e490186774de6": {
          "model_module": "@jupyter-widgets/controls",
          "model_module_version": "1.5.0",
          "model_name": "FloatProgressModel",
          "state": {
            "_dom_classes": [],
            "_model_module": "@jupyter-widgets/controls",
            "_model_module_version": "1.5.0",
            "_model_name": "FloatProgressModel",
            "_view_count": null,
            "_view_module": "@jupyter-widgets/controls",
            "_view_module_version": "1.5.0",
            "_view_name": "ProgressView",
            "bar_style": "info",
            "description": "",
            "description_tooltip": null,
            "layout": "IPY_MODEL_d42cbd433408441ead2be0400c5d97c7",
            "max": 1,
            "min": 0,
            "orientation": "horizontal",
            "style": "IPY_MODEL_3cbbf50821414139bf7924b2a66912ba",
            "value": 1
          }
        },
        "ac7622d9634c46db895530963f553494": {
          "model_module": "@jupyter-widgets/controls",
          "model_module_version": "1.5.0",
          "model_name": "ProgressStyleModel",
          "state": {
            "_model_module": "@jupyter-widgets/controls",
            "_model_module_version": "1.5.0",
            "_model_name": "ProgressStyleModel",
            "_view_count": null,
            "_view_module": "@jupyter-widgets/base",
            "_view_module_version": "1.2.0",
            "_view_name": "StyleView",
            "bar_color": null,
            "description_width": ""
          }
        },
        "adc1d50d41744b49bb5dfb3a4f5aa770": {
          "model_module": "@jupyter-widgets/controls",
          "model_module_version": "1.5.0",
          "model_name": "FloatProgressModel",
          "state": {
            "_dom_classes": [],
            "_model_module": "@jupyter-widgets/controls",
            "_model_module_version": "1.5.0",
            "_model_name": "FloatProgressModel",
            "_view_count": null,
            "_view_module": "@jupyter-widgets/controls",
            "_view_module_version": "1.5.0",
            "_view_name": "ProgressView",
            "bar_style": "info",
            "description": "",
            "description_tooltip": null,
            "layout": "IPY_MODEL_c705539579af4dd890312dc6eca591ac",
            "max": 1,
            "min": 0,
            "orientation": "horizontal",
            "style": "IPY_MODEL_adfa07960f1243a78e890a968155eac5",
            "value": 1
          }
        },
        "adfa07960f1243a78e890a968155eac5": {
          "model_module": "@jupyter-widgets/controls",
          "model_module_version": "1.5.0",
          "model_name": "ProgressStyleModel",
          "state": {
            "_model_module": "@jupyter-widgets/controls",
            "_model_module_version": "1.5.0",
            "_model_name": "ProgressStyleModel",
            "_view_count": null,
            "_view_module": "@jupyter-widgets/base",
            "_view_module_version": "1.2.0",
            "_view_name": "StyleView",
            "bar_color": null,
            "description_width": ""
          }
        },
        "ae02bea4efb44660aa5718e913f38d1d": {
          "model_module": "@jupyter-widgets/controls",
          "model_module_version": "1.5.0",
          "model_name": "DescriptionStyleModel",
          "state": {
            "_model_module": "@jupyter-widgets/controls",
            "_model_module_version": "1.5.0",
            "_model_name": "DescriptionStyleModel",
            "_view_count": null,
            "_view_module": "@jupyter-widgets/base",
            "_view_module_version": "1.2.0",
            "_view_name": "StyleView",
            "description_width": ""
          }
        },
        "ae9d87d903c4420db700f043fe197154": {
          "model_module": "@jupyter-widgets/controls",
          "model_module_version": "1.5.0",
          "model_name": "DescriptionStyleModel",
          "state": {
            "_model_module": "@jupyter-widgets/controls",
            "_model_module_version": "1.5.0",
            "_model_name": "DescriptionStyleModel",
            "_view_count": null,
            "_view_module": "@jupyter-widgets/base",
            "_view_module_version": "1.2.0",
            "_view_name": "StyleView",
            "description_width": ""
          }
        },
        "b04e77f560024855b050ec5d48d8a26c": {
          "model_module": "@jupyter-widgets/controls",
          "model_module_version": "1.5.0",
          "model_name": "FloatProgressModel",
          "state": {
            "_dom_classes": [],
            "_model_module": "@jupyter-widgets/controls",
            "_model_module_version": "1.5.0",
            "_model_name": "FloatProgressModel",
            "_view_count": null,
            "_view_module": "@jupyter-widgets/controls",
            "_view_module_version": "1.5.0",
            "_view_name": "ProgressView",
            "bar_style": "success",
            "description": "",
            "description_tooltip": null,
            "layout": "IPY_MODEL_280663ff96ce499aa0cb7bca67f59a85",
            "max": 2,
            "min": 0,
            "orientation": "horizontal",
            "style": "IPY_MODEL_9a2fe7c5597647e881612cd18a8467b1",
            "value": 2
          }
        },
        "b2310446607e44f5b8e38862581b510a": {
          "model_module": "@jupyter-widgets/base",
          "model_module_version": "1.2.0",
          "model_name": "LayoutModel",
          "state": {
            "_model_module": "@jupyter-widgets/base",
            "_model_module_version": "1.2.0",
            "_model_name": "LayoutModel",
            "_view_count": null,
            "_view_module": "@jupyter-widgets/base",
            "_view_module_version": "1.2.0",
            "_view_name": "LayoutView",
            "align_content": null,
            "align_items": null,
            "align_self": null,
            "border": null,
            "bottom": null,
            "display": null,
            "flex": null,
            "flex_flow": null,
            "grid_area": null,
            "grid_auto_columns": null,
            "grid_auto_flow": null,
            "grid_auto_rows": null,
            "grid_column": null,
            "grid_gap": null,
            "grid_row": null,
            "grid_template_areas": null,
            "grid_template_columns": null,
            "grid_template_rows": null,
            "height": null,
            "justify_content": null,
            "justify_items": null,
            "left": null,
            "margin": null,
            "max_height": null,
            "max_width": null,
            "min_height": null,
            "min_width": null,
            "object_fit": null,
            "object_position": null,
            "order": null,
            "overflow": null,
            "overflow_x": null,
            "overflow_y": null,
            "padding": null,
            "right": null,
            "top": null,
            "visibility": null,
            "width": null
          }
        },
        "b27cb4080cb642739729fed51ee8c3ad": {
          "model_module": "@jupyter-widgets/base",
          "model_module_version": "1.2.0",
          "model_name": "LayoutModel",
          "state": {
            "_model_module": "@jupyter-widgets/base",
            "_model_module_version": "1.2.0",
            "_model_name": "LayoutModel",
            "_view_count": null,
            "_view_module": "@jupyter-widgets/base",
            "_view_module_version": "1.2.0",
            "_view_name": "LayoutView",
            "align_content": null,
            "align_items": null,
            "align_self": null,
            "border": null,
            "bottom": null,
            "display": null,
            "flex": null,
            "flex_flow": null,
            "grid_area": null,
            "grid_auto_columns": null,
            "grid_auto_flow": null,
            "grid_auto_rows": null,
            "grid_column": null,
            "grid_gap": null,
            "grid_row": null,
            "grid_template_areas": null,
            "grid_template_columns": null,
            "grid_template_rows": null,
            "height": null,
            "justify_content": null,
            "justify_items": null,
            "left": null,
            "margin": null,
            "max_height": null,
            "max_width": null,
            "min_height": null,
            "min_width": null,
            "object_fit": null,
            "object_position": null,
            "order": null,
            "overflow": null,
            "overflow_x": null,
            "overflow_y": null,
            "padding": null,
            "right": null,
            "top": null,
            "visibility": null,
            "width": null
          }
        },
        "b51bb202d2214ff28d2a4cd7216443a7": {
          "model_module": "@jupyter-widgets/base",
          "model_module_version": "1.2.0",
          "model_name": "LayoutModel",
          "state": {
            "_model_module": "@jupyter-widgets/base",
            "_model_module_version": "1.2.0",
            "_model_name": "LayoutModel",
            "_view_count": null,
            "_view_module": "@jupyter-widgets/base",
            "_view_module_version": "1.2.0",
            "_view_name": "LayoutView",
            "align_content": null,
            "align_items": null,
            "align_self": null,
            "border": null,
            "bottom": null,
            "display": null,
            "flex": null,
            "flex_flow": null,
            "grid_area": null,
            "grid_auto_columns": null,
            "grid_auto_flow": null,
            "grid_auto_rows": null,
            "grid_column": null,
            "grid_gap": null,
            "grid_row": null,
            "grid_template_areas": null,
            "grid_template_columns": null,
            "grid_template_rows": null,
            "height": null,
            "justify_content": null,
            "justify_items": null,
            "left": null,
            "margin": null,
            "max_height": null,
            "max_width": null,
            "min_height": null,
            "min_width": null,
            "object_fit": null,
            "object_position": null,
            "order": null,
            "overflow": null,
            "overflow_x": null,
            "overflow_y": null,
            "padding": null,
            "right": null,
            "top": null,
            "visibility": null,
            "width": null
          }
        },
        "b55fea5b10694c8cb1aa93622170ff8c": {
          "model_module": "@jupyter-widgets/base",
          "model_module_version": "1.2.0",
          "model_name": "LayoutModel",
          "state": {
            "_model_module": "@jupyter-widgets/base",
            "_model_module_version": "1.2.0",
            "_model_name": "LayoutModel",
            "_view_count": null,
            "_view_module": "@jupyter-widgets/base",
            "_view_module_version": "1.2.0",
            "_view_name": "LayoutView",
            "align_content": null,
            "align_items": null,
            "align_self": null,
            "border": null,
            "bottom": null,
            "display": null,
            "flex": null,
            "flex_flow": null,
            "grid_area": null,
            "grid_auto_columns": null,
            "grid_auto_flow": null,
            "grid_auto_rows": null,
            "grid_column": null,
            "grid_gap": null,
            "grid_row": null,
            "grid_template_areas": null,
            "grid_template_columns": null,
            "grid_template_rows": null,
            "height": null,
            "justify_content": null,
            "justify_items": null,
            "left": null,
            "margin": null,
            "max_height": null,
            "max_width": null,
            "min_height": null,
            "min_width": null,
            "object_fit": null,
            "object_position": null,
            "order": null,
            "overflow": null,
            "overflow_x": null,
            "overflow_y": null,
            "padding": null,
            "right": null,
            "top": null,
            "visibility": null,
            "width": null
          }
        },
        "b5618e9ca055470595027435969b9765": {
          "model_module": "@jupyter-widgets/base",
          "model_module_version": "1.2.0",
          "model_name": "LayoutModel",
          "state": {
            "_model_module": "@jupyter-widgets/base",
            "_model_module_version": "1.2.0",
            "_model_name": "LayoutModel",
            "_view_count": null,
            "_view_module": "@jupyter-widgets/base",
            "_view_module_version": "1.2.0",
            "_view_name": "LayoutView",
            "align_content": null,
            "align_items": null,
            "align_self": null,
            "border": null,
            "bottom": null,
            "display": null,
            "flex": null,
            "flex_flow": null,
            "grid_area": null,
            "grid_auto_columns": null,
            "grid_auto_flow": null,
            "grid_auto_rows": null,
            "grid_column": null,
            "grid_gap": null,
            "grid_row": null,
            "grid_template_areas": null,
            "grid_template_columns": null,
            "grid_template_rows": null,
            "height": null,
            "justify_content": null,
            "justify_items": null,
            "left": null,
            "margin": null,
            "max_height": null,
            "max_width": null,
            "min_height": null,
            "min_width": null,
            "object_fit": null,
            "object_position": null,
            "order": null,
            "overflow": null,
            "overflow_x": null,
            "overflow_y": null,
            "padding": null,
            "right": null,
            "top": null,
            "visibility": null,
            "width": null
          }
        },
        "b59ba6565a464d1ba9b09b978cc679dd": {
          "model_module": "@jupyter-widgets/base",
          "model_module_version": "1.2.0",
          "model_name": "LayoutModel",
          "state": {
            "_model_module": "@jupyter-widgets/base",
            "_model_module_version": "1.2.0",
            "_model_name": "LayoutModel",
            "_view_count": null,
            "_view_module": "@jupyter-widgets/base",
            "_view_module_version": "1.2.0",
            "_view_name": "LayoutView",
            "align_content": null,
            "align_items": null,
            "align_self": null,
            "border": null,
            "bottom": null,
            "display": null,
            "flex": null,
            "flex_flow": null,
            "grid_area": null,
            "grid_auto_columns": null,
            "grid_auto_flow": null,
            "grid_auto_rows": null,
            "grid_column": null,
            "grid_gap": null,
            "grid_row": null,
            "grid_template_areas": null,
            "grid_template_columns": null,
            "grid_template_rows": null,
            "height": null,
            "justify_content": null,
            "justify_items": null,
            "left": null,
            "margin": null,
            "max_height": null,
            "max_width": null,
            "min_height": null,
            "min_width": null,
            "object_fit": null,
            "object_position": null,
            "order": null,
            "overflow": null,
            "overflow_x": null,
            "overflow_y": null,
            "padding": null,
            "right": null,
            "top": null,
            "visibility": null,
            "width": null
          }
        },
        "b85b4466791b4764ab4ef51f90281e9f": {
          "model_module": "@jupyter-widgets/controls",
          "model_module_version": "1.5.0",
          "model_name": "DescriptionStyleModel",
          "state": {
            "_model_module": "@jupyter-widgets/controls",
            "_model_module_version": "1.5.0",
            "_model_name": "DescriptionStyleModel",
            "_view_count": null,
            "_view_module": "@jupyter-widgets/base",
            "_view_module_version": "1.2.0",
            "_view_name": "StyleView",
            "description_width": ""
          }
        },
        "b8c9bc669d8c4651882c214aafb0548e": {
          "model_module": "@jupyter-widgets/controls",
          "model_module_version": "1.5.0",
          "model_name": "FloatProgressModel",
          "state": {
            "_dom_classes": [],
            "_model_module": "@jupyter-widgets/controls",
            "_model_module_version": "1.5.0",
            "_model_name": "FloatProgressModel",
            "_view_count": null,
            "_view_module": "@jupyter-widgets/controls",
            "_view_module_version": "1.5.0",
            "_view_name": "ProgressView",
            "bar_style": "success",
            "description": "",
            "description_tooltip": null,
            "layout": "IPY_MODEL_667cac3e3c364fed95c9d4cd30ec2466",
            "max": 869007403,
            "min": 0,
            "orientation": "horizontal",
            "style": "IPY_MODEL_43c07bbb17534fa9932770d689dc821b",
            "value": 869007403
          }
        },
        "b92aa97e7bf4400c8e1314fd9cd6360c": {
          "model_module": "@jupyter-widgets/base",
          "model_module_version": "1.2.0",
          "model_name": "LayoutModel",
          "state": {
            "_model_module": "@jupyter-widgets/base",
            "_model_module_version": "1.2.0",
            "_model_name": "LayoutModel",
            "_view_count": null,
            "_view_module": "@jupyter-widgets/base",
            "_view_module_version": "1.2.0",
            "_view_name": "LayoutView",
            "align_content": null,
            "align_items": null,
            "align_self": null,
            "border": null,
            "bottom": null,
            "display": null,
            "flex": null,
            "flex_flow": null,
            "grid_area": null,
            "grid_auto_columns": null,
            "grid_auto_flow": null,
            "grid_auto_rows": null,
            "grid_column": null,
            "grid_gap": null,
            "grid_row": null,
            "grid_template_areas": null,
            "grid_template_columns": null,
            "grid_template_rows": null,
            "height": null,
            "justify_content": null,
            "justify_items": null,
            "left": null,
            "margin": null,
            "max_height": null,
            "max_width": null,
            "min_height": null,
            "min_width": null,
            "object_fit": null,
            "object_position": null,
            "order": null,
            "overflow": null,
            "overflow_x": null,
            "overflow_y": null,
            "padding": null,
            "right": null,
            "top": null,
            "visibility": null,
            "width": null
          }
        },
        "b9f5fab4eb65486abec1e0d85c8682d8": {
          "model_module": "@jupyter-widgets/controls",
          "model_module_version": "1.5.0",
          "model_name": "HTMLModel",
          "state": {
            "_dom_classes": [],
            "_model_module": "@jupyter-widgets/controls",
            "_model_module_version": "1.5.0",
            "_model_name": "HTMLModel",
            "_view_count": null,
            "_view_module": "@jupyter-widgets/controls",
            "_view_module_version": "1.5.0",
            "_view_name": "HTMLView",
            "description": "",
            "description_tooltip": null,
            "layout": "IPY_MODEL_7943fc950c1c4b9ab096fa2e50d0da2d",
            "placeholder": "​",
            "style": "IPY_MODEL_886c955c22c34282b94a3ee10ebde407",
            "value": " 1/1 [00:00&lt;00:00, 21.75ba/s]"
          }
        },
        "bb8774b67f884f6b8377a496b5c4a151": {
          "model_module": "@jupyter-widgets/base",
          "model_module_version": "1.2.0",
          "model_name": "LayoutModel",
          "state": {
            "_model_module": "@jupyter-widgets/base",
            "_model_module_version": "1.2.0",
            "_model_name": "LayoutModel",
            "_view_count": null,
            "_view_module": "@jupyter-widgets/base",
            "_view_module_version": "1.2.0",
            "_view_name": "LayoutView",
            "align_content": null,
            "align_items": null,
            "align_self": null,
            "border": null,
            "bottom": null,
            "display": null,
            "flex": null,
            "flex_flow": null,
            "grid_area": null,
            "grid_auto_columns": null,
            "grid_auto_flow": null,
            "grid_auto_rows": null,
            "grid_column": null,
            "grid_gap": null,
            "grid_row": null,
            "grid_template_areas": null,
            "grid_template_columns": null,
            "grid_template_rows": null,
            "height": null,
            "justify_content": null,
            "justify_items": null,
            "left": null,
            "margin": null,
            "max_height": null,
            "max_width": null,
            "min_height": null,
            "min_width": null,
            "object_fit": null,
            "object_position": null,
            "order": null,
            "overflow": null,
            "overflow_x": null,
            "overflow_y": null,
            "padding": null,
            "right": null,
            "top": null,
            "visibility": null,
            "width": null
          }
        },
        "bd7dad24d5d34edd9409e44ae87b888c": {
          "model_module": "@jupyter-widgets/controls",
          "model_module_version": "1.5.0",
          "model_name": "DescriptionStyleModel",
          "state": {
            "_model_module": "@jupyter-widgets/controls",
            "_model_module_version": "1.5.0",
            "_model_name": "DescriptionStyleModel",
            "_view_count": null,
            "_view_module": "@jupyter-widgets/base",
            "_view_module_version": "1.2.0",
            "_view_name": "StyleView",
            "description_width": ""
          }
        },
        "bd85d28cc40142998b42434a705de501": {
          "model_module": "@jupyter-widgets/base",
          "model_module_version": "1.2.0",
          "model_name": "LayoutModel",
          "state": {
            "_model_module": "@jupyter-widgets/base",
            "_model_module_version": "1.2.0",
            "_model_name": "LayoutModel",
            "_view_count": null,
            "_view_module": "@jupyter-widgets/base",
            "_view_module_version": "1.2.0",
            "_view_name": "LayoutView",
            "align_content": null,
            "align_items": null,
            "align_self": null,
            "border": null,
            "bottom": null,
            "display": null,
            "flex": null,
            "flex_flow": null,
            "grid_area": null,
            "grid_auto_columns": null,
            "grid_auto_flow": null,
            "grid_auto_rows": null,
            "grid_column": null,
            "grid_gap": null,
            "grid_row": null,
            "grid_template_areas": null,
            "grid_template_columns": null,
            "grid_template_rows": null,
            "height": null,
            "justify_content": null,
            "justify_items": null,
            "left": null,
            "margin": null,
            "max_height": null,
            "max_width": null,
            "min_height": null,
            "min_width": null,
            "object_fit": null,
            "object_position": null,
            "order": null,
            "overflow": null,
            "overflow_x": null,
            "overflow_y": null,
            "padding": null,
            "right": null,
            "top": null,
            "visibility": null,
            "width": "20px"
          }
        },
        "bd9b680e32fc41708cc2024a2f40c89d": {
          "model_module": "@jupyter-widgets/controls",
          "model_module_version": "1.5.0",
          "model_name": "HTMLModel",
          "state": {
            "_dom_classes": [],
            "_model_module": "@jupyter-widgets/controls",
            "_model_module_version": "1.5.0",
            "_model_name": "HTMLModel",
            "_view_count": null,
            "_view_module": "@jupyter-widgets/controls",
            "_view_module_version": "1.5.0",
            "_view_name": "HTMLView",
            "description": "",
            "description_tooltip": null,
            "layout": "IPY_MODEL_225e6afb5c154fe6b3a1b1279287cb85",
            "placeholder": "​",
            "style": "IPY_MODEL_f5ae3c942bf644c0affadca9a6e6d59b",
            "value": "100%"
          }
        },
        "bf4e5b43dc36490eb26b5868233c8325": {
          "model_module": "@jupyter-widgets/controls",
          "model_module_version": "1.5.0",
          "model_name": "FloatProgressModel",
          "state": {
            "_dom_classes": [],
            "_model_module": "@jupyter-widgets/controls",
            "_model_module_version": "1.5.0",
            "_model_name": "FloatProgressModel",
            "_view_count": null,
            "_view_module": "@jupyter-widgets/controls",
            "_view_module_version": "1.5.0",
            "_view_name": "ProgressView",
            "bar_style": "success",
            "description": "",
            "description_tooltip": null,
            "layout": "IPY_MODEL_0058396ec61a4f75a7db09a5f38d125b",
            "max": 1,
            "min": 0,
            "orientation": "horizontal",
            "style": "IPY_MODEL_3d7e3dfdc28548d8bd8b7d548edb6f8f",
            "value": 1
          }
        },
        "c1e0fc4107fb49fe84bb21fd721a8ecb": {
          "model_module": "@jupyter-widgets/base",
          "model_module_version": "1.2.0",
          "model_name": "LayoutModel",
          "state": {
            "_model_module": "@jupyter-widgets/base",
            "_model_module_version": "1.2.0",
            "_model_name": "LayoutModel",
            "_view_count": null,
            "_view_module": "@jupyter-widgets/base",
            "_view_module_version": "1.2.0",
            "_view_name": "LayoutView",
            "align_content": null,
            "align_items": null,
            "align_self": null,
            "border": null,
            "bottom": null,
            "display": null,
            "flex": null,
            "flex_flow": null,
            "grid_area": null,
            "grid_auto_columns": null,
            "grid_auto_flow": null,
            "grid_auto_rows": null,
            "grid_column": null,
            "grid_gap": null,
            "grid_row": null,
            "grid_template_areas": null,
            "grid_template_columns": null,
            "grid_template_rows": null,
            "height": null,
            "justify_content": null,
            "justify_items": null,
            "left": null,
            "margin": null,
            "max_height": null,
            "max_width": null,
            "min_height": null,
            "min_width": null,
            "object_fit": null,
            "object_position": null,
            "order": null,
            "overflow": null,
            "overflow_x": null,
            "overflow_y": null,
            "padding": null,
            "right": null,
            "top": null,
            "visibility": null,
            "width": null
          }
        },
        "c3a76df48c1f46a6a588babaadaafce2": {
          "model_module": "@jupyter-widgets/controls",
          "model_module_version": "1.5.0",
          "model_name": "DescriptionStyleModel",
          "state": {
            "_model_module": "@jupyter-widgets/controls",
            "_model_module_version": "1.5.0",
            "_model_name": "DescriptionStyleModel",
            "_view_count": null,
            "_view_module": "@jupyter-widgets/base",
            "_view_module_version": "1.2.0",
            "_view_name": "StyleView",
            "description_width": ""
          }
        },
        "c453ed86ee824b5e88d15c5bce35009b": {
          "model_module": "@jupyter-widgets/controls",
          "model_module_version": "1.5.0",
          "model_name": "HTMLModel",
          "state": {
            "_dom_classes": [],
            "_model_module": "@jupyter-widgets/controls",
            "_model_module_version": "1.5.0",
            "_model_name": "HTMLModel",
            "_view_count": null,
            "_view_module": "@jupyter-widgets/controls",
            "_view_module_version": "1.5.0",
            "_view_name": "HTMLView",
            "description": "",
            "description_tooltip": null,
            "layout": "IPY_MODEL_abd948814c014a9eb6d68529c3590e92",
            "placeholder": "​",
            "style": "IPY_MODEL_700ef7e95cf94d7e9dbeb58d605eca5d",
            "value": " 7.06k/? [00:00&lt;00:00, 303kB/s]"
          }
        },
        "c4960a24842040638dc4f7a81b737d6f": {
          "model_module": "@jupyter-widgets/controls",
          "model_module_version": "1.5.0",
          "model_name": "HTMLModel",
          "state": {
            "_dom_classes": [],
            "_model_module": "@jupyter-widgets/controls",
            "_model_module_version": "1.5.0",
            "_model_name": "HTMLModel",
            "_view_count": null,
            "_view_module": "@jupyter-widgets/controls",
            "_view_module_version": "1.5.0",
            "_view_name": "HTMLView",
            "description": "",
            "description_tooltip": null,
            "layout": "IPY_MODEL_fcd185b60d6e4e60a8ab964aac262f73",
            "placeholder": "​",
            "style": "IPY_MODEL_46b49c05ae70468cbe834a11a86c53ee",
            "value": "100%"
          }
        },
        "c7053e32145d4599bda83ae1372cf54a": {
          "model_module": "@jupyter-widgets/controls",
          "model_module_version": "1.5.0",
          "model_name": "ButtonModel",
          "state": {
            "_dom_classes": [],
            "_model_module": "@jupyter-widgets/controls",
            "_model_module_version": "1.5.0",
            "_model_name": "ButtonModel",
            "_view_count": null,
            "_view_module": "@jupyter-widgets/controls",
            "_view_module_version": "1.5.0",
            "_view_name": "ButtonView",
            "button_style": "",
            "description": "Login",
            "disabled": false,
            "icon": "",
            "layout": "IPY_MODEL_05b403993fc04c128fe3423e16085529",
            "style": "IPY_MODEL_ea0718a03fa84612a83032464c755bde",
            "tooltip": ""
          }
        },
        "c705539579af4dd890312dc6eca591ac": {
          "model_module": "@jupyter-widgets/base",
          "model_module_version": "1.2.0",
          "model_name": "LayoutModel",
          "state": {
            "_model_module": "@jupyter-widgets/base",
            "_model_module_version": "1.2.0",
            "_model_name": "LayoutModel",
            "_view_count": null,
            "_view_module": "@jupyter-widgets/base",
            "_view_module_version": "1.2.0",
            "_view_name": "LayoutView",
            "align_content": null,
            "align_items": null,
            "align_self": null,
            "border": null,
            "bottom": null,
            "display": null,
            "flex": null,
            "flex_flow": null,
            "grid_area": null,
            "grid_auto_columns": null,
            "grid_auto_flow": null,
            "grid_auto_rows": null,
            "grid_column": null,
            "grid_gap": null,
            "grid_row": null,
            "grid_template_areas": null,
            "grid_template_columns": null,
            "grid_template_rows": null,
            "height": null,
            "justify_content": null,
            "justify_items": null,
            "left": null,
            "margin": null,
            "max_height": null,
            "max_width": null,
            "min_height": null,
            "min_width": null,
            "object_fit": null,
            "object_position": null,
            "order": null,
            "overflow": null,
            "overflow_x": null,
            "overflow_y": null,
            "padding": null,
            "right": null,
            "top": null,
            "visibility": null,
            "width": "20px"
          }
        },
        "c75146f8f1ab44028814587c6618b5cb": {
          "model_module": "@jupyter-widgets/controls",
          "model_module_version": "1.5.0",
          "model_name": "HBoxModel",
          "state": {
            "_dom_classes": [],
            "_model_module": "@jupyter-widgets/controls",
            "_model_module_version": "1.5.0",
            "_model_name": "HBoxModel",
            "_view_count": null,
            "_view_module": "@jupyter-widgets/controls",
            "_view_module_version": "1.5.0",
            "_view_name": "HBoxView",
            "box_style": "",
            "children": [
              "IPY_MODEL_2b28d6a112484a5cb8a3bce8d33dd6eb",
              "IPY_MODEL_bf4e5b43dc36490eb26b5868233c8325",
              "IPY_MODEL_42901d9eb4204cb39847025079f3e3c1"
            ],
            "layout": "IPY_MODEL_5beb1ffb9863473a8df053439bfb9fb2"
          }
        },
        "c7729e98d977430a8a85243bab1dc83d": {
          "model_module": "@jupyter-widgets/controls",
          "model_module_version": "1.5.0",
          "model_name": "ProgressStyleModel",
          "state": {
            "_model_module": "@jupyter-widgets/controls",
            "_model_module_version": "1.5.0",
            "_model_name": "ProgressStyleModel",
            "_view_count": null,
            "_view_module": "@jupyter-widgets/base",
            "_view_module_version": "1.2.0",
            "_view_name": "StyleView",
            "bar_color": null,
            "description_width": ""
          }
        },
        "c781acd05e244750a8084992acc4ac2c": {
          "model_module": "@jupyter-widgets/controls",
          "model_module_version": "1.5.0",
          "model_name": "HTMLModel",
          "state": {
            "_dom_classes": [],
            "_model_module": "@jupyter-widgets/controls",
            "_model_module_version": "1.5.0",
            "_model_name": "HTMLModel",
            "_view_count": null,
            "_view_module": "@jupyter-widgets/controls",
            "_view_module_version": "1.5.0",
            "_view_name": "HTMLView",
            "description": "",
            "description_tooltip": null,
            "layout": "IPY_MODEL_8da462790a6d4fbb9251290bd9ee14f0",
            "placeholder": "​",
            "style": "IPY_MODEL_fe31c534d6cd46da8b6a640e039a4d6c",
            "value": " 4.48k/? [00:00&lt;00:00, 230kB/s]"
          }
        },
        "c95cde469c924220956b0222cd470c90": {
          "model_module": "@jupyter-widgets/controls",
          "model_module_version": "1.5.0",
          "model_name": "HBoxModel",
          "state": {
            "_dom_classes": [],
            "_model_module": "@jupyter-widgets/controls",
            "_model_module_version": "1.5.0",
            "_model_name": "HBoxModel",
            "_view_count": null,
            "_view_module": "@jupyter-widgets/controls",
            "_view_module_version": "1.5.0",
            "_view_name": "HBoxView",
            "box_style": "",
            "children": [
              "IPY_MODEL_d31e0dcd59bd4153a392e18dba2ee1c2",
              "IPY_MODEL_adc1d50d41744b49bb5dfb3a4f5aa770",
              "IPY_MODEL_1a36d660c6474845bbfdcffffb6dcc68"
            ],
            "layout": "IPY_MODEL_dab4414a1d4a4e94a4845dd9dcc5783a"
          }
        },
        "cab324901c07479cb8c579067204aecf": {
          "model_module": "@jupyter-widgets/controls",
          "model_module_version": "1.5.0",
          "model_name": "FloatProgressModel",
          "state": {
            "_dom_classes": [],
            "_model_module": "@jupyter-widgets/controls",
            "_model_module_version": "1.5.0",
            "_model_name": "FloatProgressModel",
            "_view_count": null,
            "_view_module": "@jupyter-widgets/controls",
            "_view_module_version": "1.5.0",
            "_view_name": "ProgressView",
            "bar_style": "success",
            "description": "",
            "description_tooltip": null,
            "layout": "IPY_MODEL_6e9a872c89d54da582effed9b9f07bb2",
            "max": 1,
            "min": 0,
            "orientation": "horizontal",
            "style": "IPY_MODEL_53a03b6776c5401aaca921c86ed0b6d5",
            "value": 1
          }
        },
        "cac71a316ae94f788d31ff4aa68ce067": {
          "model_module": "@jupyter-widgets/controls",
          "model_module_version": "1.5.0",
          "model_name": "DescriptionStyleModel",
          "state": {
            "_model_module": "@jupyter-widgets/controls",
            "_model_module_version": "1.5.0",
            "_model_name": "DescriptionStyleModel",
            "_view_count": null,
            "_view_module": "@jupyter-widgets/base",
            "_view_module_version": "1.2.0",
            "_view_name": "StyleView",
            "description_width": ""
          }
        },
        "cc4dd57866ff4080913e33d0b1cf49af": {
          "model_module": "@jupyter-widgets/controls",
          "model_module_version": "1.5.0",
          "model_name": "DescriptionStyleModel",
          "state": {
            "_model_module": "@jupyter-widgets/controls",
            "_model_module_version": "1.5.0",
            "_model_name": "DescriptionStyleModel",
            "_view_count": null,
            "_view_module": "@jupyter-widgets/base",
            "_view_module_version": "1.2.0",
            "_view_name": "StyleView",
            "description_width": ""
          }
        },
        "cda1ca853c9c413798584217aa65efb9": {
          "model_module": "@jupyter-widgets/base",
          "model_module_version": "1.2.0",
          "model_name": "LayoutModel",
          "state": {
            "_model_module": "@jupyter-widgets/base",
            "_model_module_version": "1.2.0",
            "_model_name": "LayoutModel",
            "_view_count": null,
            "_view_module": "@jupyter-widgets/base",
            "_view_module_version": "1.2.0",
            "_view_name": "LayoutView",
            "align_content": null,
            "align_items": null,
            "align_self": null,
            "border": null,
            "bottom": null,
            "display": null,
            "flex": null,
            "flex_flow": null,
            "grid_area": null,
            "grid_auto_columns": null,
            "grid_auto_flow": null,
            "grid_auto_rows": null,
            "grid_column": null,
            "grid_gap": null,
            "grid_row": null,
            "grid_template_areas": null,
            "grid_template_columns": null,
            "grid_template_rows": null,
            "height": null,
            "justify_content": null,
            "justify_items": null,
            "left": null,
            "margin": null,
            "max_height": null,
            "max_width": null,
            "min_height": null,
            "min_width": null,
            "object_fit": null,
            "object_position": null,
            "order": null,
            "overflow": null,
            "overflow_x": null,
            "overflow_y": null,
            "padding": null,
            "right": null,
            "top": null,
            "visibility": null,
            "width": null
          }
        },
        "cfddbf192a4948c5a35d9c9c28227969": {
          "model_module": "@jupyter-widgets/base",
          "model_module_version": "1.2.0",
          "model_name": "LayoutModel",
          "state": {
            "_model_module": "@jupyter-widgets/base",
            "_model_module_version": "1.2.0",
            "_model_name": "LayoutModel",
            "_view_count": null,
            "_view_module": "@jupyter-widgets/base",
            "_view_module_version": "1.2.0",
            "_view_name": "LayoutView",
            "align_content": null,
            "align_items": null,
            "align_self": null,
            "border": null,
            "bottom": null,
            "display": null,
            "flex": null,
            "flex_flow": null,
            "grid_area": null,
            "grid_auto_columns": null,
            "grid_auto_flow": null,
            "grid_auto_rows": null,
            "grid_column": null,
            "grid_gap": null,
            "grid_row": null,
            "grid_template_areas": null,
            "grid_template_columns": null,
            "grid_template_rows": null,
            "height": null,
            "justify_content": null,
            "justify_items": null,
            "left": null,
            "margin": null,
            "max_height": null,
            "max_width": null,
            "min_height": null,
            "min_width": null,
            "object_fit": null,
            "object_position": null,
            "order": null,
            "overflow": null,
            "overflow_x": null,
            "overflow_y": null,
            "padding": null,
            "right": null,
            "top": null,
            "visibility": "hidden",
            "width": null
          }
        },
        "d11bbf7a3d924028958d5bcc0a72e122": {
          "model_module": "@jupyter-widgets/controls",
          "model_module_version": "1.5.0",
          "model_name": "HTMLModel",
          "state": {
            "_dom_classes": [],
            "_model_module": "@jupyter-widgets/controls",
            "_model_module_version": "1.5.0",
            "_model_name": "HTMLModel",
            "_view_count": null,
            "_view_module": "@jupyter-widgets/controls",
            "_view_module_version": "1.5.0",
            "_view_name": "HTMLView",
            "description": "",
            "description_tooltip": null,
            "layout": "IPY_MODEL_b55fea5b10694c8cb1aa93622170ff8c",
            "placeholder": "​",
            "style": "IPY_MODEL_362150e5ee6b409381c9a3f2c4199186",
            "value": " 5/5 [00:00&lt;00:00, 162.28ba/s]"
          }
        },
        "d2174b1613f54697a70a519f40b5aee8": {
          "model_module": "@jupyter-widgets/controls",
          "model_module_version": "1.5.0",
          "model_name": "ProgressStyleModel",
          "state": {
            "_model_module": "@jupyter-widgets/controls",
            "_model_module_version": "1.5.0",
            "_model_name": "ProgressStyleModel",
            "_view_count": null,
            "_view_module": "@jupyter-widgets/base",
            "_view_module_version": "1.2.0",
            "_view_name": "StyleView",
            "bar_color": null,
            "description_width": ""
          }
        },
        "d30d4923454e4f8aaf4341f0d9e4f794": {
          "model_module": "@jupyter-widgets/controls",
          "model_module_version": "1.5.0",
          "model_name": "DescriptionStyleModel",
          "state": {
            "_model_module": "@jupyter-widgets/controls",
            "_model_module_version": "1.5.0",
            "_model_name": "DescriptionStyleModel",
            "_view_count": null,
            "_view_module": "@jupyter-widgets/base",
            "_view_module_version": "1.2.0",
            "_view_name": "StyleView",
            "description_width": ""
          }
        },
        "d31e0dcd59bd4153a392e18dba2ee1c2": {
          "model_module": "@jupyter-widgets/controls",
          "model_module_version": "1.5.0",
          "model_name": "HTMLModel",
          "state": {
            "_dom_classes": [],
            "_model_module": "@jupyter-widgets/controls",
            "_model_module_version": "1.5.0",
            "_model_name": "HTMLModel",
            "_view_count": null,
            "_view_module": "@jupyter-widgets/controls",
            "_view_module_version": "1.5.0",
            "_view_name": "HTMLView",
            "description": "",
            "description_tooltip": null,
            "layout": "IPY_MODEL_556b2a49b0f04518a0c925f7d448fcd9",
            "placeholder": "​",
            "style": "IPY_MODEL_e6f98082a67646158b8d3e36f9de5115",
            "value": ""
          }
        },
        "d42cbd433408441ead2be0400c5d97c7": {
          "model_module": "@jupyter-widgets/base",
          "model_module_version": "1.2.0",
          "model_name": "LayoutModel",
          "state": {
            "_model_module": "@jupyter-widgets/base",
            "_model_module_version": "1.2.0",
            "_model_name": "LayoutModel",
            "_view_count": null,
            "_view_module": "@jupyter-widgets/base",
            "_view_module_version": "1.2.0",
            "_view_name": "LayoutView",
            "align_content": null,
            "align_items": null,
            "align_self": null,
            "border": null,
            "bottom": null,
            "display": null,
            "flex": null,
            "flex_flow": null,
            "grid_area": null,
            "grid_auto_columns": null,
            "grid_auto_flow": null,
            "grid_auto_rows": null,
            "grid_column": null,
            "grid_gap": null,
            "grid_row": null,
            "grid_template_areas": null,
            "grid_template_columns": null,
            "grid_template_rows": null,
            "height": null,
            "justify_content": null,
            "justify_items": null,
            "left": null,
            "margin": null,
            "max_height": null,
            "max_width": null,
            "min_height": null,
            "min_width": null,
            "object_fit": null,
            "object_position": null,
            "order": null,
            "overflow": null,
            "overflow_x": null,
            "overflow_y": null,
            "padding": null,
            "right": null,
            "top": null,
            "visibility": null,
            "width": "20px"
          }
        },
        "d7934693aa974d6781b84f71bac59e71": {
          "model_module": "@jupyter-widgets/base",
          "model_module_version": "1.2.0",
          "model_name": "LayoutModel",
          "state": {
            "_model_module": "@jupyter-widgets/base",
            "_model_module_version": "1.2.0",
            "_model_name": "LayoutModel",
            "_view_count": null,
            "_view_module": "@jupyter-widgets/base",
            "_view_module_version": "1.2.0",
            "_view_name": "LayoutView",
            "align_content": null,
            "align_items": null,
            "align_self": null,
            "border": null,
            "bottom": null,
            "display": null,
            "flex": null,
            "flex_flow": null,
            "grid_area": null,
            "grid_auto_columns": null,
            "grid_auto_flow": null,
            "grid_auto_rows": null,
            "grid_column": null,
            "grid_gap": null,
            "grid_row": null,
            "grid_template_areas": null,
            "grid_template_columns": null,
            "grid_template_rows": null,
            "height": null,
            "justify_content": null,
            "justify_items": null,
            "left": null,
            "margin": null,
            "max_height": null,
            "max_width": null,
            "min_height": null,
            "min_width": null,
            "object_fit": null,
            "object_position": null,
            "order": null,
            "overflow": null,
            "overflow_x": null,
            "overflow_y": null,
            "padding": null,
            "right": null,
            "top": null,
            "visibility": null,
            "width": null
          }
        },
        "da8639f433da4cefa2affd438ac18c89": {
          "model_module": "@jupyter-widgets/base",
          "model_module_version": "1.2.0",
          "model_name": "LayoutModel",
          "state": {
            "_model_module": "@jupyter-widgets/base",
            "_model_module_version": "1.2.0",
            "_model_name": "LayoutModel",
            "_view_count": null,
            "_view_module": "@jupyter-widgets/base",
            "_view_module_version": "1.2.0",
            "_view_name": "LayoutView",
            "align_content": null,
            "align_items": null,
            "align_self": null,
            "border": null,
            "bottom": null,
            "display": null,
            "flex": null,
            "flex_flow": null,
            "grid_area": null,
            "grid_auto_columns": null,
            "grid_auto_flow": null,
            "grid_auto_rows": null,
            "grid_column": null,
            "grid_gap": null,
            "grid_row": null,
            "grid_template_areas": null,
            "grid_template_columns": null,
            "grid_template_rows": null,
            "height": null,
            "justify_content": null,
            "justify_items": null,
            "left": null,
            "margin": null,
            "max_height": null,
            "max_width": null,
            "min_height": null,
            "min_width": null,
            "object_fit": null,
            "object_position": null,
            "order": null,
            "overflow": null,
            "overflow_x": null,
            "overflow_y": null,
            "padding": null,
            "right": null,
            "top": null,
            "visibility": null,
            "width": null
          }
        },
        "dab4414a1d4a4e94a4845dd9dcc5783a": {
          "model_module": "@jupyter-widgets/base",
          "model_module_version": "1.2.0",
          "model_name": "LayoutModel",
          "state": {
            "_model_module": "@jupyter-widgets/base",
            "_model_module_version": "1.2.0",
            "_model_name": "LayoutModel",
            "_view_count": null,
            "_view_module": "@jupyter-widgets/base",
            "_view_module_version": "1.2.0",
            "_view_name": "LayoutView",
            "align_content": null,
            "align_items": null,
            "align_self": null,
            "border": null,
            "bottom": null,
            "display": null,
            "flex": null,
            "flex_flow": null,
            "grid_area": null,
            "grid_auto_columns": null,
            "grid_auto_flow": null,
            "grid_auto_rows": null,
            "grid_column": null,
            "grid_gap": null,
            "grid_row": null,
            "grid_template_areas": null,
            "grid_template_columns": null,
            "grid_template_rows": null,
            "height": null,
            "justify_content": null,
            "justify_items": null,
            "left": null,
            "margin": null,
            "max_height": null,
            "max_width": null,
            "min_height": null,
            "min_width": null,
            "object_fit": null,
            "object_position": null,
            "order": null,
            "overflow": null,
            "overflow_x": null,
            "overflow_y": null,
            "padding": null,
            "right": null,
            "top": null,
            "visibility": "hidden",
            "width": null
          }
        },
        "dba9c380625243a6a7f90c8914ff9455": {
          "model_module": "@jupyter-widgets/base",
          "model_module_version": "1.2.0",
          "model_name": "LayoutModel",
          "state": {
            "_model_module": "@jupyter-widgets/base",
            "_model_module_version": "1.2.0",
            "_model_name": "LayoutModel",
            "_view_count": null,
            "_view_module": "@jupyter-widgets/base",
            "_view_module_version": "1.2.0",
            "_view_name": "LayoutView",
            "align_content": null,
            "align_items": null,
            "align_self": null,
            "border": null,
            "bottom": null,
            "display": null,
            "flex": null,
            "flex_flow": null,
            "grid_area": null,
            "grid_auto_columns": null,
            "grid_auto_flow": null,
            "grid_auto_rows": null,
            "grid_column": null,
            "grid_gap": null,
            "grid_row": null,
            "grid_template_areas": null,
            "grid_template_columns": null,
            "grid_template_rows": null,
            "height": null,
            "justify_content": null,
            "justify_items": null,
            "left": null,
            "margin": null,
            "max_height": null,
            "max_width": null,
            "min_height": null,
            "min_width": null,
            "object_fit": null,
            "object_position": null,
            "order": null,
            "overflow": null,
            "overflow_x": null,
            "overflow_y": null,
            "padding": null,
            "right": null,
            "top": null,
            "visibility": null,
            "width": null
          }
        },
        "dbd4a1e0b6264c34b87a15b73a522d92": {
          "model_module": "@jupyter-widgets/controls",
          "model_module_version": "1.5.0",
          "model_name": "FloatProgressModel",
          "state": {
            "_dom_classes": [],
            "_model_module": "@jupyter-widgets/controls",
            "_model_module_version": "1.5.0",
            "_model_name": "FloatProgressModel",
            "_view_count": null,
            "_view_module": "@jupyter-widgets/controls",
            "_view_module_version": "1.5.0",
            "_view_name": "ProgressView",
            "bar_style": "success",
            "description": "",
            "description_tooltip": null,
            "layout": "IPY_MODEL_66d5b61e23dc4651903c0d32d7694a33",
            "max": 1,
            "min": 0,
            "orientation": "horizontal",
            "style": "IPY_MODEL_369c2fa2af714df99e5113fddfe81a36",
            "value": 1
          }
        },
        "dc79c99877844fc3b5eb05be646c495f": {
          "model_module": "@jupyter-widgets/controls",
          "model_module_version": "1.5.0",
          "model_name": "HBoxModel",
          "state": {
            "_dom_classes": [],
            "_model_module": "@jupyter-widgets/controls",
            "_model_module_version": "1.5.0",
            "_model_name": "HBoxModel",
            "_view_count": null,
            "_view_module": "@jupyter-widgets/controls",
            "_view_module_version": "1.5.0",
            "_view_name": "HBoxView",
            "box_style": "",
            "children": [
              "IPY_MODEL_9424cc47106a455ab18c0870d046ce9f",
              "IPY_MODEL_b8c9bc669d8c4651882c214aafb0548e",
              "IPY_MODEL_ddb52ffa6f634053927e93f997337419"
            ],
            "layout": "IPY_MODEL_b2310446607e44f5b8e38862581b510a"
          }
        },
        "ddb52ffa6f634053927e93f997337419": {
          "model_module": "@jupyter-widgets/controls",
          "model_module_version": "1.5.0",
          "model_name": "HTMLModel",
          "state": {
            "_dom_classes": [],
            "_model_module": "@jupyter-widgets/controls",
            "_model_module_version": "1.5.0",
            "_model_name": "HTMLModel",
            "_view_count": null,
            "_view_module": "@jupyter-widgets/controls",
            "_view_module_version": "1.5.0",
            "_view_name": "HTMLView",
            "description": "",
            "description_tooltip": null,
            "layout": "IPY_MODEL_89e51090498545259c216a5a1b59072f",
            "placeholder": "​",
            "style": "IPY_MODEL_489bec937040484ea1164c317f07a4ad",
            "value": " 869M/869M [00:47&lt;00:00, 35.4MB/s]"
          }
        },
        "e2df8e697e9c4f64a2bba0b6de2e8d49": {
          "model_module": "@jupyter-widgets/controls",
          "model_module_version": "1.5.0",
          "model_name": "HBoxModel",
          "state": {
            "_dom_classes": [],
            "_model_module": "@jupyter-widgets/controls",
            "_model_module_version": "1.5.0",
            "_model_name": "HBoxModel",
            "_view_count": null,
            "_view_module": "@jupyter-widgets/controls",
            "_view_module_version": "1.5.0",
            "_view_name": "HBoxView",
            "box_style": "",
            "children": [
              "IPY_MODEL_334975266d804748874f5d5621af50ba",
              "IPY_MODEL_ab4a2cca2b404d25b2cda485c7c28077",
              "IPY_MODEL_c781acd05e244750a8084992acc4ac2c"
            ],
            "layout": "IPY_MODEL_1cb0c8f214cc4de791e49af3c793380a"
          }
        },
        "e57c5cbc0380464994c4a5b42de76c66": {
          "model_module": "@jupyter-widgets/controls",
          "model_module_version": "1.5.0",
          "model_name": "HBoxModel",
          "state": {
            "_dom_classes": [],
            "_model_module": "@jupyter-widgets/controls",
            "_model_module_version": "1.5.0",
            "_model_name": "HBoxModel",
            "_view_count": null,
            "_view_module": "@jupyter-widgets/controls",
            "_view_module_version": "1.5.0",
            "_view_name": "HBoxView",
            "box_style": "",
            "children": [
              "IPY_MODEL_47d42cc391cd46049052a802e46364b6",
              "IPY_MODEL_2a49340e51fc4054a2616d1990109d7c",
              "IPY_MODEL_5c09a1875b4f4cc2b3cf64a52b4fd8b8"
            ],
            "layout": "IPY_MODEL_7664d4cd39254acfb97b63a3331c8b25"
          }
        },
        "e610d02445bd4e5e9b4783658f058147": {
          "model_module": "@jupyter-widgets/controls",
          "model_module_version": "1.5.0",
          "model_name": "FloatProgressModel",
          "state": {
            "_dom_classes": [],
            "_model_module": "@jupyter-widgets/controls",
            "_model_module_version": "1.5.0",
            "_model_name": "FloatProgressModel",
            "_view_count": null,
            "_view_module": "@jupyter-widgets/controls",
            "_view_module_version": "1.5.0",
            "_view_name": "ProgressView",
            "bar_style": "success",
            "description": "",
            "description_tooltip": null,
            "layout": "IPY_MODEL_41761888fc3547bf81907d84c07cd964",
            "max": 380267417,
            "min": 0,
            "orientation": "horizontal",
            "style": "IPY_MODEL_d2174b1613f54697a70a519f40b5aee8",
            "value": 380267417
          }
        },
        "e6f98082a67646158b8d3e36f9de5115": {
          "model_module": "@jupyter-widgets/controls",
          "model_module_version": "1.5.0",
          "model_name": "DescriptionStyleModel",
          "state": {
            "_model_module": "@jupyter-widgets/controls",
            "_model_module_version": "1.5.0",
            "_model_name": "DescriptionStyleModel",
            "_view_count": null,
            "_view_module": "@jupyter-widgets/base",
            "_view_module_version": "1.2.0",
            "_view_name": "StyleView",
            "description_width": ""
          }
        },
        "ea0718a03fa84612a83032464c755bde": {
          "model_module": "@jupyter-widgets/controls",
          "model_module_version": "1.5.0",
          "model_name": "ButtonStyleModel",
          "state": {
            "_model_module": "@jupyter-widgets/controls",
            "_model_module_version": "1.5.0",
            "_model_name": "ButtonStyleModel",
            "_view_count": null,
            "_view_module": "@jupyter-widgets/base",
            "_view_module_version": "1.2.0",
            "_view_name": "StyleView",
            "button_color": null,
            "font_weight": ""
          }
        },
        "ed33c55d50234c32b15798b747153ad2": {
          "model_module": "@jupyter-widgets/controls",
          "model_module_version": "1.5.0",
          "model_name": "HTMLModel",
          "state": {
            "_dom_classes": [],
            "_model_module": "@jupyter-widgets/controls",
            "_model_module_version": "1.5.0",
            "_model_name": "HTMLModel",
            "_view_count": null,
            "_view_module": "@jupyter-widgets/controls",
            "_view_module_version": "1.5.0",
            "_view_name": "HTMLView",
            "description": "",
            "description_tooltip": null,
            "layout": "IPY_MODEL_8991f9f2abeb49e2bd10caf24403f472",
            "placeholder": "​",
            "style": "IPY_MODEL_ae9d87d903c4420db700f043fe197154",
            "value": "\n<b>Pro Tip:</b> If you don't already have one, you can create a dedicated\n'notebooks' token with 'write' access, that you can then easily reuse for all\nnotebooks. </center>"
          }
        },
        "ed4a76509a9e43a285bed77e8415e170": {
          "model_module": "@jupyter-widgets/base",
          "model_module_version": "1.2.0",
          "model_name": "LayoutModel",
          "state": {
            "_model_module": "@jupyter-widgets/base",
            "_model_module_version": "1.2.0",
            "_model_name": "LayoutModel",
            "_view_count": null,
            "_view_module": "@jupyter-widgets/base",
            "_view_module_version": "1.2.0",
            "_view_name": "LayoutView",
            "align_content": null,
            "align_items": "center",
            "align_self": null,
            "border": null,
            "bottom": null,
            "display": "flex",
            "flex": null,
            "flex_flow": "column",
            "grid_area": null,
            "grid_auto_columns": null,
            "grid_auto_flow": null,
            "grid_auto_rows": null,
            "grid_column": null,
            "grid_gap": null,
            "grid_row": null,
            "grid_template_areas": null,
            "grid_template_columns": null,
            "grid_template_rows": null,
            "height": null,
            "justify_content": null,
            "justify_items": null,
            "left": null,
            "margin": null,
            "max_height": null,
            "max_width": null,
            "min_height": null,
            "min_width": null,
            "object_fit": null,
            "object_position": null,
            "order": null,
            "overflow": null,
            "overflow_x": null,
            "overflow_y": null,
            "padding": null,
            "right": null,
            "top": null,
            "visibility": null,
            "width": "50%"
          }
        },
        "f20725df466c4b8b9bc96fce2d1c6ff8": {
          "model_module": "@jupyter-widgets/controls",
          "model_module_version": "1.5.0",
          "model_name": "ProgressStyleModel",
          "state": {
            "_model_module": "@jupyter-widgets/controls",
            "_model_module_version": "1.5.0",
            "_model_name": "ProgressStyleModel",
            "_view_count": null,
            "_view_module": "@jupyter-widgets/base",
            "_view_module_version": "1.2.0",
            "_view_name": "StyleView",
            "bar_color": null,
            "description_width": ""
          }
        },
        "f261eb96f32540b7aba59bf5707bee6f": {
          "model_module": "@jupyter-widgets/controls",
          "model_module_version": "1.5.0",
          "model_name": "FloatProgressModel",
          "state": {
            "_dom_classes": [],
            "_model_module": "@jupyter-widgets/controls",
            "_model_module_version": "1.5.0",
            "_model_name": "FloatProgressModel",
            "_view_count": null,
            "_view_module": "@jupyter-widgets/controls",
            "_view_module_version": "1.5.0",
            "_view_name": "ProgressView",
            "bar_style": "success",
            "description": "",
            "description_tooltip": null,
            "layout": "IPY_MODEL_8539d6c12248447fa989335fb92a348f",
            "max": 2403,
            "min": 0,
            "orientation": "horizontal",
            "style": "IPY_MODEL_f20725df466c4b8b9bc96fce2d1c6ff8",
            "value": 2403
          }
        },
        "f2f1d919308042c4b730658cee357374": {
          "model_module": "@jupyter-widgets/controls",
          "model_module_version": "1.5.0",
          "model_name": "HTMLModel",
          "state": {
            "_dom_classes": [],
            "_model_module": "@jupyter-widgets/controls",
            "_model_module_version": "1.5.0",
            "_model_name": "HTMLModel",
            "_view_count": null,
            "_view_module": "@jupyter-widgets/controls",
            "_view_module_version": "1.5.0",
            "_view_name": "HTMLView",
            "description": "",
            "description_tooltip": null,
            "layout": "IPY_MODEL_72ba30f58e904ad786e9f82deabebc75",
            "placeholder": "​",
            "style": "IPY_MODEL_a3f2cbce0fc0419191259ba1735ffa94",
            "value": "Downloading: "
          }
        },
        "f30802e504624b37b3c4a469c5ecaef2": {
          "model_module": "@jupyter-widgets/controls",
          "model_module_version": "1.5.0",
          "model_name": "DescriptionStyleModel",
          "state": {
            "_model_module": "@jupyter-widgets/controls",
            "_model_module_version": "1.5.0",
            "_model_name": "DescriptionStyleModel",
            "_view_count": null,
            "_view_module": "@jupyter-widgets/base",
            "_view_module_version": "1.2.0",
            "_view_name": "StyleView",
            "description_width": ""
          }
        },
        "f49894f74c4242f88b84aea799edb16d": {
          "model_module": "@jupyter-widgets/controls",
          "model_module_version": "1.5.0",
          "model_name": "DescriptionStyleModel",
          "state": {
            "_model_module": "@jupyter-widgets/controls",
            "_model_module_version": "1.5.0",
            "_model_name": "DescriptionStyleModel",
            "_view_count": null,
            "_view_module": "@jupyter-widgets/base",
            "_view_module_version": "1.2.0",
            "_view_name": "StyleView",
            "description_width": ""
          }
        },
        "f4cfe55a73c141ef9b751d0db992d3cf": {
          "model_module": "@jupyter-widgets/controls",
          "model_module_version": "1.5.0",
          "model_name": "ProgressStyleModel",
          "state": {
            "_model_module": "@jupyter-widgets/controls",
            "_model_module_version": "1.5.0",
            "_model_name": "ProgressStyleModel",
            "_view_count": null,
            "_view_module": "@jupyter-widgets/base",
            "_view_module_version": "1.2.0",
            "_view_name": "StyleView",
            "bar_color": null,
            "description_width": ""
          }
        },
        "f5ae3c942bf644c0affadca9a6e6d59b": {
          "model_module": "@jupyter-widgets/controls",
          "model_module_version": "1.5.0",
          "model_name": "DescriptionStyleModel",
          "state": {
            "_model_module": "@jupyter-widgets/controls",
            "_model_module_version": "1.5.0",
            "_model_name": "DescriptionStyleModel",
            "_view_count": null,
            "_view_module": "@jupyter-widgets/base",
            "_view_module_version": "1.2.0",
            "_view_name": "StyleView",
            "description_width": ""
          }
        },
        "fcd185b60d6e4e60a8ab964aac262f73": {
          "model_module": "@jupyter-widgets/base",
          "model_module_version": "1.2.0",
          "model_name": "LayoutModel",
          "state": {
            "_model_module": "@jupyter-widgets/base",
            "_model_module_version": "1.2.0",
            "_model_name": "LayoutModel",
            "_view_count": null,
            "_view_module": "@jupyter-widgets/base",
            "_view_module_version": "1.2.0",
            "_view_name": "LayoutView",
            "align_content": null,
            "align_items": null,
            "align_self": null,
            "border": null,
            "bottom": null,
            "display": null,
            "flex": null,
            "flex_flow": null,
            "grid_area": null,
            "grid_auto_columns": null,
            "grid_auto_flow": null,
            "grid_auto_rows": null,
            "grid_column": null,
            "grid_gap": null,
            "grid_row": null,
            "grid_template_areas": null,
            "grid_template_columns": null,
            "grid_template_rows": null,
            "height": null,
            "justify_content": null,
            "justify_items": null,
            "left": null,
            "margin": null,
            "max_height": null,
            "max_width": null,
            "min_height": null,
            "min_width": null,
            "object_fit": null,
            "object_position": null,
            "order": null,
            "overflow": null,
            "overflow_x": null,
            "overflow_y": null,
            "padding": null,
            "right": null,
            "top": null,
            "visibility": null,
            "width": null
          }
        },
        "fe31c534d6cd46da8b6a640e039a4d6c": {
          "model_module": "@jupyter-widgets/controls",
          "model_module_version": "1.5.0",
          "model_name": "DescriptionStyleModel",
          "state": {
            "_model_module": "@jupyter-widgets/controls",
            "_model_module_version": "1.5.0",
            "_model_name": "DescriptionStyleModel",
            "_view_count": null,
            "_view_module": "@jupyter-widgets/base",
            "_view_module_version": "1.2.0",
            "_view_name": "StyleView",
            "description_width": ""
          }
        }
      }
    }
  },
  "nbformat": 4,
  "nbformat_minor": 0
}
